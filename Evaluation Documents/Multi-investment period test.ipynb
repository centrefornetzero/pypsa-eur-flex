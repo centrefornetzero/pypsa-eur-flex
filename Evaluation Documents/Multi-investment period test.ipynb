{
 "cells": [
  {
   "cell_type": "markdown",
   "id": "875437c6",
   "metadata": {},
   "source": [
    "#Testing the verbatin documentation to see if I can get multiple investment periods"
   ]
  },
  {
   "cell_type": "code",
   "execution_count": 2,
   "id": "6725d50d",
   "metadata": {},
   "outputs": [],
   "source": [
    "#Packages \n",
    "import pypsa\n",
    "import matplotlib.pyplot as plt \n",
    "import cartopy \n",
    "import geopandas\n",
    "import networkx\n",
    "import linopy\n",
    "import cartopy.crs as ccrs\n",
    "import atlite \n",
    "import geopandas as gpd \n",
    "import xarray\n",
    "import pandas as pd \n",
    "from datetime import datetime\n",
    "import numpy as np\n",
    "from pypsa.plot import add_legend_patches\n",
    "import random\n",
    "\n",
    "## Overall view of colors matched to carriers \n",
    "import matplotlib.pyplot as plt\n",
    "from matplotlib.patches import Patch"
   ]
  },
  {
   "cell_type": "code",
   "execution_count": 3,
   "id": "301dba54",
   "metadata": {},
   "outputs": [
    {
     "name": "stderr",
     "output_type": "stream",
     "text": [
      "/var/folders/_w/ry357l9n0vjg8jgfczvkpk3r0000gn/T/ipykernel_39808/3148991382.py:7: FutureWarning:\n",
      "\n",
      "Non-integer 'periods' in pd.date_range, pd.timedelta_range, pd.period_range, and pd.interval_range are deprecated and will raise in a future version.\n",
      "\n",
      "/var/folders/_w/ry357l9n0vjg8jgfczvkpk3r0000gn/T/ipykernel_39808/3148991382.py:7: FutureWarning:\n",
      "\n",
      "'H' is deprecated and will be removed in a future version, please use 'h' instead.\n",
      "\n"
     ]
    },
    {
     "data": {
      "text/html": [
       "<div>\n",
       "<style scoped>\n",
       "    .dataframe tbody tr th:only-of-type {\n",
       "        vertical-align: middle;\n",
       "    }\n",
       "\n",
       "    .dataframe tbody tr th {\n",
       "        vertical-align: top;\n",
       "    }\n",
       "\n",
       "    .dataframe thead th {\n",
       "        text-align: right;\n",
       "    }\n",
       "</style>\n",
       "<table border=\"1\" class=\"dataframe\">\n",
       "  <thead>\n",
       "    <tr style=\"text-align: right;\">\n",
       "      <th></th>\n",
       "      <th></th>\n",
       "      <th>objective</th>\n",
       "      <th>stores</th>\n",
       "      <th>generators</th>\n",
       "    </tr>\n",
       "    <tr>\n",
       "      <th>period</th>\n",
       "      <th>timestep</th>\n",
       "      <th></th>\n",
       "      <th></th>\n",
       "      <th></th>\n",
       "    </tr>\n",
       "  </thead>\n",
       "  <tbody>\n",
       "    <tr>\n",
       "      <th rowspan=\"5\" valign=\"top\">2020</th>\n",
       "      <th>2020-01-01</th>\n",
       "      <td>1.0</td>\n",
       "      <td>1.0</td>\n",
       "      <td>1.0</td>\n",
       "    </tr>\n",
       "    <tr>\n",
       "      <th>2020-01-02</th>\n",
       "      <td>1.0</td>\n",
       "      <td>1.0</td>\n",
       "      <td>1.0</td>\n",
       "    </tr>\n",
       "    <tr>\n",
       "      <th>2020-01-03</th>\n",
       "      <td>1.0</td>\n",
       "      <td>1.0</td>\n",
       "      <td>1.0</td>\n",
       "    </tr>\n",
       "    <tr>\n",
       "      <th>2020-01-04</th>\n",
       "      <td>1.0</td>\n",
       "      <td>1.0</td>\n",
       "      <td>1.0</td>\n",
       "    </tr>\n",
       "    <tr>\n",
       "      <th>2020-01-05</th>\n",
       "      <td>1.0</td>\n",
       "      <td>1.0</td>\n",
       "      <td>1.0</td>\n",
       "    </tr>\n",
       "    <tr>\n",
       "      <th>...</th>\n",
       "      <th>...</th>\n",
       "      <td>...</td>\n",
       "      <td>...</td>\n",
       "      <td>...</td>\n",
       "    </tr>\n",
       "    <tr>\n",
       "      <th rowspan=\"5\" valign=\"top\">2050</th>\n",
       "      <th>2050-12-27</th>\n",
       "      <td>1.0</td>\n",
       "      <td>1.0</td>\n",
       "      <td>1.0</td>\n",
       "    </tr>\n",
       "    <tr>\n",
       "      <th>2050-12-28</th>\n",
       "      <td>1.0</td>\n",
       "      <td>1.0</td>\n",
       "      <td>1.0</td>\n",
       "    </tr>\n",
       "    <tr>\n",
       "      <th>2050-12-29</th>\n",
       "      <td>1.0</td>\n",
       "      <td>1.0</td>\n",
       "      <td>1.0</td>\n",
       "    </tr>\n",
       "    <tr>\n",
       "      <th>2050-12-30</th>\n",
       "      <td>1.0</td>\n",
       "      <td>1.0</td>\n",
       "      <td>1.0</td>\n",
       "    </tr>\n",
       "    <tr>\n",
       "      <th>2050-12-31</th>\n",
       "      <td>1.0</td>\n",
       "      <td>1.0</td>\n",
       "      <td>1.0</td>\n",
       "    </tr>\n",
       "  </tbody>\n",
       "</table>\n",
       "<p>1460 rows × 3 columns</p>\n",
       "</div>"
      ],
      "text/plain": [
       "                   objective  stores  generators\n",
       "period timestep                                 \n",
       "2020   2020-01-01        1.0     1.0         1.0\n",
       "       2020-01-02        1.0     1.0         1.0\n",
       "       2020-01-03        1.0     1.0         1.0\n",
       "       2020-01-04        1.0     1.0         1.0\n",
       "       2020-01-05        1.0     1.0         1.0\n",
       "...                      ...     ...         ...\n",
       "2050   2050-12-27        1.0     1.0         1.0\n",
       "       2050-12-28        1.0     1.0         1.0\n",
       "       2050-12-29        1.0     1.0         1.0\n",
       "       2050-12-30        1.0     1.0         1.0\n",
       "       2050-12-31        1.0     1.0         1.0\n",
       "\n",
       "[1460 rows x 3 columns]"
      ]
     },
     "execution_count": 3,
     "metadata": {},
     "output_type": "execute_result"
    }
   ],
   "source": [
    "n = pypsa.Network()\n",
    "years = [2020, 2030, 2040, 2050]\n",
    "freq = \"24\"\n",
    "\n",
    "snapshots = pd.DatetimeIndex([])\n",
    "for year in years:\n",
    "    period = pd.date_range(\n",
    "        start=\"{}-01-01 00:00\".format(year),\n",
    "        freq=\"{}H\".format(freq),\n",
    "        periods=8760 / float(freq),\n",
    "    )\n",
    "    snapshots = snapshots.append(period)\n",
    "\n",
    "# convert to multiindex and assign to network\n",
    "n.snapshots = pd.MultiIndex.from_arrays([snapshots.year, snapshots])\n",
    "n.investment_periods = years\n",
    "\n",
    "n.snapshot_weightings"
   ]
  },
  {
   "cell_type": "code",
   "execution_count": 4,
   "id": "9df79289",
   "metadata": {},
   "outputs": [
    {
     "data": {
      "text/plain": [
       "Index([2020, 2030, 2040, 2050], dtype='int32', name='period')"
      ]
     },
     "execution_count": 4,
     "metadata": {},
     "output_type": "execute_result"
    }
   ],
   "source": [
    "n.investment_periods"
   ]
  },
  {
   "cell_type": "markdown",
   "id": "3a8af1df",
   "metadata": {},
   "source": []
  },
  {
   "cell_type": "code",
   "execution_count": 5,
   "id": "6661b53d",
   "metadata": {},
   "outputs": [
    {
     "data": {
      "text/html": [
       "<div>\n",
       "<style scoped>\n",
       "    .dataframe tbody tr th:only-of-type {\n",
       "        vertical-align: middle;\n",
       "    }\n",
       "\n",
       "    .dataframe tbody tr th {\n",
       "        vertical-align: top;\n",
       "    }\n",
       "\n",
       "    .dataframe thead th {\n",
       "        text-align: right;\n",
       "    }\n",
       "</style>\n",
       "<table border=\"1\" class=\"dataframe\">\n",
       "  <thead>\n",
       "    <tr style=\"text-align: right;\">\n",
       "      <th></th>\n",
       "      <th>objective</th>\n",
       "      <th>years</th>\n",
       "    </tr>\n",
       "    <tr>\n",
       "      <th>period</th>\n",
       "      <th></th>\n",
       "      <th></th>\n",
       "    </tr>\n",
       "  </thead>\n",
       "  <tbody>\n",
       "    <tr>\n",
       "      <th>2020</th>\n",
       "      <td>9.566018</td>\n",
       "      <td>10</td>\n",
       "    </tr>\n",
       "    <tr>\n",
       "      <th>2030</th>\n",
       "      <td>8.659991</td>\n",
       "      <td>10</td>\n",
       "    </tr>\n",
       "    <tr>\n",
       "      <th>2040</th>\n",
       "      <td>7.839777</td>\n",
       "      <td>10</td>\n",
       "    </tr>\n",
       "    <tr>\n",
       "      <th>2050</th>\n",
       "      <td>7.097248</td>\n",
       "      <td>10</td>\n",
       "    </tr>\n",
       "  </tbody>\n",
       "</table>\n",
       "</div>"
      ],
      "text/plain": [
       "        objective  years\n",
       "period                  \n",
       "2020     9.566018     10\n",
       "2030     8.659991     10\n",
       "2040     7.839777     10\n",
       "2050     7.097248     10"
      ]
     },
     "execution_count": 5,
     "metadata": {},
     "output_type": "execute_result"
    }
   ],
   "source": [
    "n.investment_period_weightings[\"years\"] = list(np.diff(years)) + [10]\n",
    "\n",
    "r = 0.01\n",
    "T = 0\n",
    "for period, nyears in n.investment_period_weightings.years.items():\n",
    "    discounts = [(1 / (1 + r) ** t) for t in range(T, T + nyears)]\n",
    "    n.investment_period_weightings.at[period, \"objective\"] = sum(discounts)\n",
    "    T += nyears\n",
    "n.investment_period_weightings"
   ]
  },
  {
   "cell_type": "code",
   "execution_count": 6,
   "id": "2da45ae8",
   "metadata": {},
   "outputs": [],
   "source": [
    "for i in range(3):\n",
    "    n.add(\"Bus\", \"bus {}\".format(i))\n",
    "\n",
    "# add three lines in a ring\n",
    "n.add(\n",
    "    \"Line\",\n",
    "    \"line 0->1\",\n",
    "    bus0=\"bus 0\",\n",
    "    bus1=\"bus 1\",\n",
    ")\n",
    "\n",
    "n.add(\n",
    "    \"Line\",\n",
    "    \"line 1->2\",\n",
    "    bus0=\"bus 1\",\n",
    "    bus1=\"bus 2\",\n",
    "    capital_cost=10,\n",
    "    build_year=2030,\n",
    ")\n",
    "\n",
    "n.add(\n",
    "    \"Line\",\n",
    "    \"line 2->0\",\n",
    "    bus0=\"bus 2\",\n",
    "    bus1=\"bus 0\",\n",
    ")\n",
    "\n",
    "n.lines[\"x\"] = 0.0001\n",
    "n.lines[\"s_nom_extendable\"] = True"
   ]
  },
  {
   "cell_type": "code",
   "execution_count": 7,
   "id": "02355166",
   "metadata": {},
   "outputs": [
    {
     "data": {
      "text/html": [
       "<div>\n",
       "<style scoped>\n",
       "    .dataframe tbody tr th:only-of-type {\n",
       "        vertical-align: middle;\n",
       "    }\n",
       "\n",
       "    .dataframe tbody tr th {\n",
       "        vertical-align: top;\n",
       "    }\n",
       "\n",
       "    .dataframe thead th {\n",
       "        text-align: right;\n",
       "    }\n",
       "</style>\n",
       "<table border=\"1\" class=\"dataframe\">\n",
       "  <thead>\n",
       "    <tr style=\"text-align: right;\">\n",
       "      <th></th>\n",
       "      <th>bus0</th>\n",
       "      <th>bus1</th>\n",
       "      <th>type</th>\n",
       "      <th>x</th>\n",
       "      <th>r</th>\n",
       "      <th>g</th>\n",
       "      <th>b</th>\n",
       "      <th>s_nom</th>\n",
       "      <th>s_nom_mod</th>\n",
       "      <th>s_nom_extendable</th>\n",
       "      <th>...</th>\n",
       "      <th>v_ang_min</th>\n",
       "      <th>v_ang_max</th>\n",
       "      <th>sub_network</th>\n",
       "      <th>x_pu</th>\n",
       "      <th>r_pu</th>\n",
       "      <th>g_pu</th>\n",
       "      <th>b_pu</th>\n",
       "      <th>x_pu_eff</th>\n",
       "      <th>r_pu_eff</th>\n",
       "      <th>s_nom_opt</th>\n",
       "    </tr>\n",
       "    <tr>\n",
       "      <th>Line</th>\n",
       "      <th></th>\n",
       "      <th></th>\n",
       "      <th></th>\n",
       "      <th></th>\n",
       "      <th></th>\n",
       "      <th></th>\n",
       "      <th></th>\n",
       "      <th></th>\n",
       "      <th></th>\n",
       "      <th></th>\n",
       "      <th></th>\n",
       "      <th></th>\n",
       "      <th></th>\n",
       "      <th></th>\n",
       "      <th></th>\n",
       "      <th></th>\n",
       "      <th></th>\n",
       "      <th></th>\n",
       "      <th></th>\n",
       "      <th></th>\n",
       "      <th></th>\n",
       "    </tr>\n",
       "  </thead>\n",
       "  <tbody>\n",
       "    <tr>\n",
       "      <th>line 0-&gt;1</th>\n",
       "      <td>bus 0</td>\n",
       "      <td>bus 1</td>\n",
       "      <td></td>\n",
       "      <td>0.0001</td>\n",
       "      <td>0.0</td>\n",
       "      <td>0.0</td>\n",
       "      <td>0.0</td>\n",
       "      <td>0.0</td>\n",
       "      <td>0.0</td>\n",
       "      <td>True</td>\n",
       "      <td>...</td>\n",
       "      <td>-inf</td>\n",
       "      <td>inf</td>\n",
       "      <td></td>\n",
       "      <td>0.0</td>\n",
       "      <td>0.0</td>\n",
       "      <td>0.0</td>\n",
       "      <td>0.0</td>\n",
       "      <td>0.0</td>\n",
       "      <td>0.0</td>\n",
       "      <td>0.0</td>\n",
       "    </tr>\n",
       "    <tr>\n",
       "      <th>line 1-&gt;2</th>\n",
       "      <td>bus 1</td>\n",
       "      <td>bus 2</td>\n",
       "      <td></td>\n",
       "      <td>0.0001</td>\n",
       "      <td>0.0</td>\n",
       "      <td>0.0</td>\n",
       "      <td>0.0</td>\n",
       "      <td>0.0</td>\n",
       "      <td>0.0</td>\n",
       "      <td>True</td>\n",
       "      <td>...</td>\n",
       "      <td>-inf</td>\n",
       "      <td>inf</td>\n",
       "      <td></td>\n",
       "      <td>0.0</td>\n",
       "      <td>0.0</td>\n",
       "      <td>0.0</td>\n",
       "      <td>0.0</td>\n",
       "      <td>0.0</td>\n",
       "      <td>0.0</td>\n",
       "      <td>0.0</td>\n",
       "    </tr>\n",
       "    <tr>\n",
       "      <th>line 2-&gt;0</th>\n",
       "      <td>bus 2</td>\n",
       "      <td>bus 0</td>\n",
       "      <td></td>\n",
       "      <td>0.0001</td>\n",
       "      <td>0.0</td>\n",
       "      <td>0.0</td>\n",
       "      <td>0.0</td>\n",
       "      <td>0.0</td>\n",
       "      <td>0.0</td>\n",
       "      <td>True</td>\n",
       "      <td>...</td>\n",
       "      <td>-inf</td>\n",
       "      <td>inf</td>\n",
       "      <td></td>\n",
       "      <td>0.0</td>\n",
       "      <td>0.0</td>\n",
       "      <td>0.0</td>\n",
       "      <td>0.0</td>\n",
       "      <td>0.0</td>\n",
       "      <td>0.0</td>\n",
       "      <td>0.0</td>\n",
       "    </tr>\n",
       "  </tbody>\n",
       "</table>\n",
       "<p>3 rows × 31 columns</p>\n",
       "</div>"
      ],
      "text/plain": [
       "            bus0   bus1 type       x    r    g    b  s_nom  s_nom_mod  \\\n",
       "Line                                                                    \n",
       "line 0->1  bus 0  bus 1       0.0001  0.0  0.0  0.0    0.0        0.0   \n",
       "line 1->2  bus 1  bus 2       0.0001  0.0  0.0  0.0    0.0        0.0   \n",
       "line 2->0  bus 2  bus 0       0.0001  0.0  0.0  0.0    0.0        0.0   \n",
       "\n",
       "           s_nom_extendable  ...  v_ang_min  v_ang_max  sub_network  x_pu  \\\n",
       "Line                         ...                                            \n",
       "line 0->1              True  ...       -inf        inf                0.0   \n",
       "line 1->2              True  ...       -inf        inf                0.0   \n",
       "line 2->0              True  ...       -inf        inf                0.0   \n",
       "\n",
       "           r_pu  g_pu  b_pu  x_pu_eff r_pu_eff  s_nom_opt  \n",
       "Line                                                       \n",
       "line 0->1   0.0   0.0   0.0       0.0      0.0        0.0  \n",
       "line 1->2   0.0   0.0   0.0       0.0      0.0        0.0  \n",
       "line 2->0   0.0   0.0   0.0       0.0      0.0        0.0  \n",
       "\n",
       "[3 rows x 31 columns]"
      ]
     },
     "execution_count": 7,
     "metadata": {},
     "output_type": "execute_result"
    }
   ],
   "source": [
    "n.lines "
   ]
  },
  {
   "cell_type": "code",
   "execution_count": 8,
   "id": "a7945ba0",
   "metadata": {},
   "outputs": [
    {
     "data": {
      "text/html": [
       "<div>\n",
       "<style scoped>\n",
       "    .dataframe tbody tr th:only-of-type {\n",
       "        vertical-align: middle;\n",
       "    }\n",
       "\n",
       "    .dataframe tbody tr th {\n",
       "        vertical-align: top;\n",
       "    }\n",
       "\n",
       "    .dataframe thead th {\n",
       "        text-align: right;\n",
       "    }\n",
       "</style>\n",
       "<table border=\"1\" class=\"dataframe\">\n",
       "  <thead>\n",
       "    <tr style=\"text-align: right;\">\n",
       "      <th></th>\n",
       "      <th>bus</th>\n",
       "      <th>control</th>\n",
       "      <th>type</th>\n",
       "      <th>p_nom</th>\n",
       "      <th>p_nom_mod</th>\n",
       "      <th>p_nom_extendable</th>\n",
       "      <th>p_nom_min</th>\n",
       "      <th>p_nom_max</th>\n",
       "      <th>p_min_pu</th>\n",
       "      <th>p_max_pu</th>\n",
       "      <th>...</th>\n",
       "      <th>min_up_time</th>\n",
       "      <th>min_down_time</th>\n",
       "      <th>up_time_before</th>\n",
       "      <th>down_time_before</th>\n",
       "      <th>ramp_limit_up</th>\n",
       "      <th>ramp_limit_down</th>\n",
       "      <th>ramp_limit_start_up</th>\n",
       "      <th>ramp_limit_shut_down</th>\n",
       "      <th>weight</th>\n",
       "      <th>p_nom_opt</th>\n",
       "    </tr>\n",
       "    <tr>\n",
       "      <th>Generator</th>\n",
       "      <th></th>\n",
       "      <th></th>\n",
       "      <th></th>\n",
       "      <th></th>\n",
       "      <th></th>\n",
       "      <th></th>\n",
       "      <th></th>\n",
       "      <th></th>\n",
       "      <th></th>\n",
       "      <th></th>\n",
       "      <th></th>\n",
       "      <th></th>\n",
       "      <th></th>\n",
       "      <th></th>\n",
       "      <th></th>\n",
       "      <th></th>\n",
       "      <th></th>\n",
       "      <th></th>\n",
       "      <th></th>\n",
       "      <th></th>\n",
       "      <th></th>\n",
       "    </tr>\n",
       "  </thead>\n",
       "  <tbody>\n",
       "    <tr>\n",
       "      <th>generator ext 0 2020</th>\n",
       "      <td>bus 0</td>\n",
       "      <td>PQ</td>\n",
       "      <td></td>\n",
       "      <td>50.0</td>\n",
       "      <td>0.0</td>\n",
       "      <td>True</td>\n",
       "      <td>0.0</td>\n",
       "      <td>inf</td>\n",
       "      <td>0.0</td>\n",
       "      <td>1.0</td>\n",
       "      <td>...</td>\n",
       "      <td>0</td>\n",
       "      <td>0</td>\n",
       "      <td>1</td>\n",
       "      <td>0</td>\n",
       "      <td>NaN</td>\n",
       "      <td>NaN</td>\n",
       "      <td>1.0</td>\n",
       "      <td>1.0</td>\n",
       "      <td>1.0</td>\n",
       "      <td>0.0</td>\n",
       "    </tr>\n",
       "    <tr>\n",
       "      <th>generator ext 0 2040</th>\n",
       "      <td>bus 0</td>\n",
       "      <td>PQ</td>\n",
       "      <td></td>\n",
       "      <td>50.0</td>\n",
       "      <td>0.0</td>\n",
       "      <td>True</td>\n",
       "      <td>0.0</td>\n",
       "      <td>inf</td>\n",
       "      <td>0.0</td>\n",
       "      <td>1.0</td>\n",
       "      <td>...</td>\n",
       "      <td>0</td>\n",
       "      <td>0</td>\n",
       "      <td>1</td>\n",
       "      <td>0</td>\n",
       "      <td>NaN</td>\n",
       "      <td>NaN</td>\n",
       "      <td>1.0</td>\n",
       "      <td>1.0</td>\n",
       "      <td>1.0</td>\n",
       "      <td>0.0</td>\n",
       "    </tr>\n",
       "    <tr>\n",
       "      <th>generator fix 1 2040</th>\n",
       "      <td>bus 1</td>\n",
       "      <td>PQ</td>\n",
       "      <td></td>\n",
       "      <td>50.0</td>\n",
       "      <td>0.0</td>\n",
       "      <td>False</td>\n",
       "      <td>0.0</td>\n",
       "      <td>inf</td>\n",
       "      <td>0.0</td>\n",
       "      <td>1.0</td>\n",
       "      <td>...</td>\n",
       "      <td>0</td>\n",
       "      <td>0</td>\n",
       "      <td>1</td>\n",
       "      <td>0</td>\n",
       "      <td>NaN</td>\n",
       "      <td>NaN</td>\n",
       "      <td>1.0</td>\n",
       "      <td>1.0</td>\n",
       "      <td>1.0</td>\n",
       "      <td>0.0</td>\n",
       "    </tr>\n",
       "  </tbody>\n",
       "</table>\n",
       "<p>3 rows × 37 columns</p>\n",
       "</div>"
      ],
      "text/plain": [
       "                        bus control type  p_nom  p_nom_mod  p_nom_extendable  \\\n",
       "Generator                                                                      \n",
       "generator ext 0 2020  bus 0      PQ        50.0        0.0              True   \n",
       "generator ext 0 2040  bus 0      PQ        50.0        0.0              True   \n",
       "generator fix 1 2040  bus 1      PQ        50.0        0.0             False   \n",
       "\n",
       "                      p_nom_min  p_nom_max  p_min_pu  p_max_pu  ...  \\\n",
       "Generator                                                       ...   \n",
       "generator ext 0 2020        0.0        inf       0.0       1.0  ...   \n",
       "generator ext 0 2040        0.0        inf       0.0       1.0  ...   \n",
       "generator fix 1 2040        0.0        inf       0.0       1.0  ...   \n",
       "\n",
       "                      min_up_time  min_down_time  up_time_before  \\\n",
       "Generator                                                          \n",
       "generator ext 0 2020            0              0               1   \n",
       "generator ext 0 2040            0              0               1   \n",
       "generator fix 1 2040            0              0               1   \n",
       "\n",
       "                      down_time_before  ramp_limit_up ramp_limit_down  \\\n",
       "Generator                                                               \n",
       "generator ext 0 2020                 0            NaN             NaN   \n",
       "generator ext 0 2040                 0            NaN             NaN   \n",
       "generator fix 1 2040                 0            NaN             NaN   \n",
       "\n",
       "                      ramp_limit_start_up  ramp_limit_shut_down  weight  \\\n",
       "Generator                                                                 \n",
       "generator ext 0 2020                  1.0                   1.0     1.0   \n",
       "generator ext 0 2040                  1.0                   1.0     1.0   \n",
       "generator fix 1 2040                  1.0                   1.0     1.0   \n",
       "\n",
       "                      p_nom_opt  \n",
       "Generator                        \n",
       "generator ext 0 2020        0.0  \n",
       "generator ext 0 2040        0.0  \n",
       "generator fix 1 2040        0.0  \n",
       "\n",
       "[3 rows x 37 columns]"
      ]
     },
     "execution_count": 8,
     "metadata": {},
     "output_type": "execute_result"
    }
   ],
   "source": [
    "# add some generators\n",
    "p_nom_max = pd.Series(\n",
    "    (np.random.uniform() for sn in range(len(n.snapshots))),\n",
    "    index=n.snapshots,\n",
    "    name=\"generator ext 2020\",\n",
    ")\n",
    "\n",
    "# renewable (can operate 2020, 2030)\n",
    "n.add(\n",
    "    \"Generator\",\n",
    "    \"generator ext 0 2020\",\n",
    "    bus=\"bus 0\",\n",
    "    p_nom=50,\n",
    "    build_year=2020,\n",
    "    lifetime=20,\n",
    "    marginal_cost=2,\n",
    "    capital_cost=1,\n",
    "    p_max_pu=p_nom_max,\n",
    "    carrier=\"solar\",\n",
    "    p_nom_extendable=True,\n",
    ")\n",
    "\n",
    "# can operate 2040, 2050\n",
    "n.add(\n",
    "    \"Generator\",\n",
    "    \"generator ext 0 2040\",\n",
    "    bus=\"bus 0\",\n",
    "    p_nom=50,\n",
    "    build_year=2040,\n",
    "    lifetime=11,\n",
    "    marginal_cost=25,\n",
    "    capital_cost=10,\n",
    "    carrier=\"OCGT\",\n",
    "    p_nom_extendable=True,\n",
    ")\n",
    "\n",
    "# can operate in 2040\n",
    "n.add(\n",
    "    \"Generator\",\n",
    "    \"generator fix 1 2040\",\n",
    "    bus=\"bus 1\",\n",
    "    p_nom=50,\n",
    "    build_year=2040,\n",
    "    lifetime=10,\n",
    "    carrier=\"CCGT\",\n",
    "    marginal_cost=20,\n",
    "    capital_cost=1,\n",
    ")\n",
    "\n",
    "n.generators"
   ]
  },
  {
   "cell_type": "code",
   "execution_count": 9,
   "id": "c7b40041",
   "metadata": {},
   "outputs": [
    {
     "data": {
      "text/html": [
       "<div>\n",
       "<style scoped>\n",
       "    .dataframe tbody tr th:only-of-type {\n",
       "        vertical-align: middle;\n",
       "    }\n",
       "\n",
       "    .dataframe tbody tr th {\n",
       "        vertical-align: top;\n",
       "    }\n",
       "\n",
       "    .dataframe thead th {\n",
       "        text-align: right;\n",
       "    }\n",
       "</style>\n",
       "<table border=\"1\" class=\"dataframe\">\n",
       "  <thead>\n",
       "    <tr style=\"text-align: right;\">\n",
       "      <th></th>\n",
       "      <th>bus</th>\n",
       "      <th>control</th>\n",
       "      <th>type</th>\n",
       "      <th>p_nom</th>\n",
       "      <th>p_nom_mod</th>\n",
       "      <th>p_nom_extendable</th>\n",
       "      <th>p_nom_min</th>\n",
       "      <th>p_nom_max</th>\n",
       "      <th>p_min_pu</th>\n",
       "      <th>p_max_pu</th>\n",
       "      <th>...</th>\n",
       "      <th>state_of_charge_initial_per_period</th>\n",
       "      <th>state_of_charge_set</th>\n",
       "      <th>cyclic_state_of_charge</th>\n",
       "      <th>cyclic_state_of_charge_per_period</th>\n",
       "      <th>max_hours</th>\n",
       "      <th>efficiency_store</th>\n",
       "      <th>efficiency_dispatch</th>\n",
       "      <th>standing_loss</th>\n",
       "      <th>inflow</th>\n",
       "      <th>p_nom_opt</th>\n",
       "    </tr>\n",
       "    <tr>\n",
       "      <th>StorageUnit</th>\n",
       "      <th></th>\n",
       "      <th></th>\n",
       "      <th></th>\n",
       "      <th></th>\n",
       "      <th></th>\n",
       "      <th></th>\n",
       "      <th></th>\n",
       "      <th></th>\n",
       "      <th></th>\n",
       "      <th></th>\n",
       "      <th></th>\n",
       "      <th></th>\n",
       "      <th></th>\n",
       "      <th></th>\n",
       "      <th></th>\n",
       "      <th></th>\n",
       "      <th></th>\n",
       "      <th></th>\n",
       "      <th></th>\n",
       "      <th></th>\n",
       "      <th></th>\n",
       "    </tr>\n",
       "  </thead>\n",
       "  <tbody>\n",
       "    <tr>\n",
       "      <th>storageunit non-cyclic 2030</th>\n",
       "      <td>bus 2</td>\n",
       "      <td>PQ</td>\n",
       "      <td></td>\n",
       "      <td>0.0</td>\n",
       "      <td>0.0</td>\n",
       "      <td>False</td>\n",
       "      <td>0.0</td>\n",
       "      <td>inf</td>\n",
       "      <td>-1.0</td>\n",
       "      <td>1.0</td>\n",
       "      <td>...</td>\n",
       "      <td>False</td>\n",
       "      <td>NaN</td>\n",
       "      <td>False</td>\n",
       "      <td>True</td>\n",
       "      <td>1.0</td>\n",
       "      <td>1.0</td>\n",
       "      <td>1.0</td>\n",
       "      <td>0.0</td>\n",
       "      <td>0.0</td>\n",
       "      <td>0.0</td>\n",
       "    </tr>\n",
       "    <tr>\n",
       "      <th>storageunit periodic 2020</th>\n",
       "      <td>bus 2</td>\n",
       "      <td>PQ</td>\n",
       "      <td></td>\n",
       "      <td>0.0</td>\n",
       "      <td>0.0</td>\n",
       "      <td>True</td>\n",
       "      <td>0.0</td>\n",
       "      <td>inf</td>\n",
       "      <td>-1.0</td>\n",
       "      <td>1.0</td>\n",
       "      <td>...</td>\n",
       "      <td>False</td>\n",
       "      <td>NaN</td>\n",
       "      <td>True</td>\n",
       "      <td>True</td>\n",
       "      <td>1.0</td>\n",
       "      <td>1.0</td>\n",
       "      <td>1.0</td>\n",
       "      <td>0.0</td>\n",
       "      <td>0.0</td>\n",
       "      <td>0.0</td>\n",
       "    </tr>\n",
       "  </tbody>\n",
       "</table>\n",
       "<p>2 rows × 33 columns</p>\n",
       "</div>"
      ],
      "text/plain": [
       "                               bus control type  p_nom  p_nom_mod  \\\n",
       "StorageUnit                                                         \n",
       "storageunit non-cyclic 2030  bus 2      PQ         0.0        0.0   \n",
       "storageunit periodic 2020    bus 2      PQ         0.0        0.0   \n",
       "\n",
       "                             p_nom_extendable  p_nom_min  p_nom_max  p_min_pu  \\\n",
       "StorageUnit                                                                     \n",
       "storageunit non-cyclic 2030             False        0.0        inf      -1.0   \n",
       "storageunit periodic 2020                True        0.0        inf      -1.0   \n",
       "\n",
       "                             p_max_pu  ...  \\\n",
       "StorageUnit                            ...   \n",
       "storageunit non-cyclic 2030       1.0  ...   \n",
       "storageunit periodic 2020         1.0  ...   \n",
       "\n",
       "                             state_of_charge_initial_per_period  \\\n",
       "StorageUnit                                                       \n",
       "storageunit non-cyclic 2030                               False   \n",
       "storageunit periodic 2020                                 False   \n",
       "\n",
       "                             state_of_charge_set  cyclic_state_of_charge  \\\n",
       "StorageUnit                                                                \n",
       "storageunit non-cyclic 2030                  NaN                   False   \n",
       "storageunit periodic 2020                    NaN                    True   \n",
       "\n",
       "                            cyclic_state_of_charge_per_period  max_hours  \\\n",
       "StorageUnit                                                                \n",
       "storageunit non-cyclic 2030                              True        1.0   \n",
       "storageunit periodic 2020                                True        1.0   \n",
       "\n",
       "                             efficiency_store  efficiency_dispatch  \\\n",
       "StorageUnit                                                          \n",
       "storageunit non-cyclic 2030               1.0                  1.0   \n",
       "storageunit periodic 2020                 1.0                  1.0   \n",
       "\n",
       "                             standing_loss  inflow  p_nom_opt  \n",
       "StorageUnit                                                    \n",
       "storageunit non-cyclic 2030            0.0     0.0        0.0  \n",
       "storageunit periodic 2020              0.0     0.0        0.0  \n",
       "\n",
       "[2 rows x 33 columns]"
      ]
     },
     "execution_count": 9,
     "metadata": {},
     "output_type": "execute_result"
    }
   ],
   "source": [
    "n.add(\n",
    "    \"StorageUnit\",\n",
    "    \"storageunit non-cyclic 2030\",\n",
    "    bus=\"bus 2\",\n",
    "    p_nom=0,\n",
    "    capital_cost=2,\n",
    "    build_year=2030,\n",
    "    lifetime=21,\n",
    "    cyclic_state_of_charge=False,\n",
    "    p_nom_extendable=False,\n",
    ")\n",
    "\n",
    "n.add(\n",
    "    \"StorageUnit\",\n",
    "    \"storageunit periodic 2020\",\n",
    "    bus=\"bus 2\",\n",
    "    p_nom=0,\n",
    "    capital_cost=1,\n",
    "    build_year=2020,\n",
    "    lifetime=21,\n",
    "    cyclic_state_of_charge=True,\n",
    "    cyclic_state_of_charge_per_period=True,\n",
    "    p_nom_extendable=True,\n",
    ")\n",
    "\n",
    "n.storage_units"
   ]
  },
  {
   "cell_type": "code",
   "execution_count": 10,
   "id": "6243d960",
   "metadata": {},
   "outputs": [
    {
     "data": {
      "text/plain": [
       "Index(['load 1'], dtype='object')"
      ]
     },
     "execution_count": 10,
     "metadata": {},
     "output_type": "execute_result"
    }
   ],
   "source": [
    "load_var = pd.Series(\n",
    "    100 * np.random.rand(len(n.snapshots)), index=n.snapshots, name=\"load\"\n",
    ")\n",
    "n.add(\"Load\", \"load 2\", bus=\"bus 2\", p_set=load_var)\n",
    "\n",
    "load_fix = pd.Series(75, index=n.snapshots, name=\"load\")\n",
    "n.add(\"Load\", \"load 1\", bus=\"bus 1\", p_set=load_fix)"
   ]
  },
  {
   "cell_type": "code",
   "execution_count": 11,
   "id": "a3763bff",
   "metadata": {},
   "outputs": [
    {
     "data": {
      "text/html": [
       "<div>\n",
       "<style scoped>\n",
       "    .dataframe tbody tr th:only-of-type {\n",
       "        vertical-align: middle;\n",
       "    }\n",
       "\n",
       "    .dataframe tbody tr th {\n",
       "        vertical-align: top;\n",
       "    }\n",
       "\n",
       "    .dataframe thead th {\n",
       "        text-align: right;\n",
       "    }\n",
       "</style>\n",
       "<table border=\"1\" class=\"dataframe\">\n",
       "  <thead>\n",
       "    <tr style=\"text-align: right;\">\n",
       "      <th></th>\n",
       "      <th>Load</th>\n",
       "      <th>load 1</th>\n",
       "      <th>load 2</th>\n",
       "    </tr>\n",
       "    <tr>\n",
       "      <th>period</th>\n",
       "      <th>timestep</th>\n",
       "      <th></th>\n",
       "      <th></th>\n",
       "    </tr>\n",
       "  </thead>\n",
       "  <tbody>\n",
       "    <tr>\n",
       "      <th rowspan=\"5\" valign=\"top\">2020</th>\n",
       "      <th>2020-01-01</th>\n",
       "      <td>75.0</td>\n",
       "      <td>13.360408</td>\n",
       "    </tr>\n",
       "    <tr>\n",
       "      <th>2020-01-02</th>\n",
       "      <td>75.0</td>\n",
       "      <td>95.916318</td>\n",
       "    </tr>\n",
       "    <tr>\n",
       "      <th>2020-01-03</th>\n",
       "      <td>75.0</td>\n",
       "      <td>29.044482</td>\n",
       "    </tr>\n",
       "    <tr>\n",
       "      <th>2020-01-04</th>\n",
       "      <td>75.0</td>\n",
       "      <td>32.068029</td>\n",
       "    </tr>\n",
       "    <tr>\n",
       "      <th>2020-01-05</th>\n",
       "      <td>75.0</td>\n",
       "      <td>43.284861</td>\n",
       "    </tr>\n",
       "    <tr>\n",
       "      <th>...</th>\n",
       "      <th>...</th>\n",
       "      <td>...</td>\n",
       "      <td>...</td>\n",
       "    </tr>\n",
       "    <tr>\n",
       "      <th rowspan=\"5\" valign=\"top\">2050</th>\n",
       "      <th>2050-12-27</th>\n",
       "      <td>75.0</td>\n",
       "      <td>92.585984</td>\n",
       "    </tr>\n",
       "    <tr>\n",
       "      <th>2050-12-28</th>\n",
       "      <td>75.0</td>\n",
       "      <td>44.434205</td>\n",
       "    </tr>\n",
       "    <tr>\n",
       "      <th>2050-12-29</th>\n",
       "      <td>75.0</td>\n",
       "      <td>40.599756</td>\n",
       "    </tr>\n",
       "    <tr>\n",
       "      <th>2050-12-30</th>\n",
       "      <td>75.0</td>\n",
       "      <td>38.650594</td>\n",
       "    </tr>\n",
       "    <tr>\n",
       "      <th>2050-12-31</th>\n",
       "      <td>75.0</td>\n",
       "      <td>49.124438</td>\n",
       "    </tr>\n",
       "  </tbody>\n",
       "</table>\n",
       "<p>1460 rows × 2 columns</p>\n",
       "</div>"
      ],
      "text/plain": [
       "Load               load 1     load 2\n",
       "period timestep                     \n",
       "2020   2020-01-01    75.0  13.360408\n",
       "       2020-01-02    75.0  95.916318\n",
       "       2020-01-03    75.0  29.044482\n",
       "       2020-01-04    75.0  32.068029\n",
       "       2020-01-05    75.0  43.284861\n",
       "...                   ...        ...\n",
       "2050   2050-12-27    75.0  92.585984\n",
       "       2050-12-28    75.0  44.434205\n",
       "       2050-12-29    75.0  40.599756\n",
       "       2050-12-30    75.0  38.650594\n",
       "       2050-12-31    75.0  49.124438\n",
       "\n",
       "[1460 rows x 2 columns]"
      ]
     },
     "execution_count": 11,
     "metadata": {},
     "output_type": "execute_result"
    }
   ],
   "source": [
    "n.loads_t.p_set"
   ]
  },
  {
   "cell_type": "code",
   "execution_count": 12,
   "id": "77065fb9",
   "metadata": {},
   "outputs": [
    {
     "name": "stderr",
     "output_type": "stream",
     "text": [
      "WARNING:pypsa.consistency:The following generators have carriers which are not defined:\n",
      "Index(['generator ext 0 2020', 'generator ext 0 2040', 'generator fix 1 2040'], dtype='object', name='Generator')\n",
      "WARNING:pypsa.consistency:The following buses have carriers which are not defined:\n",
      "Index(['bus 0', 'bus 1', 'bus 2'], dtype='object', name='Bus')\n",
      "WARNING:pypsa.consistency:The following lines have carriers which are not defined:\n",
      "Index(['line 0->1', 'line 1->2', 'line 2->0'], dtype='object', name='Line')\n",
      "WARNING:pypsa.consistency:The following lines have zero r, which could break the linear load flow:\n",
      "Index(['line 0->1', 'line 1->2', 'line 2->0'], dtype='object', name='Line')\n",
      "INFO:linopy.model: Solve problem using Gurobi solver\n",
      "INFO:linopy.io:Writing objective.\n",
      "Writing constraints.: 100%|\u001b[38;2;128;191;255m██████████\u001b[0m| 27/27 [00:00<00:00, 307.59it/s]\n",
      "Writing continuous variables.: 100%|\u001b[38;2;128;191;255m██████████\u001b[0m| 9/9 [00:00<00:00, 705.04it/s]\n",
      "INFO:linopy.io: Writing time: 0.12s\n"
     ]
    },
    {
     "name": "stdout",
     "output_type": "stream",
     "text": [
      "Set parameter LicenseID to value 2648928\n"
     ]
    },
    {
     "name": "stderr",
     "output_type": "stream",
     "text": [
      "INFO:gurobipy:Set parameter LicenseID to value 2648928\n"
     ]
    },
    {
     "name": "stdout",
     "output_type": "stream",
     "text": [
      "Read LP format model from file /private/var/folders/_w/ry357l9n0vjg8jgfczvkpk3r0000gn/T/linopy-problem-ygu2yk2z.lp\n"
     ]
    },
    {
     "name": "stderr",
     "output_type": "stream",
     "text": [
      "INFO:gurobipy:Read LP format model from file /private/var/folders/_w/ry357l9n0vjg8jgfczvkpk3r0000gn/T/linopy-problem-ygu2yk2z.lp\n"
     ]
    },
    {
     "name": "stdout",
     "output_type": "stream",
     "text": [
      "Reading time = 0.02 seconds\n"
     ]
    },
    {
     "name": "stderr",
     "output_type": "stream",
     "text": [
      "INFO:gurobipy:Reading time = 0.02 seconds\n"
     ]
    },
    {
     "name": "stdout",
     "output_type": "stream",
     "text": [
      "obj: 32491 rows, 12417 columns, 63878 nonzeros\n"
     ]
    },
    {
     "name": "stderr",
     "output_type": "stream",
     "text": [
      "INFO:gurobipy:obj: 32491 rows, 12417 columns, 63878 nonzeros\n"
     ]
    },
    {
     "name": "stdout",
     "output_type": "stream",
     "text": [
      "Gurobi Optimizer version 12.0.1 build v12.0.1rc0 (mac64[arm] - Darwin 24.5.0 24F74)\n"
     ]
    },
    {
     "name": "stderr",
     "output_type": "stream",
     "text": [
      "INFO:gurobipy:Gurobi Optimizer version 12.0.1 build v12.0.1rc0 (mac64[arm] - Darwin 24.5.0 24F74)\n"
     ]
    },
    {
     "name": "stdout",
     "output_type": "stream",
     "text": [
      "\n"
     ]
    },
    {
     "name": "stderr",
     "output_type": "stream",
     "text": [
      "INFO:gurobipy:\n"
     ]
    },
    {
     "name": "stdout",
     "output_type": "stream",
     "text": [
      "CPU model: Apple M4 Pro\n"
     ]
    },
    {
     "name": "stderr",
     "output_type": "stream",
     "text": [
      "INFO:gurobipy:CPU model: Apple M4 Pro\n"
     ]
    },
    {
     "name": "stdout",
     "output_type": "stream",
     "text": [
      "Thread count: 12 physical cores, 12 logical processors, using up to 12 threads\n"
     ]
    },
    {
     "name": "stderr",
     "output_type": "stream",
     "text": [
      "INFO:gurobipy:Thread count: 12 physical cores, 12 logical processors, using up to 12 threads\n"
     ]
    },
    {
     "name": "stdout",
     "output_type": "stream",
     "text": [
      "\n"
     ]
    },
    {
     "name": "stderr",
     "output_type": "stream",
     "text": [
      "INFO:gurobipy:\n"
     ]
    },
    {
     "name": "stdout",
     "output_type": "stream",
     "text": [
      "Optimize a model with 32491 rows, 12417 columns and 63878 nonzeros\n"
     ]
    },
    {
     "name": "stderr",
     "output_type": "stream",
     "text": [
      "INFO:gurobipy:Optimize a model with 32491 rows, 12417 columns and 63878 nonzeros\n"
     ]
    },
    {
     "name": "stdout",
     "output_type": "stream",
     "text": [
      "Model fingerprint: 0x0d20af63\n"
     ]
    },
    {
     "name": "stderr",
     "output_type": "stream",
     "text": [
      "INFO:gurobipy:Model fingerprint: 0x0d20af63\n"
     ]
    },
    {
     "name": "stdout",
     "output_type": "stream",
     "text": [
      "Coefficient statistics:\n"
     ]
    },
    {
     "name": "stderr",
     "output_type": "stream",
     "text": [
      "INFO:gurobipy:Coefficient statistics:\n"
     ]
    },
    {
     "name": "stdout",
     "output_type": "stream",
     "text": [
      "  Matrix range     [9e-05, 1e+01]\n"
     ]
    },
    {
     "name": "stderr",
     "output_type": "stream",
     "text": [
      "INFO:gurobipy:  Matrix range     [9e-05, 1e+01]\n"
     ]
    },
    {
     "name": "stdout",
     "output_type": "stream",
     "text": [
      "  Objective range  [1e+00, 2e+02]\n"
     ]
    },
    {
     "name": "stderr",
     "output_type": "stream",
     "text": [
      "INFO:gurobipy:  Objective range  [1e+00, 2e+02]\n"
     ]
    },
    {
     "name": "stdout",
     "output_type": "stream",
     "text": [
      "  Bounds range     [8e+03, 8e+03]\n"
     ]
    },
    {
     "name": "stderr",
     "output_type": "stream",
     "text": [
      "INFO:gurobipy:  Bounds range     [8e+03, 8e+03]\n"
     ]
    },
    {
     "name": "stdout",
     "output_type": "stream",
     "text": [
      "  RHS range        [3e-01, 1e+02]\n"
     ]
    },
    {
     "name": "stderr",
     "output_type": "stream",
     "text": [
      "INFO:gurobipy:  RHS range        [3e-01, 1e+02]\n"
     ]
    },
    {
     "name": "stdout",
     "output_type": "stream",
     "text": [
      "Presolve removed 24461 rows and 7668 columns\n"
     ]
    },
    {
     "name": "stderr",
     "output_type": "stream",
     "text": [
      "INFO:gurobipy:Presolve removed 24461 rows and 7668 columns\n"
     ]
    },
    {
     "name": "stdout",
     "output_type": "stream",
     "text": [
      "Presolve time: 0.02s\n"
     ]
    },
    {
     "name": "stderr",
     "output_type": "stream",
     "text": [
      "INFO:gurobipy:Presolve time: 0.02s\n"
     ]
    },
    {
     "name": "stdout",
     "output_type": "stream",
     "text": [
      "Presolved: 8030 rows, 4749 columns, 20440 nonzeros\n"
     ]
    },
    {
     "name": "stderr",
     "output_type": "stream",
     "text": [
      "INFO:gurobipy:Presolved: 8030 rows, 4749 columns, 20440 nonzeros\n"
     ]
    },
    {
     "name": "stdout",
     "output_type": "stream",
     "text": [
      "\n"
     ]
    },
    {
     "name": "stderr",
     "output_type": "stream",
     "text": [
      "INFO:gurobipy:\n"
     ]
    },
    {
     "name": "stdout",
     "output_type": "stream",
     "text": [
      "Concurrent LP optimizer: primal simplex, dual simplex, and barrier\n"
     ]
    },
    {
     "name": "stderr",
     "output_type": "stream",
     "text": [
      "INFO:gurobipy:Concurrent LP optimizer: primal simplex, dual simplex, and barrier\n"
     ]
    },
    {
     "name": "stdout",
     "output_type": "stream",
     "text": [
      "Showing barrier log only...\n"
     ]
    },
    {
     "name": "stderr",
     "output_type": "stream",
     "text": [
      "INFO:gurobipy:Showing barrier log only...\n"
     ]
    },
    {
     "name": "stdout",
     "output_type": "stream",
     "text": [
      "\n"
     ]
    },
    {
     "name": "stderr",
     "output_type": "stream",
     "text": [
      "INFO:gurobipy:\n"
     ]
    },
    {
     "name": "stdout",
     "output_type": "stream",
     "text": [
      "Ordering time: 0.00s\n"
     ]
    },
    {
     "name": "stderr",
     "output_type": "stream",
     "text": [
      "INFO:gurobipy:Ordering time: 0.00s\n"
     ]
    },
    {
     "name": "stdout",
     "output_type": "stream",
     "text": [
      "\n"
     ]
    },
    {
     "name": "stderr",
     "output_type": "stream",
     "text": [
      "INFO:gurobipy:\n"
     ]
    },
    {
     "name": "stdout",
     "output_type": "stream",
     "text": [
      "Barrier statistics:\n"
     ]
    },
    {
     "name": "stderr",
     "output_type": "stream",
     "text": [
      "INFO:gurobipy:Barrier statistics:\n"
     ]
    },
    {
     "name": "stdout",
     "output_type": "stream",
     "text": [
      " Dense cols : 4\n"
     ]
    },
    {
     "name": "stderr",
     "output_type": "stream",
     "text": [
      "INFO:gurobipy: Dense cols : 4\n"
     ]
    },
    {
     "name": "stdout",
     "output_type": "stream",
     "text": [
      " AA' NZ     : 1.934e+04\n"
     ]
    },
    {
     "name": "stderr",
     "output_type": "stream",
     "text": [
      "INFO:gurobipy: AA' NZ     : 1.934e+04\n"
     ]
    },
    {
     "name": "stdout",
     "output_type": "stream",
     "text": [
      " Factor NZ  : 7.707e+04 (roughly 6 MB of memory)\n"
     ]
    },
    {
     "name": "stderr",
     "output_type": "stream",
     "text": [
      "INFO:gurobipy: Factor NZ  : 7.707e+04 (roughly 6 MB of memory)\n"
     ]
    },
    {
     "name": "stdout",
     "output_type": "stream",
     "text": [
      " Factor Ops : 8.706e+05 (less than 1 second per iteration)\n"
     ]
    },
    {
     "name": "stderr",
     "output_type": "stream",
     "text": [
      "INFO:gurobipy: Factor Ops : 8.706e+05 (less than 1 second per iteration)\n"
     ]
    },
    {
     "name": "stdout",
     "output_type": "stream",
     "text": [
      " Threads    : 1\n"
     ]
    },
    {
     "name": "stderr",
     "output_type": "stream",
     "text": [
      "INFO:gurobipy: Threads    : 1\n"
     ]
    },
    {
     "name": "stdout",
     "output_type": "stream",
     "text": [
      "\n"
     ]
    },
    {
     "name": "stderr",
     "output_type": "stream",
     "text": [
      "INFO:gurobipy:\n"
     ]
    },
    {
     "name": "stdout",
     "output_type": "stream",
     "text": [
      "                  Objective                Residual\n"
     ]
    },
    {
     "name": "stderr",
     "output_type": "stream",
     "text": [
      "INFO:gurobipy:                  Objective                Residual\n"
     ]
    },
    {
     "name": "stdout",
     "output_type": "stream",
     "text": [
      "Iter       Primal          Dual         Primal    Dual     Compl     Time\n"
     ]
    },
    {
     "name": "stderr",
     "output_type": "stream",
     "text": [
      "INFO:gurobipy:Iter       Primal          Dual         Primal    Dual     Compl     Time\n"
     ]
    },
    {
     "name": "stdout",
     "output_type": "stream",
     "text": [
      "   0   3.31966552e+08  1.66630464e+07  6.00e+02 3.15e+01  1.93e+05     0s\n"
     ]
    },
    {
     "name": "stderr",
     "output_type": "stream",
     "text": [
      "INFO:gurobipy:   0   3.31966552e+08  1.66630464e+07  6.00e+02 3.15e+01  1.93e+05     0s\n"
     ]
    },
    {
     "name": "stdout",
     "output_type": "stream",
     "text": [
      "   1   4.96376131e+07  3.64589044e+06  5.41e+01 8.97e+01  2.73e+04     0s\n"
     ]
    },
    {
     "name": "stderr",
     "output_type": "stream",
     "text": [
      "INFO:gurobipy:   1   4.96376131e+07  3.64589044e+06  5.41e+01 8.97e+01  2.73e+04     0s\n"
     ]
    },
    {
     "name": "stdout",
     "output_type": "stream",
     "text": [
      "   2   2.01313793e+07  1.46356410e+07  1.04e+00 4.06e+00  1.59e+03     0s\n"
     ]
    },
    {
     "name": "stderr",
     "output_type": "stream",
     "text": [
      "INFO:gurobipy:   2   2.01313793e+07  1.46356410e+07  1.04e+00 4.06e+00  1.59e+03     0s\n"
     ]
    },
    {
     "name": "stdout",
     "output_type": "stream",
     "text": [
      "   3   1.87352817e+07  1.79607037e+07  6.65e-12 2.09e-01  1.25e+02     0s\n"
     ]
    },
    {
     "name": "stderr",
     "output_type": "stream",
     "text": [
      "INFO:gurobipy:   3   1.87352817e+07  1.79607037e+07  6.65e-12 2.09e-01  1.25e+02     0s\n"
     ]
    },
    {
     "name": "stdout",
     "output_type": "stream",
     "text": [
      "   4   1.83402088e+07  1.82267621e+07  1.34e-11 5.06e-03  1.17e+01     0s\n"
     ]
    },
    {
     "name": "stderr",
     "output_type": "stream",
     "text": [
      "INFO:gurobipy:   4   1.83402088e+07  1.82267621e+07  1.34e-11 5.06e-03  1.17e+01     0s\n"
     ]
    },
    {
     "name": "stdout",
     "output_type": "stream",
     "text": [
      "   5   1.83331742e+07  1.82404924e+07  3.28e-11 1.99e-03  8.86e+00     0s\n"
     ]
    },
    {
     "name": "stderr",
     "output_type": "stream",
     "text": [
      "INFO:gurobipy:   5   1.83331742e+07  1.82404924e+07  3.28e-11 1.99e-03  8.86e+00     0s\n"
     ]
    },
    {
     "name": "stdout",
     "output_type": "stream",
     "text": [
      "   6   1.83244253e+07  1.82463481e+07  6.84e-11 6.38e-04  7.27e+00     0s\n"
     ]
    },
    {
     "name": "stderr",
     "output_type": "stream",
     "text": [
      "INFO:gurobipy:   6   1.83244253e+07  1.82463481e+07  6.84e-11 6.38e-04  7.27e+00     0s\n"
     ]
    },
    {
     "name": "stdout",
     "output_type": "stream",
     "text": [
      "   7   1.82931072e+07  1.82552680e+07  6.60e-10 1.45e-04  3.50e+00     0s\n"
     ]
    },
    {
     "name": "stderr",
     "output_type": "stream",
     "text": [
      "INFO:gurobipy:   7   1.82931072e+07  1.82552680e+07  6.60e-10 1.45e-04  3.50e+00     0s\n"
     ]
    },
    {
     "name": "stdout",
     "output_type": "stream",
     "text": [
      "   8   1.82849708e+07  1.82578938e+07  6.42e-10 1.03e-04  2.50e+00     0s\n"
     ]
    },
    {
     "name": "stderr",
     "output_type": "stream",
     "text": [
      "INFO:gurobipy:   8   1.82849708e+07  1.82578938e+07  6.42e-10 1.03e-04  2.50e+00     0s\n"
     ]
    },
    {
     "name": "stdout",
     "output_type": "stream",
     "text": [
      "   9   1.82844867e+07  1.82593363e+07  6.09e-10 5.42e-05  2.33e+00     0s\n"
     ]
    },
    {
     "name": "stderr",
     "output_type": "stream",
     "text": [
      "INFO:gurobipy:   9   1.82844867e+07  1.82593363e+07  6.09e-10 5.42e-05  2.33e+00     0s\n"
     ]
    },
    {
     "name": "stdout",
     "output_type": "stream",
     "text": [
      "  10   1.82755594e+07  1.82736125e+07  2.44e-09 2.96e-12  1.78e-01     0s\n"
     ]
    },
    {
     "name": "stderr",
     "output_type": "stream",
     "text": [
      "INFO:gurobipy:  10   1.82755594e+07  1.82736125e+07  2.44e-09 2.96e-12  1.78e-01     0s\n"
     ]
    },
    {
     "name": "stdout",
     "output_type": "stream",
     "text": [
      "  11   1.82752729e+07  1.82747142e+07  2.06e-10 1.11e-11  5.10e-02     0s\n"
     ]
    },
    {
     "name": "stderr",
     "output_type": "stream",
     "text": [
      "INFO:gurobipy:  11   1.82752729e+07  1.82747142e+07  2.06e-10 1.11e-11  5.10e-02     0s\n"
     ]
    },
    {
     "name": "stdout",
     "output_type": "stream",
     "text": [
      "  12   1.82751798e+07  1.82751649e+07  1.03e-09 1.14e-12  1.36e-03     0s\n"
     ]
    },
    {
     "name": "stderr",
     "output_type": "stream",
     "text": [
      "INFO:gurobipy:  12   1.82751798e+07  1.82751649e+07  1.03e-09 1.14e-12  1.36e-03     0s\n"
     ]
    },
    {
     "name": "stdout",
     "output_type": "stream",
     "text": [
      "  13   1.82751795e+07  1.82751795e+07  3.06e-10 4.55e-13  1.03e-06     0s\n"
     ]
    },
    {
     "name": "stderr",
     "output_type": "stream",
     "text": [
      "INFO:gurobipy:  13   1.82751795e+07  1.82751795e+07  3.06e-10 4.55e-13  1.03e-06     0s\n"
     ]
    },
    {
     "name": "stdout",
     "output_type": "stream",
     "text": [
      "  14   1.82751795e+07  1.82751795e+07  7.02e-10 3.76e-12  4.71e-12     0s\n"
     ]
    },
    {
     "name": "stderr",
     "output_type": "stream",
     "text": [
      "INFO:gurobipy:  14   1.82751795e+07  1.82751795e+07  7.02e-10 3.76e-12  4.71e-12     0s\n"
     ]
    },
    {
     "name": "stdout",
     "output_type": "stream",
     "text": [
      "\n"
     ]
    },
    {
     "name": "stderr",
     "output_type": "stream",
     "text": [
      "INFO:gurobipy:\n"
     ]
    },
    {
     "name": "stdout",
     "output_type": "stream",
     "text": [
      "Barrier solved model in 14 iterations and 0.06 seconds (0.06 work units)\n"
     ]
    },
    {
     "name": "stderr",
     "output_type": "stream",
     "text": [
      "INFO:gurobipy:Barrier solved model in 14 iterations and 0.06 seconds (0.06 work units)\n"
     ]
    },
    {
     "name": "stdout",
     "output_type": "stream",
     "text": [
      "Optimal objective 1.82751795e+07\n"
     ]
    },
    {
     "name": "stderr",
     "output_type": "stream",
     "text": [
      "INFO:gurobipy:Optimal objective 1.82751795e+07\n"
     ]
    },
    {
     "name": "stdout",
     "output_type": "stream",
     "text": [
      "\n"
     ]
    },
    {
     "name": "stderr",
     "output_type": "stream",
     "text": [
      "INFO:gurobipy:\n"
     ]
    },
    {
     "name": "stdout",
     "output_type": "stream",
     "text": [
      "Crossover log...\n"
     ]
    },
    {
     "name": "stderr",
     "output_type": "stream",
     "text": [
      "INFO:gurobipy:Crossover log...\n"
     ]
    },
    {
     "name": "stdout",
     "output_type": "stream",
     "text": [
      "\n"
     ]
    },
    {
     "name": "stderr",
     "output_type": "stream",
     "text": [
      "INFO:gurobipy:\n"
     ]
    },
    {
     "name": "stdout",
     "output_type": "stream",
     "text": [
      "       4 DPushes remaining with DInf 0.0000000e+00                 0s\n"
     ]
    },
    {
     "name": "stderr",
     "output_type": "stream",
     "text": [
      "INFO:gurobipy:       4 DPushes remaining with DInf 0.0000000e+00                 0s\n"
     ]
    },
    {
     "name": "stdout",
     "output_type": "stream",
     "text": [
      "       0 DPushes remaining with DInf 0.0000000e+00                 0s\n"
     ]
    },
    {
     "name": "stderr",
     "output_type": "stream",
     "text": [
      "INFO:gurobipy:       0 DPushes remaining with DInf 0.0000000e+00                 0s\n"
     ]
    },
    {
     "name": "stdout",
     "output_type": "stream",
     "text": [
      "\n"
     ]
    },
    {
     "name": "stderr",
     "output_type": "stream",
     "text": [
      "INFO:gurobipy:\n"
     ]
    },
    {
     "name": "stdout",
     "output_type": "stream",
     "text": [
      "    2175 PPushes remaining with PInf 0.0000000e+00                 0s\n"
     ]
    },
    {
     "name": "stderr",
     "output_type": "stream",
     "text": [
      "INFO:gurobipy:    2175 PPushes remaining with PInf 0.0000000e+00                 0s\n"
     ]
    },
    {
     "name": "stdout",
     "output_type": "stream",
     "text": [
      "       0 PPushes remaining with PInf 0.0000000e+00                 0s\n"
     ]
    },
    {
     "name": "stderr",
     "output_type": "stream",
     "text": [
      "INFO:gurobipy:       0 PPushes remaining with PInf 0.0000000e+00                 0s\n"
     ]
    },
    {
     "name": "stdout",
     "output_type": "stream",
     "text": [
      "\n"
     ]
    },
    {
     "name": "stderr",
     "output_type": "stream",
     "text": [
      "INFO:gurobipy:\n"
     ]
    },
    {
     "name": "stdout",
     "output_type": "stream",
     "text": [
      "  Push phase complete: Pinf 0.0000000e+00, Dinf 1.8334737e-14      0s\n"
     ]
    },
    {
     "name": "stderr",
     "output_type": "stream",
     "text": [
      "INFO:gurobipy:  Push phase complete: Pinf 0.0000000e+00, Dinf 1.8334737e-14      0s\n"
     ]
    },
    {
     "name": "stdout",
     "output_type": "stream",
     "text": [
      "\n"
     ]
    },
    {
     "name": "stderr",
     "output_type": "stream",
     "text": [
      "INFO:gurobipy:\n"
     ]
    },
    {
     "name": "stdout",
     "output_type": "stream",
     "text": [
      "\n"
     ]
    },
    {
     "name": "stderr",
     "output_type": "stream",
     "text": [
      "INFO:gurobipy:\n"
     ]
    },
    {
     "name": "stdout",
     "output_type": "stream",
     "text": [
      "Solved with barrier\n"
     ]
    },
    {
     "name": "stderr",
     "output_type": "stream",
     "text": [
      "INFO:gurobipy:Solved with barrier\n"
     ]
    },
    {
     "name": "stdout",
     "output_type": "stream",
     "text": [
      "Iteration    Objective       Primal Inf.    Dual Inf.      Time\n"
     ]
    },
    {
     "name": "stderr",
     "output_type": "stream",
     "text": [
      "INFO:gurobipy:Iteration    Objective       Primal Inf.    Dual Inf.      Time\n"
     ]
    },
    {
     "name": "stdout",
     "output_type": "stream",
     "text": [
      "    2182    1.8275179e+07   0.000000e+00   0.000000e+00      0s\n"
     ]
    },
    {
     "name": "stderr",
     "output_type": "stream",
     "text": [
      "INFO:gurobipy:    2182    1.8275179e+07   0.000000e+00   0.000000e+00      0s\n"
     ]
    },
    {
     "name": "stdout",
     "output_type": "stream",
     "text": [
      "\n"
     ]
    },
    {
     "name": "stderr",
     "output_type": "stream",
     "text": [
      "INFO:gurobipy:\n"
     ]
    },
    {
     "name": "stdout",
     "output_type": "stream",
     "text": [
      "Solved in 2182 iterations and 0.08 seconds (0.08 work units)\n"
     ]
    },
    {
     "name": "stderr",
     "output_type": "stream",
     "text": [
      "INFO:gurobipy:Solved in 2182 iterations and 0.08 seconds (0.08 work units)\n"
     ]
    },
    {
     "name": "stdout",
     "output_type": "stream",
     "text": [
      "Optimal objective  1.827517947e+07\n"
     ]
    },
    {
     "name": "stderr",
     "output_type": "stream",
     "text": [
      "INFO:gurobipy:Optimal objective  1.827517947e+07\n",
      "INFO:linopy.constants: Optimization successful: \n",
      "Status: ok\n",
      "Termination condition: optimal\n",
      "Solution: 12417 primals, 32491 duals\n",
      "Objective: 1.83e+07\n",
      "Solver model: available\n",
      "Solver message: 2\n",
      "\n",
      "INFO:pypsa.optimization.optimize:The shadow-prices of the constraints Generator-fix-p-lower, Generator-fix-p-upper, Generator-ext-p-lower, Generator-ext-p-upper, Line-ext-s-lower, Line-ext-s-upper, StorageUnit-fix-p_dispatch-lower, StorageUnit-fix-p_dispatch-upper, StorageUnit-ext-p_dispatch-lower, StorageUnit-ext-p_dispatch-upper, StorageUnit-fix-p_store-lower, StorageUnit-fix-p_store-upper, StorageUnit-ext-p_store-lower, StorageUnit-ext-p_store-upper, StorageUnit-fix-state_of_charge-lower, StorageUnit-fix-state_of_charge-upper, StorageUnit-ext-state_of_charge-lower, StorageUnit-ext-state_of_charge-upper, Kirchhoff-Voltage-Law, StorageUnit-energy_balance were not assigned to the network.\n"
     ]
    },
    {
     "data": {
      "text/plain": [
       "('ok', 'optimal')"
      ]
     },
     "execution_count": 12,
     "metadata": {},
     "output_type": "execute_result"
    }
   ],
   "source": [
    "n.optimize(multi_investment_periods = True, solver_name = 'gurobi')"
   ]
  },
  {
   "cell_type": "code",
   "execution_count": 13,
   "id": "d7be8449",
   "metadata": {},
   "outputs": [
    {
     "data": {
      "image/png": "[encoded data removed]",
      "text/plain": [
       "<Figure size 1000x500 with 1 Axes>"
      ]
     },
     "metadata": {},
     "output_type": "display_data"
    }
   ],
   "source": [
    "c = \"Generator\"\n",
    "df = pd.concat(\n",
    "    {\n",
    "        period: n.get_active_assets(c, period) * n.df(c).p_nom_opt\n",
    "        for period in n.investment_periods\n",
    "    },\n",
    "    axis=1,\n",
    ")\n",
    "df.T.plot.bar(\n",
    "    stacked=True,\n",
    "    edgecolor=\"white\",\n",
    "    width=1,\n",
    "    ylabel=\"Capacity\",\n",
    "    xlabel=\"Investment Period\",\n",
    "    rot=0,\n",
    "    figsize=(10, 5),\n",
    ")\n",
    "plt.tight_layout()"
   ]
  },
  {
   "cell_type": "code",
   "execution_count": 17,
   "id": "29f422f2",
   "metadata": {},
   "outputs": [
    {
     "data": {
      "text/plain": [
       "<Axes: xlabel='Investment Period', ylabel='Generation'>"
      ]
     },
     "execution_count": 17,
     "metadata": {},
     "output_type": "execute_result"
    },
    {
     "data": {
      "image/png": "[encoded data removed]",
      "text/plain": [
       "<Figure size 1000x500 with 1 Axes>"
      ]
     },
     "metadata": {},
     "output_type": "display_data"
    }
   ],
   "source": [
    "df = n.generators_t.p.sum(axis=0).T\n",
    "df.T.plot.bar(\n",
    "    stacked=True,\n",
    "    edgecolor=\"white\",\n",
    "    width=1,\n",
    "    ylabel=\"Generation\",\n",
    "    xlabel=\"Investment Period\",\n",
    "    rot=0,\n",
    "    figsize=(10, 5),\n",
    ")"
   ]
  },
  {
   "cell_type": "code",
   "execution_count": 14,
   "id": "b8664b15",
   "metadata": {},
   "outputs": [
    {
     "data": {
      "text/html": [
       "<div>\n",
       "<style scoped>\n",
       "    .dataframe tbody tr th:only-of-type {\n",
       "        vertical-align: middle;\n",
       "    }\n",
       "\n",
       "    .dataframe tbody tr th {\n",
       "        vertical-align: top;\n",
       "    }\n",
       "\n",
       "    .dataframe thead th {\n",
       "        text-align: right;\n",
       "    }\n",
       "</style>\n",
       "<table border=\"1\" class=\"dataframe\">\n",
       "  <thead>\n",
       "    <tr style=\"text-align: right;\">\n",
       "      <th>attribute</th>\n",
       "      <th>type</th>\n",
       "      <th>investment_period</th>\n",
       "      <th>carrier_attribute</th>\n",
       "      <th>sense</th>\n",
       "      <th>constant</th>\n",
       "      <th>mu</th>\n",
       "    </tr>\n",
       "    <tr>\n",
       "      <th>GlobalConstraint</th>\n",
       "      <th></th>\n",
       "      <th></th>\n",
       "      <th></th>\n",
       "      <th></th>\n",
       "      <th></th>\n",
       "      <th></th>\n",
       "    </tr>\n",
       "  </thead>\n",
       "  <tbody>\n",
       "  </tbody>\n",
       "</table>\n",
       "</div>"
      ],
      "text/plain": [
       "Empty DataFrame\n",
       "Columns: [type, investment_period, carrier_attribute, sense, constant, mu]\n",
       "Index: []"
      ]
     },
     "execution_count": 14,
     "metadata": {},
     "output_type": "execute_result"
    }
   ],
   "source": [
    "n.global_constraints "
   ]
  },
  {
   "cell_type": "code",
   "execution_count": null,
   "id": "5ddaa242",
   "metadata": {},
   "outputs": [],
   "source": [
    "#so it does work, it will solve, but somehow the solver is not very iformative. "
   ]
  }
 ],
 "metadata": {
  "kernelspec": {
   "display_name": "pypsa-eur",
   "language": "python",
   "name": "python3"
  },
  "language_info": {
   "codemirror_mode": {
    "name": "ipython",
    "version": 3
   },
   "file_extension": ".py",
   "mimetype": "text/x-python",
   "name": "python",
   "nbconvert_exporter": "python",
   "pygments_lexer": "ipython3",
   "version": "3.12.10"
  }
 },
 "nbformat": 4,
 "nbformat_minor": 5
}
