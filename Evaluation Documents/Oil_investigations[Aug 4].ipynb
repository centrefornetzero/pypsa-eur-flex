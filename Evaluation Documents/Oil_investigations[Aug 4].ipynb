{
 "cells": [
  {
   "cell_type": "markdown",
   "id": "2945563d",
   "metadata": {},
   "source": [
    "# Finding ways to reduce hydrogen demand in the models \n",
    "\n",
    "Author: Katherine Shaw\n",
    "\n",
    "Date: August 4 "
   ]
  },
  {
   "cell_type": "markdown",
   "id": "a722a83d",
   "metadata": {},
   "source": [
    "Loading on of the minimums scenarios from the first (late july) run-throughs of the model \n",
    "reminder: one node per country, 26H resolution, all sectors, dac turned on. \n"
   ]
  },
  {
   "cell_type": "code",
   "execution_count": 12,
   "id": "7fdfacb0",
   "metadata": {},
   "outputs": [],
   "source": [
    "#Packages \n",
    "import pypsa\n",
    "import matplotlib.pyplot as plt \n",
    "import cartopy \n",
    "import geopandas\n",
    "import networkx\n",
    "import linopy\n",
    "import cartopy.crs as ccrs\n",
    "import atlite \n",
    "import geopandas as gpd \n",
    "import xarray\n",
    "import pandas as pd \n",
    "from datetime import datetime\n",
    "import numpy as np\n",
    "from pypsa.plot import add_legend_patches\n",
    "import random\n",
    "import plotly.graph_objects as go\n",
    "\n",
    "## Overall view of colors matched to carriers \n",
    "import matplotlib.pyplot as plt\n",
    "from matplotlib.patches import Patch\n",
    "\n",
    "#importing auxillary functions\n",
    "import Auxillary_Functions as af"
   ]
  },
  {
   "cell_type": "code",
   "execution_count": 2,
   "id": "573ff9a7",
   "metadata": {},
   "outputs": [
    {
     "name": "stderr",
     "output_type": "stream",
     "text": [
      "INFO:pypsa.io:Imported network base_s_39___2020.nc has buses, carriers, generators, global_constraints, lines, links, loads, storage_units, stores\n",
      "INFO:pypsa.io:Imported network base_s_39___2030.nc has buses, carriers, generators, global_constraints, lines, links, loads, storage_units, stores\n",
      "INFO:pypsa.io:Imported network base_s_39___2040.nc has buses, carriers, generators, global_constraints, lines, links, loads, storage_units, stores\n",
      "INFO:pypsa.io:Imported network base_s_39___2050.nc has buses, carriers, generators, global_constraints, lines, links, loads, storage_units, stores\n"
     ]
    }
   ],
   "source": [
    "network_2020 = pypsa.Network('/Users/katherine.shaw/Desktop/Late_July_Hydrogen_tests_1/30%/networks/base_s_39___2020.nc')\n",
    "network_2030 = pypsa.Network('/Users/katherine.shaw/Desktop/Late_July_Hydrogen_tests_1/30%/networks/base_s_39___2030.nc')\n",
    "network_2040 = pypsa.Network('/Users/katherine.shaw/Desktop/Late_July_Hydrogen_tests_1/30%/networks/base_s_39___2040.nc')\n",
    "network_2050 = pypsa.Network('/Users/katherine.shaw/Desktop/Late_July_Hydrogen_tests_1/30%/networks/base_s_39___2050.nc')"
   ]
  },
  {
   "cell_type": "code",
   "execution_count": 3,
   "id": "7de88674",
   "metadata": {},
   "outputs": [],
   "source": [
    "#Building a Sankey diagram to see where EU oil goes, because that's where all the hydrogen demand ends up going \n",
    "\n",
    "#building off the Sankey_biomass_hydrogen code in auxillary functions. \n",
    "def Sankey_from_bus(network_choice, bus_choice):\n",
    "    network = network_choice\n",
    "\n",
    "    #create a dataframe for the Sankey\n",
    "    Sankey_data = pd.DataFrame(columns = ['link name'])\n",
    "\n",
    "    #the bus from with the link need to originate \n",
    "    source_bus = bus_choice \n",
    "\n",
    "    #identifying all the links with the bus of interest\n",
    "    links = network.links[network.links.bus0 == source_bus].index.copy()\n",
    "    Sankey_data['link name'] = links.values\n",
    "\n",
    "    #listing source bus\n",
    "    Sankey_data['source bus'] = Sankey_data['link name'].map((network.links.loc[links, 'bus0']))\n",
    "    #identifying the target buses\n",
    "    Sankey_data['target_bus1'] = Sankey_data['link name'].map((network.links.loc[links, 'bus1']))\n",
    "\n",
    "    #recording the dispatch from the source bus \n",
    "    dispatch_series = (network.links_t.p0[links].sum() * network.snapshot_weightings.objective[0]).copy() #turning it into MWh\n",
    "    Sankey_data['link dispatch from source [MWh/a]'] = Sankey_data['link name'].map(dispatch_series)\n",
    "\n",
    "    #recording the arrival amount at the target bus \n",
    "    dispatch_series = (network.links_t.p1[links].sum() * network.snapshot_weightings.objective[0] * -1).copy() #turning it into MWh #multipled by negative one because power arriving at bus\n",
    "    Sankey_data['link MWh arrival at target [MWh/a]'] = Sankey_data['link name'].map(dispatch_series)\n",
    "\n",
    "    #getting carrier information \n",
    "    Sankey_data['carrier'] = Sankey_data['link name'].map(network.links.loc[links, 'carrier'])\n",
    "\n",
    "\n",
    "    ##Building the Sankey Diagram \n",
    "     #aggregating sources, targets, and flows to carrier types (so I don't get one line for each country)\n",
    "    to_remove = ['AL0 0', 'AT0 0', 'BA0 0', 'BE0 0', 'BG0 0',\n",
    "    'CH0 0', 'CZ0 0', 'DE0 0', 'DK0 0', 'DK1 0',\n",
    "    'EE0 0', 'ES0 0', 'ES6 0', 'FI1 0', 'FR0 0',\n",
    "    'FR5 0', 'GB2 0', 'GB3 0', 'GR0 0', 'HR0 0',\n",
    "    'HU0 0', 'IE3 0', 'IT0 0', 'IT4 0', 'LT0 0',\n",
    "    'LU0 0', 'LV0 0', 'ME0 0', 'MK0 0', 'NL0 0',\n",
    "    'NO1 0', 'PL0 0', 'PT0 0', 'RO0 0', 'RS0 0',\n",
    "    'SE1 0', 'SI0 0', 'SK0 0', 'XK0 0']\n",
    "\n",
    "    # Function to remove matching substrings\n",
    "    def clean_value(val):\n",
    "        for pattern in to_remove:\n",
    "            val = val.replace(pattern, '')\n",
    "        val =  val.strip()\n",
    "        return val if val else 'electric network'\n",
    "    #grouping the target buses by bus type \n",
    "    Sankey_data['aggregate source'] = Sankey_data['source bus'].apply(clean_value) #this is redundant because this should all be coming from one bus\n",
    "    Sankey_data['aggregate targets'] = Sankey_data['target_bus1'].apply(clean_value)\n",
    "\n",
    "\n",
    "\n",
    "        # Aggregate with carrier preserved (take first carrier in each group)\n",
    "    agg_flows = Sankey_data.groupby(['aggregate source', 'aggregate targets']).agg({\n",
    "        'link dispatch from source [MWh/a]': 'sum',\n",
    "        'carrier': 'first'  # or another strategy if multiple carriers per link group\n",
    "    }).reset_index()\n",
    "\n",
    "    #apply source IDs and labels \n",
    "    all_labels = pd.unique(agg_flows['aggregate source'].tolist() + agg_flows['aggregate targets'].tolist())\n",
    "    label_to_id = {label: i for i, label in enumerate(all_labels)}\n",
    "\n",
    "    #for construction of the sankey diagram \n",
    "\n",
    "    agg_flows['source_id'] = agg_flows['aggregate source'].map(label_to_id)\n",
    "    agg_flows['target_id'] = agg_flows['aggregate targets'].map(label_to_id)\n",
    "     # Add custom hover text\n",
    "    agg_flows['custom_text'] = (\n",
    "        'Carrier: ' + agg_flows['carrier'] +\n",
    "        '<br>From: ' + agg_flows['aggregate source'] +\n",
    "        '<br>To: ' + agg_flows['aggregate targets'] +\n",
    "        '<br>Flow: ' + agg_flows['link dispatch from source [MWh/a]'].round(2).astype(str)\n",
    "    )\n",
    "\n",
    "    # Sankey Plot\n",
    "    fig = go.Figure(data=[go.Sankey(\n",
    "        node=dict(\n",
    "            label=list(all_labels),\n",
    "            pad=15,\n",
    "            thickness=20,\n",
    "            line=dict(color='black', width=0.5)\n",
    "        ),\n",
    "        link=dict(\n",
    "            source=agg_flows['source_id'],\n",
    "            target=agg_flows['target_id'],\n",
    "            value=agg_flows['link dispatch from source [MWh/a]'],\n",
    "            customdata=agg_flows['custom_text'],\n",
    "            hovertemplate='%{customdata}<extra></extra>'\n",
    "        )\n",
    "    )])\n",
    "\n",
    "    fig.update_layout(title_text=\"Energy Flow Sankey Diagram with Carrier Info\", font_size=12)\n",
    "    fig.show()\n",
    "\n",
    "    print(Sankey_data)\n"
   ]
  },
  {
   "cell_type": "code",
   "execution_count": 42,
   "id": "d7ef8094",
   "metadata": {},
   "outputs": [
    {
     "name": "stderr",
     "output_type": "stream",
     "text": [
      "/var/folders/_w/ry357l9n0vjg8jgfczvkpk3r0000gn/T/ipykernel_44213/3033883303.py:23: FutureWarning:\n",
      "\n",
      "Series.__getitem__ treating keys as positions is deprecated. In a future version, integer keys will always be treated as labels (consistent with DataFrame behavior). To access a value by position, use `ser.iloc[pos]`\n",
      "\n",
      "/var/folders/_w/ry357l9n0vjg8jgfczvkpk3r0000gn/T/ipykernel_44213/3033883303.py:27: FutureWarning:\n",
      "\n",
      "Series.__getitem__ treating keys as positions is deprecated. In a future version, integer keys will always be treated as labels (consistent with DataFrame behavior). To access a value by position, use `ser.iloc[pos]`\n",
      "\n",
      "/var/folders/_w/ry357l9n0vjg8jgfczvkpk3r0000gn/T/ipykernel_44213/3033883303.py:64: FutureWarning:\n",
      "\n",
      "unique with argument that is not not a Series, Index, ExtensionArray, or np.ndarray is deprecated and will raise in a future version.\n",
      "\n"
     ]
    },
    {
     "data": {
      "application/vnd.plotly.v1+json": {
       "config": {
        "plotlyServerURL": "https://plot.ly"
       },
       "data": [
        {
         "link": {
          "customdata": [
           "Carrier: agriculture machinery oil<br>From: EU oil<br>To: agriculture machinery oil<br>Flow: 102871119.9",
           "Carrier: oil<br>From: EU oil<br>To: electric network<br>Flow: 2.59",
           "Carrier: kerosene for aviation<br>From: EU oil<br>To: kerosene for aviation<br>Flow: 744076818.4",
           "Carrier: land transport oil<br>From: EU oil<br>To: land transport oil<br>Flow: 2210899991.48",
           "Carrier: naphtha for industry<br>From: EU oil<br>To: naphtha for industry<br>Flow: 777147390.41",
           "Carrier: rural oil boiler<br>From: EU oil<br>To: rural heat<br>Flow: 7952870.43",
           "Carrier: shipping oil<br>From: EU oil<br>To: shipping oil<br>Flow: 404983052.97",
           "Carrier: urban decentral oil boiler<br>From: EU oil<br>To: urban decentral heat<br>Flow: 27766794.85"
          ],
          "hovertemplate": "%{customdata}<extra></extra>",
          "source": {
           "bdata": "AAAAAAAAAAA=",
           "dtype": "i1"
          },
          "target": {
           "bdata": "AQIDBAUGBwg=",
           "dtype": "i1"
          },
          "value": {
           "bdata": "R6aeP8GGmEHKvnUDyLoEQPsdMwnbLMZBN0XvAvV44EH4mjT/KSnHQdCkmJt5Vl5B/474DI0juEEGoqqtAHt6QQ==",
           "dtype": "f8"
          }
         },
         "node": {
          "label": [
           "EU oil",
           "agriculture machinery oil",
           "electric network",
           "kerosene for aviation",
           "land transport oil",
           "naphtha for industry",
           "rural heat",
           "shipping oil",
           "urban decentral heat"
          ],
          "line": {
           "color": "black",
           "width": 0.5
          },
          "pad": 15,
          "thickness": 20
         },
         "type": "sankey"
        }
       ],
       "layout": {
        "font": {
         "size": 12
        },
        "template": {
         "data": {
          "bar": [
           {
            "error_x": {
             "color": "#2a3f5f"
            },
            "error_y": {
             "color": "#2a3f5f"
            },
            "marker": {
             "line": {
              "color": "#E5ECF6",
              "width": 0.5
             },
             "pattern": {
              "fillmode": "overlay",
              "size": 10,
              "solidity": 0.2
             }
            },
            "type": "bar"
           }
          ],
          "barpolar": [
           {
            "marker": {
             "line": {
              "color": "#E5ECF6",
              "width": 0.5
             },
             "pattern": {
              "fillmode": "overlay",
              "size": 10,
              "solidity": 0.2
             }
            },
            "type": "barpolar"
           }
          ],
          "carpet": [
           {
            "aaxis": {
             "endlinecolor": "#2a3f5f",
             "gridcolor": "white",
             "linecolor": "white",
             "minorgridcolor": "white",
             "startlinecolor": "#2a3f5f"
            },
            "baxis": {
             "endlinecolor": "#2a3f5f",
             "gridcolor": "white",
             "linecolor": "white",
             "minorgridcolor": "white",
             "startlinecolor": "#2a3f5f"
            },
            "type": "carpet"
           }
          ],
          "choropleth": [
           {
            "colorbar": {
             "outlinewidth": 0,
             "ticks": ""
            },
            "type": "choropleth"
           }
          ],
          "contour": [
           {
            "colorbar": {
             "outlinewidth": 0,
             "ticks": ""
            },
            "colorscale": [
             [
              0,
              "#0d0887"
             ],
             [
              0.1111111111111111,
              "#46039f"
             ],
             [
              0.2222222222222222,
              "#7201a8"
             ],
             [
              0.3333333333333333,
              "#9c179e"
             ],
             [
              0.4444444444444444,
              "#bd3786"
             ],
             [
              0.5555555555555556,
              "#d8576b"
             ],
             [
              0.6666666666666666,
              "#ed7953"
             ],
             [
              0.7777777777777778,
              "#fb9f3a"
             ],
             [
              0.8888888888888888,
              "#fdca26"
             ],
             [
              1,
              "#f0f921"
             ]
            ],
            "type": "contour"
           }
          ],
          "contourcarpet": [
           {
            "colorbar": {
             "outlinewidth": 0,
             "ticks": ""
            },
            "type": "contourcarpet"
           }
          ],
          "heatmap": [
           {
            "colorbar": {
             "outlinewidth": 0,
             "ticks": ""
            },
            "colorscale": [
             [
              0,
              "#0d0887"
             ],
             [
              0.1111111111111111,
              "#46039f"
             ],
             [
              0.2222222222222222,
              "#7201a8"
             ],
             [
              0.3333333333333333,
              "#9c179e"
             ],
             [
              0.4444444444444444,
              "#bd3786"
             ],
             [
              0.5555555555555556,
              "#d8576b"
             ],
             [
              0.6666666666666666,
              "#ed7953"
             ],
             [
              0.7777777777777778,
              "#fb9f3a"
             ],
             [
              0.8888888888888888,
              "#fdca26"
             ],
             [
              1,
              "#f0f921"
             ]
            ],
            "type": "heatmap"
           }
          ],
          "histogram": [
           {
            "marker": {
             "pattern": {
              "fillmode": "overlay",
              "size": 10,
              "solidity": 0.2
             }
            },
            "type": "histogram"
           }
          ],
          "histogram2d": [
           {
            "colorbar": {
             "outlinewidth": 0,
             "ticks": ""
            },
            "colorscale": [
             [
              0,
              "#0d0887"
             ],
             [
              0.1111111111111111,
              "#46039f"
             ],
             [
              0.2222222222222222,
              "#7201a8"
             ],
             [
              0.3333333333333333,
              "#9c179e"
             ],
             [
              0.4444444444444444,
              "#bd3786"
             ],
             [
              0.5555555555555556,
              "#d8576b"
             ],
             [
              0.6666666666666666,
              "#ed7953"
             ],
             [
              0.7777777777777778,
              "#fb9f3a"
             ],
             [
              0.8888888888888888,
              "#fdca26"
             ],
             [
              1,
              "#f0f921"
             ]
            ],
            "type": "histogram2d"
           }
          ],
          "histogram2dcontour": [
           {
            "colorbar": {
             "outlinewidth": 0,
             "ticks": ""
            },
            "colorscale": [
             [
              0,
              "#0d0887"
             ],
             [
              0.1111111111111111,
              "#46039f"
             ],
             [
              0.2222222222222222,
              "#7201a8"
             ],
             [
              0.3333333333333333,
              "#9c179e"
             ],
             [
              0.4444444444444444,
              "#bd3786"
             ],
             [
              0.5555555555555556,
              "#d8576b"
             ],
             [
              0.6666666666666666,
              "#ed7953"
             ],
             [
              0.7777777777777778,
              "#fb9f3a"
             ],
             [
              0.8888888888888888,
              "#fdca26"
             ],
             [
              1,
              "#f0f921"
             ]
            ],
            "type": "histogram2dcontour"
           }
          ],
          "mesh3d": [
           {
            "colorbar": {
             "outlinewidth": 0,
             "ticks": ""
            },
            "type": "mesh3d"
           }
          ],
          "parcoords": [
           {
            "line": {
             "colorbar": {
              "outlinewidth": 0,
              "ticks": ""
             }
            },
            "type": "parcoords"
           }
          ],
          "pie": [
           {
            "automargin": true,
            "type": "pie"
           }
          ],
          "scatter": [
           {
            "fillpattern": {
             "fillmode": "overlay",
             "size": 10,
             "solidity": 0.2
            },
            "type": "scatter"
           }
          ],
          "scatter3d": [
           {
            "line": {
             "colorbar": {
              "outlinewidth": 0,
              "ticks": ""
             }
            },
            "marker": {
             "colorbar": {
              "outlinewidth": 0,
              "ticks": ""
             }
            },
            "type": "scatter3d"
           }
          ],
          "scattercarpet": [
           {
            "marker": {
             "colorbar": {
              "outlinewidth": 0,
              "ticks": ""
             }
            },
            "type": "scattercarpet"
           }
          ],
          "scattergeo": [
           {
            "marker": {
             "colorbar": {
              "outlinewidth": 0,
              "ticks": ""
             }
            },
            "type": "scattergeo"
           }
          ],
          "scattergl": [
           {
            "marker": {
             "colorbar": {
              "outlinewidth": 0,
              "ticks": ""
             }
            },
            "type": "scattergl"
           }
          ],
          "scattermap": [
           {
            "marker": {
             "colorbar": {
              "outlinewidth": 0,
              "ticks": ""
             }
            },
            "type": "scattermap"
           }
          ],
          "scattermapbox": [
           {
            "marker": {
             "colorbar": {
              "outlinewidth": 0,
              "ticks": ""
             }
            },
            "type": "scattermapbox"
           }
          ],
          "scatterpolar": [
           {
            "marker": {
             "colorbar": {
              "outlinewidth": 0,
              "ticks": ""
             }
            },
            "type": "scatterpolar"
           }
          ],
          "scatterpolargl": [
           {
            "marker": {
             "colorbar": {
              "outlinewidth": 0,
              "ticks": ""
             }
            },
            "type": "scatterpolargl"
           }
          ],
          "scatterternary": [
           {
            "marker": {
             "colorbar": {
              "outlinewidth": 0,
              "ticks": ""
             }
            },
            "type": "scatterternary"
           }
          ],
          "surface": [
           {
            "colorbar": {
             "outlinewidth": 0,
             "ticks": ""
            },
            "colorscale": [
             [
              0,
              "#0d0887"
             ],
             [
              0.1111111111111111,
              "#46039f"
             ],
             [
              0.2222222222222222,
              "#7201a8"
             ],
             [
              0.3333333333333333,
              "#9c179e"
             ],
             [
              0.4444444444444444,
              "#bd3786"
             ],
             [
              0.5555555555555556,
              "#d8576b"
             ],
             [
              0.6666666666666666,
              "#ed7953"
             ],
             [
              0.7777777777777778,
              "#fb9f3a"
             ],
             [
              0.8888888888888888,
              "#fdca26"
             ],
             [
              1,
              "#f0f921"
             ]
            ],
            "type": "surface"
           }
          ],
          "table": [
           {
            "cells": {
             "fill": {
              "color": "#EBF0F8"
             },
             "line": {
              "color": "white"
             }
            },
            "header": {
             "fill": {
              "color": "#C8D4E3"
             },
             "line": {
              "color": "white"
             }
            },
            "type": "table"
           }
          ]
         },
         "layout": {
          "annotationdefaults": {
           "arrowcolor": "#2a3f5f",
           "arrowhead": 0,
           "arrowwidth": 1
          },
          "autotypenumbers": "strict",
          "coloraxis": {
           "colorbar": {
            "outlinewidth": 0,
            "ticks": ""
           }
          },
          "colorscale": {
           "diverging": [
            [
             0,
             "#8e0152"
            ],
            [
             0.1,
             "#c51b7d"
            ],
            [
             0.2,
             "#de77ae"
            ],
            [
             0.3,
             "#f1b6da"
            ],
            [
             0.4,
             "#fde0ef"
            ],
            [
             0.5,
             "#f7f7f7"
            ],
            [
             0.6,
             "#e6f5d0"
            ],
            [
             0.7,
             "#b8e186"
            ],
            [
             0.8,
             "#7fbc41"
            ],
            [
             0.9,
             "#4d9221"
            ],
            [
             1,
             "#276419"
            ]
           ],
           "sequential": [
            [
             0,
             "#0d0887"
            ],
            [
             0.1111111111111111,
             "#46039f"
            ],
            [
             0.2222222222222222,
             "#7201a8"
            ],
            [
             0.3333333333333333,
             "#9c179e"
            ],
            [
             0.4444444444444444,
             "#bd3786"
            ],
            [
             0.5555555555555556,
             "#d8576b"
            ],
            [
             0.6666666666666666,
             "#ed7953"
            ],
            [
             0.7777777777777778,
             "#fb9f3a"
            ],
            [
             0.8888888888888888,
             "#fdca26"
            ],
            [
             1,
             "#f0f921"
            ]
           ],
           "sequentialminus": [
            [
             0,
             "#0d0887"
            ],
            [
             0.1111111111111111,
             "#46039f"
            ],
            [
             0.2222222222222222,
             "#7201a8"
            ],
            [
             0.3333333333333333,
             "#9c179e"
            ],
            [
             0.4444444444444444,
             "#bd3786"
            ],
            [
             0.5555555555555556,
             "#d8576b"
            ],
            [
             0.6666666666666666,
             "#ed7953"
            ],
            [
             0.7777777777777778,
             "#fb9f3a"
            ],
            [
             0.8888888888888888,
             "#fdca26"
            ],
            [
             1,
             "#f0f921"
            ]
           ]
          },
          "colorway": [
           "#636efa",
           "#EF553B",
           "#00cc96",
           "#ab63fa",
           "#FFA15A",
           "#19d3f3",
           "#FF6692",
           "#B6E880",
           "#FF97FF",
           "#FECB52"
          ],
          "font": {
           "color": "#2a3f5f"
          },
          "geo": {
           "bgcolor": "white",
           "lakecolor": "white",
           "landcolor": "#E5ECF6",
           "showlakes": true,
           "showland": true,
           "subunitcolor": "white"
          },
          "hoverlabel": {
           "align": "left"
          },
          "hovermode": "closest",
          "mapbox": {
           "style": "light"
          },
          "paper_bgcolor": "white",
          "plot_bgcolor": "#E5ECF6",
          "polar": {
           "angularaxis": {
            "gridcolor": "white",
            "linecolor": "white",
            "ticks": ""
           },
           "bgcolor": "#E5ECF6",
           "radialaxis": {
            "gridcolor": "white",
            "linecolor": "white",
            "ticks": ""
           }
          },
          "scene": {
           "xaxis": {
            "backgroundcolor": "#E5ECF6",
            "gridcolor": "white",
            "gridwidth": 2,
            "linecolor": "white",
            "showbackground": true,
            "ticks": "",
            "zerolinecolor": "white"
           },
           "yaxis": {
            "backgroundcolor": "#E5ECF6",
            "gridcolor": "white",
            "gridwidth": 2,
            "linecolor": "white",
            "showbackground": true,
            "ticks": "",
            "zerolinecolor": "white"
           },
           "zaxis": {
            "backgroundcolor": "#E5ECF6",
            "gridcolor": "white",
            "gridwidth": 2,
            "linecolor": "white",
            "showbackground": true,
            "ticks": "",
            "zerolinecolor": "white"
           }
          },
          "shapedefaults": {
           "line": {
            "color": "#2a3f5f"
           }
          },
          "ternary": {
           "aaxis": {
            "gridcolor": "white",
            "linecolor": "white",
            "ticks": ""
           },
           "baxis": {
            "gridcolor": "white",
            "linecolor": "white",
            "ticks": ""
           },
           "bgcolor": "#E5ECF6",
           "caxis": {
            "gridcolor": "white",
            "linecolor": "white",
            "ticks": ""
           }
          },
          "title": {
           "x": 0.05
          },
          "xaxis": {
           "automargin": true,
           "gridcolor": "white",
           "linecolor": "white",
           "ticks": "",
           "title": {
            "standoff": 15
           },
           "zerolinecolor": "white",
           "zerolinewidth": 2
          },
          "yaxis": {
           "automargin": true,
           "gridcolor": "white",
           "linecolor": "white",
           "ticks": "",
           "title": {
            "standoff": 15
           },
           "zerolinecolor": "white",
           "zerolinewidth": 2
          }
         }
        },
        "title": {
         "text": "Energy Flow Sankey Diagram with Carrier Info"
        }
       }
      }
     },
     "metadata": {},
     "output_type": "display_data"
    },
    {
     "name": "stdout",
     "output_type": "stream",
     "text": [
      "                                 link name source bus  \\\n",
      "0                 AL0 0 land transport oil     EU oil   \n",
      "1                 AT0 0 land transport oil     EU oil   \n",
      "2                 BA0 0 land transport oil     EU oil   \n",
      "3                 BE0 0 land transport oil     EU oil   \n",
      "4                 BG0 0 land transport oil     EU oil   \n",
      "..                                     ...        ...   \n",
      "321  SI0 0 urban decentral oil boiler-2019     EU oil   \n",
      "322            SK0 0 rural oil boiler-2015     EU oil   \n",
      "323            SK0 0 rural oil boiler-2019     EU oil   \n",
      "324  SK0 0 urban decentral oil boiler-2015     EU oil   \n",
      "325  SK0 0 urban decentral oil boiler-2019     EU oil   \n",
      "\n",
      "                    target_bus1  link dispatch from source [MWh/a]  \\\n",
      "0      AL0 0 land transport oil                       4.738796e+06   \n",
      "1      AT0 0 land transport oil                       4.870263e+07   \n",
      "2      BA0 0 land transport oil                       7.825273e+06   \n",
      "3      BE0 0 land transport oil                       6.580133e+07   \n",
      "4      BG0 0 land transport oil                       1.866983e+07   \n",
      "..                          ...                                ...   \n",
      "321  SI0 0 urban decentral heat                       1.414453e+04   \n",
      "322            SK0 0 rural heat                       9.301624e+02   \n",
      "323            SK0 0 rural heat                       7.441442e+02   \n",
      "324  SK0 0 urban decentral heat                       1.294077e+03   \n",
      "325  SK0 0 urban decentral heat                       1.035279e+03   \n",
      "\n",
      "     link MWh arrival at target [MWh/a]                     carrier  \\\n",
      "0                          4.738796e+06          land transport oil   \n",
      "1                          4.870263e+07          land transport oil   \n",
      "2                          7.825273e+06          land transport oil   \n",
      "3                          6.580133e+07          land transport oil   \n",
      "4                          1.866983e+07          land transport oil   \n",
      "..                                  ...                         ...   \n",
      "321                        8.861471e+03  urban decentral oil boiler   \n",
      "322                        5.743935e+02            rural oil boiler   \n",
      "323                        4.595235e+02            rural oil boiler   \n",
      "324                        7.991177e+02  urban decentral oil boiler   \n",
      "325                        6.393047e+02  urban decentral oil boiler   \n",
      "\n",
      "    aggregate source     aggregate targets  \n",
      "0             EU oil    land transport oil  \n",
      "1             EU oil    land transport oil  \n",
      "2             EU oil    land transport oil  \n",
      "3             EU oil    land transport oil  \n",
      "4             EU oil    land transport oil  \n",
      "..               ...                   ...  \n",
      "321           EU oil  urban decentral heat  \n",
      "322           EU oil            rural heat  \n",
      "323           EU oil            rural heat  \n",
      "324           EU oil  urban decentral heat  \n",
      "325           EU oil  urban decentral heat  \n",
      "\n",
      "[326 rows x 8 columns]\n"
     ]
    }
   ],
   "source": [
    "Sankey_from_bus(network_2030, 'EU oil')"
   ]
  },
  {
   "cell_type": "code",
   "execution_count": 51,
   "id": "b94ca120",
   "metadata": {},
   "outputs": [
    {
     "name": "stderr",
     "output_type": "stream",
     "text": [
      "/var/folders/_w/ry357l9n0vjg8jgfczvkpk3r0000gn/T/ipykernel_44213/3033883303.py:23: FutureWarning:\n",
      "\n",
      "Series.__getitem__ treating keys as positions is deprecated. In a future version, integer keys will always be treated as labels (consistent with DataFrame behavior). To access a value by position, use `ser.iloc[pos]`\n",
      "\n",
      "/var/folders/_w/ry357l9n0vjg8jgfczvkpk3r0000gn/T/ipykernel_44213/3033883303.py:27: FutureWarning:\n",
      "\n",
      "Series.__getitem__ treating keys as positions is deprecated. In a future version, integer keys will always be treated as labels (consistent with DataFrame behavior). To access a value by position, use `ser.iloc[pos]`\n",
      "\n",
      "/var/folders/_w/ry357l9n0vjg8jgfczvkpk3r0000gn/T/ipykernel_44213/3033883303.py:64: FutureWarning:\n",
      "\n",
      "unique with argument that is not not a Series, Index, ExtensionArray, or np.ndarray is deprecated and will raise in a future version.\n",
      "\n"
     ]
    },
    {
     "data": {
      "application/vnd.plotly.v1+json": {
       "config": {
        "plotlyServerURL": "https://plot.ly"
       },
       "data": [
        {
         "link": {
          "customdata": [
           "Carrier: agriculture machinery oil<br>From: EU oil<br>To: agriculture machinery oil<br>Flow: 102871119.9",
           "Carrier: oil<br>From: EU oil<br>To: electric network<br>Flow: 2.59",
           "Carrier: kerosene for aviation<br>From: EU oil<br>To: kerosene for aviation<br>Flow: 744076818.4",
           "Carrier: land transport oil<br>From: EU oil<br>To: land transport oil<br>Flow: 2210899991.48",
           "Carrier: naphtha for industry<br>From: EU oil<br>To: naphtha for industry<br>Flow: 777147390.41",
           "Carrier: rural oil boiler<br>From: EU oil<br>To: rural heat<br>Flow: 7952870.43",
           "Carrier: shipping oil<br>From: EU oil<br>To: shipping oil<br>Flow: 404983052.97",
           "Carrier: urban decentral oil boiler<br>From: EU oil<br>To: urban decentral heat<br>Flow: 27766794.85"
          ],
          "hovertemplate": "%{customdata}<extra></extra>",
          "source": {
           "bdata": "AAAAAAAAAAA=",
           "dtype": "i1"
          },
          "target": {
           "bdata": "AQIDBAUGBwg=",
           "dtype": "i1"
          },
          "value": {
           "bdata": "R6aeP8GGmEHKvnUDyLoEQPsdMwnbLMZBN0XvAvV44EH4mjT/KSnHQdCkmJt5Vl5B/474DI0juEEGoqqtAHt6QQ==",
           "dtype": "f8"
          }
         },
         "node": {
          "label": [
           "EU oil",
           "agriculture machinery oil",
           "electric network",
           "kerosene for aviation",
           "land transport oil",
           "naphtha for industry",
           "rural heat",
           "shipping oil",
           "urban decentral heat"
          ],
          "line": {
           "color": "black",
           "width": 0.5
          },
          "pad": 15,
          "thickness": 20
         },
         "type": "sankey"
        }
       ],
       "layout": {
        "font": {
         "size": 12
        },
        "template": {
         "data": {
          "bar": [
           {
            "error_x": {
             "color": "#2a3f5f"
            },
            "error_y": {
             "color": "#2a3f5f"
            },
            "marker": {
             "line": {
              "color": "#E5ECF6",
              "width": 0.5
             },
             "pattern": {
              "fillmode": "overlay",
              "size": 10,
              "solidity": 0.2
             }
            },
            "type": "bar"
           }
          ],
          "barpolar": [
           {
            "marker": {
             "line": {
              "color": "#E5ECF6",
              "width": 0.5
             },
             "pattern": {
              "fillmode": "overlay",
              "size": 10,
              "solidity": 0.2
             }
            },
            "type": "barpolar"
           }
          ],
          "carpet": [
           {
            "aaxis": {
             "endlinecolor": "#2a3f5f",
             "gridcolor": "white",
             "linecolor": "white",
             "minorgridcolor": "white",
             "startlinecolor": "#2a3f5f"
            },
            "baxis": {
             "endlinecolor": "#2a3f5f",
             "gridcolor": "white",
             "linecolor": "white",
             "minorgridcolor": "white",
             "startlinecolor": "#2a3f5f"
            },
            "type": "carpet"
           }
          ],
          "choropleth": [
           {
            "colorbar": {
             "outlinewidth": 0,
             "ticks": ""
            },
            "type": "choropleth"
           }
          ],
          "contour": [
           {
            "colorbar": {
             "outlinewidth": 0,
             "ticks": ""
            },
            "colorscale": [
             [
              0,
              "#0d0887"
             ],
             [
              0.1111111111111111,
              "#46039f"
             ],
             [
              0.2222222222222222,
              "#7201a8"
             ],
             [
              0.3333333333333333,
              "#9c179e"
             ],
             [
              0.4444444444444444,
              "#bd3786"
             ],
             [
              0.5555555555555556,
              "#d8576b"
             ],
             [
              0.6666666666666666,
              "#ed7953"
             ],
             [
              0.7777777777777778,
              "#fb9f3a"
             ],
             [
              0.8888888888888888,
              "#fdca26"
             ],
             [
              1,
              "#f0f921"
             ]
            ],
            "type": "contour"
           }
          ],
          "contourcarpet": [
           {
            "colorbar": {
             "outlinewidth": 0,
             "ticks": ""
            },
            "type": "contourcarpet"
           }
          ],
          "heatmap": [
           {
            "colorbar": {
             "outlinewidth": 0,
             "ticks": ""
            },
            "colorscale": [
             [
              0,
              "#0d0887"
             ],
             [
              0.1111111111111111,
              "#46039f"
             ],
             [
              0.2222222222222222,
              "#7201a8"
             ],
             [
              0.3333333333333333,
              "#9c179e"
             ],
             [
              0.4444444444444444,
              "#bd3786"
             ],
             [
              0.5555555555555556,
              "#d8576b"
             ],
             [
              0.6666666666666666,
              "#ed7953"
             ],
             [
              0.7777777777777778,
              "#fb9f3a"
             ],
             [
              0.8888888888888888,
              "#fdca26"
             ],
             [
              1,
              "#f0f921"
             ]
            ],
            "type": "heatmap"
           }
          ],
          "histogram": [
           {
            "marker": {
             "pattern": {
              "fillmode": "overlay",
              "size": 10,
              "solidity": 0.2
             }
            },
            "type": "histogram"
           }
          ],
          "histogram2d": [
           {
            "colorbar": {
             "outlinewidth": 0,
             "ticks": ""
            },
            "colorscale": [
             [
              0,
              "#0d0887"
             ],
             [
              0.1111111111111111,
              "#46039f"
             ],
             [
              0.2222222222222222,
              "#7201a8"
             ],
             [
              0.3333333333333333,
              "#9c179e"
             ],
             [
              0.4444444444444444,
              "#bd3786"
             ],
             [
              0.5555555555555556,
              "#d8576b"
             ],
             [
              0.6666666666666666,
              "#ed7953"
             ],
             [
              0.7777777777777778,
              "#fb9f3a"
             ],
             [
              0.8888888888888888,
              "#fdca26"
             ],
             [
              1,
              "#f0f921"
             ]
            ],
            "type": "histogram2d"
           }
          ],
          "histogram2dcontour": [
           {
            "colorbar": {
             "outlinewidth": 0,
             "ticks": ""
            },
            "colorscale": [
             [
              0,
              "#0d0887"
             ],
             [
              0.1111111111111111,
              "#46039f"
             ],
             [
              0.2222222222222222,
              "#7201a8"
             ],
             [
              0.3333333333333333,
              "#9c179e"
             ],
             [
              0.4444444444444444,
              "#bd3786"
             ],
             [
              0.5555555555555556,
              "#d8576b"
             ],
             [
              0.6666666666666666,
              "#ed7953"
             ],
             [
              0.7777777777777778,
              "#fb9f3a"
             ],
             [
              0.8888888888888888,
              "#fdca26"
             ],
             [
              1,
              "#f0f921"
             ]
            ],
            "type": "histogram2dcontour"
           }
          ],
          "mesh3d": [
           {
            "colorbar": {
             "outlinewidth": 0,
             "ticks": ""
            },
            "type": "mesh3d"
           }
          ],
          "parcoords": [
           {
            "line": {
             "colorbar": {
              "outlinewidth": 0,
              "ticks": ""
             }
            },
            "type": "parcoords"
           }
          ],
          "pie": [
           {
            "automargin": true,
            "type": "pie"
           }
          ],
          "scatter": [
           {
            "fillpattern": {
             "fillmode": "overlay",
             "size": 10,
             "solidity": 0.2
            },
            "type": "scatter"
           }
          ],
          "scatter3d": [
           {
            "line": {
             "colorbar": {
              "outlinewidth": 0,
              "ticks": ""
             }
            },
            "marker": {
             "colorbar": {
              "outlinewidth": 0,
              "ticks": ""
             }
            },
            "type": "scatter3d"
           }
          ],
          "scattercarpet": [
           {
            "marker": {
             "colorbar": {
              "outlinewidth": 0,
              "ticks": ""
             }
            },
            "type": "scattercarpet"
           }
          ],
          "scattergeo": [
           {
            "marker": {
             "colorbar": {
              "outlinewidth": 0,
              "ticks": ""
             }
            },
            "type": "scattergeo"
           }
          ],
          "scattergl": [
           {
            "marker": {
             "colorbar": {
              "outlinewidth": 0,
              "ticks": ""
             }
            },
            "type": "scattergl"
           }
          ],
          "scattermap": [
           {
            "marker": {
             "colorbar": {
              "outlinewidth": 0,
              "ticks": ""
             }
            },
            "type": "scattermap"
           }
          ],
          "scattermapbox": [
           {
            "marker": {
             "colorbar": {
              "outlinewidth": 0,
              "ticks": ""
             }
            },
            "type": "scattermapbox"
           }
          ],
          "scatterpolar": [
           {
            "marker": {
             "colorbar": {
              "outlinewidth": 0,
              "ticks": ""
             }
            },
            "type": "scatterpolar"
           }
          ],
          "scatterpolargl": [
           {
            "marker": {
             "colorbar": {
              "outlinewidth": 0,
              "ticks": ""
             }
            },
            "type": "scatterpolargl"
           }
          ],
          "scatterternary": [
           {
            "marker": {
             "colorbar": {
              "outlinewidth": 0,
              "ticks": ""
             }
            },
            "type": "scatterternary"
           }
          ],
          "surface": [
           {
            "colorbar": {
             "outlinewidth": 0,
             "ticks": ""
            },
            "colorscale": [
             [
              0,
              "#0d0887"
             ],
             [
              0.1111111111111111,
              "#46039f"
             ],
             [
              0.2222222222222222,
              "#7201a8"
             ],
             [
              0.3333333333333333,
              "#9c179e"
             ],
             [
              0.4444444444444444,
              "#bd3786"
             ],
             [
              0.5555555555555556,
              "#d8576b"
             ],
             [
              0.6666666666666666,
              "#ed7953"
             ],
             [
              0.7777777777777778,
              "#fb9f3a"
             ],
             [
              0.8888888888888888,
              "#fdca26"
             ],
             [
              1,
              "#f0f921"
             ]
            ],
            "type": "surface"
           }
          ],
          "table": [
           {
            "cells": {
             "fill": {
              "color": "#EBF0F8"
             },
             "line": {
              "color": "white"
             }
            },
            "header": {
             "fill": {
              "color": "#C8D4E3"
             },
             "line": {
              "color": "white"
             }
            },
            "type": "table"
           }
          ]
         },
         "layout": {
          "annotationdefaults": {
           "arrowcolor": "#2a3f5f",
           "arrowhead": 0,
           "arrowwidth": 1
          },
          "autotypenumbers": "strict",
          "coloraxis": {
           "colorbar": {
            "outlinewidth": 0,
            "ticks": ""
           }
          },
          "colorscale": {
           "diverging": [
            [
             0,
             "#8e0152"
            ],
            [
             0.1,
             "#c51b7d"
            ],
            [
             0.2,
             "#de77ae"
            ],
            [
             0.3,
             "#f1b6da"
            ],
            [
             0.4,
             "#fde0ef"
            ],
            [
             0.5,
             "#f7f7f7"
            ],
            [
             0.6,
             "#e6f5d0"
            ],
            [
             0.7,
             "#b8e186"
            ],
            [
             0.8,
             "#7fbc41"
            ],
            [
             0.9,
             "#4d9221"
            ],
            [
             1,
             "#276419"
            ]
           ],
           "sequential": [
            [
             0,
             "#0d0887"
            ],
            [
             0.1111111111111111,
             "#46039f"
            ],
            [
             0.2222222222222222,
             "#7201a8"
            ],
            [
             0.3333333333333333,
             "#9c179e"
            ],
            [
             0.4444444444444444,
             "#bd3786"
            ],
            [
             0.5555555555555556,
             "#d8576b"
            ],
            [
             0.6666666666666666,
             "#ed7953"
            ],
            [
             0.7777777777777778,
             "#fb9f3a"
            ],
            [
             0.8888888888888888,
             "#fdca26"
            ],
            [
             1,
             "#f0f921"
            ]
           ],
           "sequentialminus": [
            [
             0,
             "#0d0887"
            ],
            [
             0.1111111111111111,
             "#46039f"
            ],
            [
             0.2222222222222222,
             "#7201a8"
            ],
            [
             0.3333333333333333,
             "#9c179e"
            ],
            [
             0.4444444444444444,
             "#bd3786"
            ],
            [
             0.5555555555555556,
             "#d8576b"
            ],
            [
             0.6666666666666666,
             "#ed7953"
            ],
            [
             0.7777777777777778,
             "#fb9f3a"
            ],
            [
             0.8888888888888888,
             "#fdca26"
            ],
            [
             1,
             "#f0f921"
            ]
           ]
          },
          "colorway": [
           "#636efa",
           "#EF553B",
           "#00cc96",
           "#ab63fa",
           "#FFA15A",
           "#19d3f3",
           "#FF6692",
           "#B6E880",
           "#FF97FF",
           "#FECB52"
          ],
          "font": {
           "color": "#2a3f5f"
          },
          "geo": {
           "bgcolor": "white",
           "lakecolor": "white",
           "landcolor": "#E5ECF6",
           "showlakes": true,
           "showland": true,
           "subunitcolor": "white"
          },
          "hoverlabel": {
           "align": "left"
          },
          "hovermode": "closest",
          "mapbox": {
           "style": "light"
          },
          "paper_bgcolor": "white",
          "plot_bgcolor": "#E5ECF6",
          "polar": {
           "angularaxis": {
            "gridcolor": "white",
            "linecolor": "white",
            "ticks": ""
           },
           "bgcolor": "#E5ECF6",
           "radialaxis": {
            "gridcolor": "white",
            "linecolor": "white",
            "ticks": ""
           }
          },
          "scene": {
           "xaxis": {
            "backgroundcolor": "#E5ECF6",
            "gridcolor": "white",
            "gridwidth": 2,
            "linecolor": "white",
            "showbackground": true,
            "ticks": "",
            "zerolinecolor": "white"
           },
           "yaxis": {
            "backgroundcolor": "#E5ECF6",
            "gridcolor": "white",
            "gridwidth": 2,
            "linecolor": "white",
            "showbackground": true,
            "ticks": "",
            "zerolinecolor": "white"
           },
           "zaxis": {
            "backgroundcolor": "#E5ECF6",
            "gridcolor": "white",
            "gridwidth": 2,
            "linecolor": "white",
            "showbackground": true,
            "ticks": "",
            "zerolinecolor": "white"
           }
          },
          "shapedefaults": {
           "line": {
            "color": "#2a3f5f"
           }
          },
          "ternary": {
           "aaxis": {
            "gridcolor": "white",
            "linecolor": "white",
            "ticks": ""
           },
           "baxis": {
            "gridcolor": "white",
            "linecolor": "white",
            "ticks": ""
           },
           "bgcolor": "#E5ECF6",
           "caxis": {
            "gridcolor": "white",
            "linecolor": "white",
            "ticks": ""
           }
          },
          "title": {
           "x": 0.05
          },
          "xaxis": {
           "automargin": true,
           "gridcolor": "white",
           "linecolor": "white",
           "ticks": "",
           "title": {
            "standoff": 15
           },
           "zerolinecolor": "white",
           "zerolinewidth": 2
          },
          "yaxis": {
           "automargin": true,
           "gridcolor": "white",
           "linecolor": "white",
           "ticks": "",
           "title": {
            "standoff": 15
           },
           "zerolinecolor": "white",
           "zerolinewidth": 2
          }
         }
        },
        "title": {
         "text": "Energy Flow Sankey Diagram with Carrier Info"
        }
       }
      }
     },
     "metadata": {},
     "output_type": "display_data"
    },
    {
     "name": "stdout",
     "output_type": "stream",
     "text": [
      "                                 link name source bus  \\\n",
      "0                 AL0 0 land transport oil     EU oil   \n",
      "1                 AT0 0 land transport oil     EU oil   \n",
      "2                 BA0 0 land transport oil     EU oil   \n",
      "3                 BE0 0 land transport oil     EU oil   \n",
      "4                 BG0 0 land transport oil     EU oil   \n",
      "..                                     ...        ...   \n",
      "321  SI0 0 urban decentral oil boiler-2019     EU oil   \n",
      "322            SK0 0 rural oil boiler-2015     EU oil   \n",
      "323            SK0 0 rural oil boiler-2019     EU oil   \n",
      "324  SK0 0 urban decentral oil boiler-2015     EU oil   \n",
      "325  SK0 0 urban decentral oil boiler-2019     EU oil   \n",
      "\n",
      "                    target_bus1  link dispatch from source [MWh/a]  \\\n",
      "0      AL0 0 land transport oil                       4.738796e+06   \n",
      "1      AT0 0 land transport oil                       4.870263e+07   \n",
      "2      BA0 0 land transport oil                       7.825273e+06   \n",
      "3      BE0 0 land transport oil                       6.580133e+07   \n",
      "4      BG0 0 land transport oil                       1.866983e+07   \n",
      "..                          ...                                ...   \n",
      "321  SI0 0 urban decentral heat                       1.414453e+04   \n",
      "322            SK0 0 rural heat                       9.301624e+02   \n",
      "323            SK0 0 rural heat                       7.441442e+02   \n",
      "324  SK0 0 urban decentral heat                       1.294077e+03   \n",
      "325  SK0 0 urban decentral heat                       1.035279e+03   \n",
      "\n",
      "     link MWh arrival at target [MWh/a]                     carrier  \\\n",
      "0                          4.738796e+06          land transport oil   \n",
      "1                          4.870263e+07          land transport oil   \n",
      "2                          7.825273e+06          land transport oil   \n",
      "3                          6.580133e+07          land transport oil   \n",
      "4                          1.866983e+07          land transport oil   \n",
      "..                                  ...                         ...   \n",
      "321                        8.861471e+03  urban decentral oil boiler   \n",
      "322                        5.743935e+02            rural oil boiler   \n",
      "323                        4.595235e+02            rural oil boiler   \n",
      "324                        7.991177e+02  urban decentral oil boiler   \n",
      "325                        6.393047e+02  urban decentral oil boiler   \n",
      "\n",
      "    aggregate source     aggregate targets  \n",
      "0             EU oil    land transport oil  \n",
      "1             EU oil    land transport oil  \n",
      "2             EU oil    land transport oil  \n",
      "3             EU oil    land transport oil  \n",
      "4             EU oil    land transport oil  \n",
      "..               ...                   ...  \n",
      "321           EU oil  urban decentral heat  \n",
      "322           EU oil            rural heat  \n",
      "323           EU oil            rural heat  \n",
      "324           EU oil  urban decentral heat  \n",
      "325           EU oil  urban decentral heat  \n",
      "\n",
      "[326 rows x 8 columns]\n"
     ]
    }
   ],
   "source": [
    "Sankey_from_bus(network_2030, 'EU oil')"
   ]
  },
  {
   "cell_type": "code",
   "execution_count": 5,
   "id": "9129f9e8",
   "metadata": {},
   "outputs": [
    {
     "name": "stdout",
     "output_type": "stream",
     "text": [
      "The loads connected to this bus are:     ['BG0 0 land transport oil']\n",
      "The incoming links to this bus are from the bus:  ['EU oil']\n",
      "The incoming links are:  Index(['BG0 0 land transport oil'], dtype='object', name='Link')\n"
     ]
    }
   ],
   "source": [
    "import importlib\n",
    "importlib.reload(af)\n",
    "af.bus_connections(network_2040, 'BG0 0 land transport oil')"
   ]
  },
  {
   "cell_type": "code",
   "execution_count": 6,
   "id": "e90bb0b6",
   "metadata": {},
   "outputs": [
    {
     "name": "stdout",
     "output_type": "stream",
     "text": [
      "1064147468425.316\n",
      "744903227897.7213\n",
      "319244240527.59485\n",
      "0.0\n"
     ]
    }
   ],
   "source": [
    "for i in [network_2020, network_2030, network_2040, network_2050]:\n",
    "    network_option = i \n",
    "    land_oil_loads = network_option.loads[network_option.loads.carrier == 'land transport oil'].index #'land transport oil'\n",
    "    land_transport_yearly_oil_loads = network_option.loads_t.p[land_oil_loads].sum(axis = 1).sum() * (365 * 24 ) #all hours in the year\n",
    "    print(land_transport_yearly_oil_loads)"
   ]
  },
  {
   "cell_type": "markdown",
   "id": "8ad27cec",
   "metadata": {},
   "source": [
    "ok so EU oil is going to land transport, naptha for industry, kerosene for aviation, shipping oil, and agricultural machinery oil by 2040 and 2050 \n",
    "Question 2 - what gets lumped into 'land transport oil?' \n",
    "Answer 2 - it looks like only ice car shared are actually contributing the land transport oil. \n",
    "\n",
    "Question 3 - are the demands for kerosene for aviation and naptha for industry variable? \n",
    "Answer 3 - see below\n"
   ]
  },
  {
   "cell_type": "code",
   "execution_count": 55,
   "id": "d7044b18",
   "metadata": {},
   "outputs": [
    {
     "name": "stdout",
     "output_type": "stream",
     "text": [
      "2020:\n",
      "carrier\n",
      "agriculture machinery oil    3.956582e+06\n",
      "kerosene for aviation        2.861834e+07\n",
      "naphtha for industry         3.965367e+07\n",
      "shipping oil                 2.225182e+07\n",
      "dtype: float64\n",
      "2030:\n",
      "carrier\n",
      "agriculture machinery oil    3.956582e+06\n",
      "kerosene for aviation        2.861834e+07\n",
      "naphtha for industry         2.989028e+07\n",
      "shipping oil                 1.557627e+07\n",
      "dtype: float64\n",
      "2040:\n",
      "carrier\n",
      "agriculture machinery oil    3.956582e+06\n",
      "kerosene for aviation        2.861834e+07\n",
      "naphtha for industry         1.941982e+07\n",
      "shipping oil                 6.675545e+06\n",
      "dtype: float64\n",
      "2050:\n",
      "carrier\n",
      "agriculture machinery oil    3.956582e+06\n",
      "kerosene for aviation        2.861834e+07\n",
      "naphtha for industry         1.065089e+07\n",
      "dtype: float64\n"
     ]
    }
   ],
   "source": [
    "loads_changes_dataframe = pd.DataFrame()\n",
    "nlist = [2020, 2030, 2040, 2050]\n",
    "n=0\n",
    "for i in [network_2020, network_2030, network_2040, network_2050]:\n",
    "    print(str(nlist[n]) + \":\")\n",
    "    load_type = ['shipping oil', 'naphtha for industry','kerosene for aviation', 'agriculture machinery oil']\n",
    "    network_choice = i\n",
    "    relevant_loads = network_choice.loads[network_choice.loads.carrier.isin(load_type)].index\n",
    "    loads_sum = network_choice.loads_t.p[relevant_loads].copy()\n",
    "    loads_sum = loads_sum.T.groupby(network_choice.loads.carrier).sum().T.sum()\n",
    "    print(loads_sum)\n",
    "    n += 1"
   ]
  },
  {
   "cell_type": "markdown",
   "id": "eddef5cf",
   "metadata": {},
   "source": [
    "the demand for kerosene for aviation doesn't change. Naptha for industry goes down, and shipping oil disapears by 2050 (after decreasing in earlier years)"
   ]
  },
  {
   "cell_type": "code",
   "execution_count": 46,
   "id": "962c21a5",
   "metadata": {},
   "outputs": [
    {
     "name": "stderr",
     "output_type": "stream",
     "text": [
      "/Users/katherine.shaw/Desktop/pypsa-eur/Evaluation Documents/Auxillary_Functions.py:1585: FutureWarning:\n",
      "\n",
      "Series.__getitem__ treating keys as positions is deprecated. In a future version, integer keys will always be treated as labels (consistent with DataFrame behavior). To access a value by position, use `ser.iloc[pos]`\n",
      "\n",
      "/Users/katherine.shaw/Desktop/pypsa-eur/Evaluation Documents/Auxillary_Functions.py:1588: FutureWarning:\n",
      "\n",
      "Series.__getitem__ treating keys as positions is deprecated. In a future version, integer keys will always be treated as labels (consistent with DataFrame behavior). To access a value by position, use `ser.iloc[pos]`\n",
      "\n",
      "/Users/katherine.shaw/Desktop/pypsa-eur/Evaluation Documents/Auxillary_Functions.py:1630: FutureWarning:\n",
      "\n",
      "unique with argument that is not not a Series, Index, ExtensionArray, or np.ndarray is deprecated and will raise in a future version.\n",
      "\n"
     ]
    },
    {
     "data": {
      "application/vnd.plotly.v1+json": {
       "config": {
        "plotlyServerURL": "https://plot.ly"
       },
       "data": [
        {
         "link": {
          "customdata": [
           "Carrier: urban central solid biomass CHP<br>From: EU solid biomass<br>To: electric network<br>Flow: 19008418.92",
           "Carrier: rural biomass boiler<br>From: EU solid biomass<br>To: rural heat<br>Flow: 25731060.57",
           "Carrier: solid biomass for industry<br>From: EU solid biomass<br>To: solid biomass for industry<br>Flow: 811202161.31",
           "Carrier: urban decentral biomass boiler<br>From: EU solid biomass<br>To: urban decentral heat<br>Flow: 169981536.11",
           "Carrier: methanolisation<br>From: H2<br>To: EU methanol<br>Flow: 582400221.84",
           "Carrier: Fischer-Tropsch<br>From: H2<br>To: EU oil<br>Flow: 1406869781.52",
           "Carrier: H2 pipeline retrofitted<br>From: H2<br>To: H2<br>Flow: 610557564.28",
           "Carrier: H2 Fuel Cell<br>From: H2<br>To: electric network<br>Flow: 7.57",
           "Carrier: Sabatier<br>From: H2<br>To: gas<br>Flow: 48.52",
           "Carrier: biogas to gas<br>From: biogas<br>To: gas<br>Flow: 13.46"
          ],
          "hovertemplate": "%{customdata}<extra></extra>",
          "source": {
           "bdata": "AAAAAAEBAQEBAg==",
           "dtype": "i1"
          },
          "target": {
           "bdata": "AwQFBgcIAQMJCQ==",
           "dtype": "i1"
          },
          "value": {
           "bdata": "y2vJLrogckHU2SFJ/4l4QYpXpzj7LMhBxEo3wGxDpEFQ8etuXFvBQYYNYUXI9tRBZkokPi8ywkHa1vEa60oeQEeQfa8/QkhAvPb73oLrKkA=",
           "dtype": "f8"
          }
         },
         "node": {
          "label": [
           "EU solid biomass",
           "H2",
           "biogas",
           "electric network",
           "rural heat",
           "solid biomass for industry",
           "urban decentral heat",
           "EU methanol",
           "EU oil",
           "gas"
          ],
          "line": {
           "color": "black",
           "width": 0.5
          },
          "pad": 15,
          "thickness": 20
         },
         "type": "sankey"
        }
       ],
       "layout": {
        "font": {
         "size": 12
        },
        "template": {
         "data": {
          "bar": [
           {
            "error_x": {
             "color": "#2a3f5f"
            },
            "error_y": {
             "color": "#2a3f5f"
            },
            "marker": {
             "line": {
              "color": "#E5ECF6",
              "width": 0.5
             },
             "pattern": {
              "fillmode": "overlay",
              "size": 10,
              "solidity": 0.2
             }
            },
            "type": "bar"
           }
          ],
          "barpolar": [
           {
            "marker": {
             "line": {
              "color": "#E5ECF6",
              "width": 0.5
             },
             "pattern": {
              "fillmode": "overlay",
              "size": 10,
              "solidity": 0.2
             }
            },
            "type": "barpolar"
           }
          ],
          "carpet": [
           {
            "aaxis": {
             "endlinecolor": "#2a3f5f",
             "gridcolor": "white",
             "linecolor": "white",
             "minorgridcolor": "white",
             "startlinecolor": "#2a3f5f"
            },
            "baxis": {
             "endlinecolor": "#2a3f5f",
             "gridcolor": "white",
             "linecolor": "white",
             "minorgridcolor": "white",
             "startlinecolor": "#2a3f5f"
            },
            "type": "carpet"
           }
          ],
          "choropleth": [
           {
            "colorbar": {
             "outlinewidth": 0,
             "ticks": ""
            },
            "type": "choropleth"
           }
          ],
          "contour": [
           {
            "colorbar": {
             "outlinewidth": 0,
             "ticks": ""
            },
            "colorscale": [
             [
              0,
              "#0d0887"
             ],
             [
              0.1111111111111111,
              "#46039f"
             ],
             [
              0.2222222222222222,
              "#7201a8"
             ],
             [
              0.3333333333333333,
              "#9c179e"
             ],
             [
              0.4444444444444444,
              "#bd3786"
             ],
             [
              0.5555555555555556,
              "#d8576b"
             ],
             [
              0.6666666666666666,
              "#ed7953"
             ],
             [
              0.7777777777777778,
              "#fb9f3a"
             ],
             [
              0.8888888888888888,
              "#fdca26"
             ],
             [
              1,
              "#f0f921"
             ]
            ],
            "type": "contour"
           }
          ],
          "contourcarpet": [
           {
            "colorbar": {
             "outlinewidth": 0,
             "ticks": ""
            },
            "type": "contourcarpet"
           }
          ],
          "heatmap": [
           {
            "colorbar": {
             "outlinewidth": 0,
             "ticks": ""
            },
            "colorscale": [
             [
              0,
              "#0d0887"
             ],
             [
              0.1111111111111111,
              "#46039f"
             ],
             [
              0.2222222222222222,
              "#7201a8"
             ],
             [
              0.3333333333333333,
              "#9c179e"
             ],
             [
              0.4444444444444444,
              "#bd3786"
             ],
             [
              0.5555555555555556,
              "#d8576b"
             ],
             [
              0.6666666666666666,
              "#ed7953"
             ],
             [
              0.7777777777777778,
              "#fb9f3a"
             ],
             [
              0.8888888888888888,
              "#fdca26"
             ],
             [
              1,
              "#f0f921"
             ]
            ],
            "type": "heatmap"
           }
          ],
          "histogram": [
           {
            "marker": {
             "pattern": {
              "fillmode": "overlay",
              "size": 10,
              "solidity": 0.2
             }
            },
            "type": "histogram"
           }
          ],
          "histogram2d": [
           {
            "colorbar": {
             "outlinewidth": 0,
             "ticks": ""
            },
            "colorscale": [
             [
              0,
              "#0d0887"
             ],
             [
              0.1111111111111111,
              "#46039f"
             ],
             [
              0.2222222222222222,
              "#7201a8"
             ],
             [
              0.3333333333333333,
              "#9c179e"
             ],
             [
              0.4444444444444444,
              "#bd3786"
             ],
             [
              0.5555555555555556,
              "#d8576b"
             ],
             [
              0.6666666666666666,
              "#ed7953"
             ],
             [
              0.7777777777777778,
              "#fb9f3a"
             ],
             [
              0.8888888888888888,
              "#fdca26"
             ],
             [
              1,
              "#f0f921"
             ]
            ],
            "type": "histogram2d"
           }
          ],
          "histogram2dcontour": [
           {
            "colorbar": {
             "outlinewidth": 0,
             "ticks": ""
            },
            "colorscale": [
             [
              0,
              "#0d0887"
             ],
             [
              0.1111111111111111,
              "#46039f"
             ],
             [
              0.2222222222222222,
              "#7201a8"
             ],
             [
              0.3333333333333333,
              "#9c179e"
             ],
             [
              0.4444444444444444,
              "#bd3786"
             ],
             [
              0.5555555555555556,
              "#d8576b"
             ],
             [
              0.6666666666666666,
              "#ed7953"
             ],
             [
              0.7777777777777778,
              "#fb9f3a"
             ],
             [
              0.8888888888888888,
              "#fdca26"
             ],
             [
              1,
              "#f0f921"
             ]
            ],
            "type": "histogram2dcontour"
           }
          ],
          "mesh3d": [
           {
            "colorbar": {
             "outlinewidth": 0,
             "ticks": ""
            },
            "type": "mesh3d"
           }
          ],
          "parcoords": [
           {
            "line": {
             "colorbar": {
              "outlinewidth": 0,
              "ticks": ""
             }
            },
            "type": "parcoords"
           }
          ],
          "pie": [
           {
            "automargin": true,
            "type": "pie"
           }
          ],
          "scatter": [
           {
            "fillpattern": {
             "fillmode": "overlay",
             "size": 10,
             "solidity": 0.2
            },
            "type": "scatter"
           }
          ],
          "scatter3d": [
           {
            "line": {
             "colorbar": {
              "outlinewidth": 0,
              "ticks": ""
             }
            },
            "marker": {
             "colorbar": {
              "outlinewidth": 0,
              "ticks": ""
             }
            },
            "type": "scatter3d"
           }
          ],
          "scattercarpet": [
           {
            "marker": {
             "colorbar": {
              "outlinewidth": 0,
              "ticks": ""
             }
            },
            "type": "scattercarpet"
           }
          ],
          "scattergeo": [
           {
            "marker": {
             "colorbar": {
              "outlinewidth": 0,
              "ticks": ""
             }
            },
            "type": "scattergeo"
           }
          ],
          "scattergl": [
           {
            "marker": {
             "colorbar": {
              "outlinewidth": 0,
              "ticks": ""
             }
            },
            "type": "scattergl"
           }
          ],
          "scattermap": [
           {
            "marker": {
             "colorbar": {
              "outlinewidth": 0,
              "ticks": ""
             }
            },
            "type": "scattermap"
           }
          ],
          "scattermapbox": [
           {
            "marker": {
             "colorbar": {
              "outlinewidth": 0,
              "ticks": ""
             }
            },
            "type": "scattermapbox"
           }
          ],
          "scatterpolar": [
           {
            "marker": {
             "colorbar": {
              "outlinewidth": 0,
              "ticks": ""
             }
            },
            "type": "scatterpolar"
           }
          ],
          "scatterpolargl": [
           {
            "marker": {
             "colorbar": {
              "outlinewidth": 0,
              "ticks": ""
             }
            },
            "type": "scatterpolargl"
           }
          ],
          "scatterternary": [
           {
            "marker": {
             "colorbar": {
              "outlinewidth": 0,
              "ticks": ""
             }
            },
            "type": "scatterternary"
           }
          ],
          "surface": [
           {
            "colorbar": {
             "outlinewidth": 0,
             "ticks": ""
            },
            "colorscale": [
             [
              0,
              "#0d0887"
             ],
             [
              0.1111111111111111,
              "#46039f"
             ],
             [
              0.2222222222222222,
              "#7201a8"
             ],
             [
              0.3333333333333333,
              "#9c179e"
             ],
             [
              0.4444444444444444,
              "#bd3786"
             ],
             [
              0.5555555555555556,
              "#d8576b"
             ],
             [
              0.6666666666666666,
              "#ed7953"
             ],
             [
              0.7777777777777778,
              "#fb9f3a"
             ],
             [
              0.8888888888888888,
              "#fdca26"
             ],
             [
              1,
              "#f0f921"
             ]
            ],
            "type": "surface"
           }
          ],
          "table": [
           {
            "cells": {
             "fill": {
              "color": "#EBF0F8"
             },
             "line": {
              "color": "white"
             }
            },
            "header": {
             "fill": {
              "color": "#C8D4E3"
             },
             "line": {
              "color": "white"
             }
            },
            "type": "table"
           }
          ]
         },
         "layout": {
          "annotationdefaults": {
           "arrowcolor": "#2a3f5f",
           "arrowhead": 0,
           "arrowwidth": 1
          },
          "autotypenumbers": "strict",
          "coloraxis": {
           "colorbar": {
            "outlinewidth": 0,
            "ticks": ""
           }
          },
          "colorscale": {
           "diverging": [
            [
             0,
             "#8e0152"
            ],
            [
             0.1,
             "#c51b7d"
            ],
            [
             0.2,
             "#de77ae"
            ],
            [
             0.3,
             "#f1b6da"
            ],
            [
             0.4,
             "#fde0ef"
            ],
            [
             0.5,
             "#f7f7f7"
            ],
            [
             0.6,
             "#e6f5d0"
            ],
            [
             0.7,
             "#b8e186"
            ],
            [
             0.8,
             "#7fbc41"
            ],
            [
             0.9,
             "#4d9221"
            ],
            [
             1,
             "#276419"
            ]
           ],
           "sequential": [
            [
             0,
             "#0d0887"
            ],
            [
             0.1111111111111111,
             "#46039f"
            ],
            [
             0.2222222222222222,
             "#7201a8"
            ],
            [
             0.3333333333333333,
             "#9c179e"
            ],
            [
             0.4444444444444444,
             "#bd3786"
            ],
            [
             0.5555555555555556,
             "#d8576b"
            ],
            [
             0.6666666666666666,
             "#ed7953"
            ],
            [
             0.7777777777777778,
             "#fb9f3a"
            ],
            [
             0.8888888888888888,
             "#fdca26"
            ],
            [
             1,
             "#f0f921"
            ]
           ],
           "sequentialminus": [
            [
             0,
             "#0d0887"
            ],
            [
             0.1111111111111111,
             "#46039f"
            ],
            [
             0.2222222222222222,
             "#7201a8"
            ],
            [
             0.3333333333333333,
             "#9c179e"
            ],
            [
             0.4444444444444444,
             "#bd3786"
            ],
            [
             0.5555555555555556,
             "#d8576b"
            ],
            [
             0.6666666666666666,
             "#ed7953"
            ],
            [
             0.7777777777777778,
             "#fb9f3a"
            ],
            [
             0.8888888888888888,
             "#fdca26"
            ],
            [
             1,
             "#f0f921"
            ]
           ]
          },
          "colorway": [
           "#636efa",
           "#EF553B",
           "#00cc96",
           "#ab63fa",
           "#FFA15A",
           "#19d3f3",
           "#FF6692",
           "#B6E880",
           "#FF97FF",
           "#FECB52"
          ],
          "font": {
           "color": "#2a3f5f"
          },
          "geo": {
           "bgcolor": "white",
           "lakecolor": "white",
           "landcolor": "#E5ECF6",
           "showlakes": true,
           "showland": true,
           "subunitcolor": "white"
          },
          "hoverlabel": {
           "align": "left"
          },
          "hovermode": "closest",
          "mapbox": {
           "style": "light"
          },
          "paper_bgcolor": "white",
          "plot_bgcolor": "#E5ECF6",
          "polar": {
           "angularaxis": {
            "gridcolor": "white",
            "linecolor": "white",
            "ticks": ""
           },
           "bgcolor": "#E5ECF6",
           "radialaxis": {
            "gridcolor": "white",
            "linecolor": "white",
            "ticks": ""
           }
          },
          "scene": {
           "xaxis": {
            "backgroundcolor": "#E5ECF6",
            "gridcolor": "white",
            "gridwidth": 2,
            "linecolor": "white",
            "showbackground": true,
            "ticks": "",
            "zerolinecolor": "white"
           },
           "yaxis": {
            "backgroundcolor": "#E5ECF6",
            "gridcolor": "white",
            "gridwidth": 2,
            "linecolor": "white",
            "showbackground": true,
            "ticks": "",
            "zerolinecolor": "white"
           },
           "zaxis": {
            "backgroundcolor": "#E5ECF6",
            "gridcolor": "white",
            "gridwidth": 2,
            "linecolor": "white",
            "showbackground": true,
            "ticks": "",
            "zerolinecolor": "white"
           }
          },
          "shapedefaults": {
           "line": {
            "color": "#2a3f5f"
           }
          },
          "ternary": {
           "aaxis": {
            "gridcolor": "white",
            "linecolor": "white",
            "ticks": ""
           },
           "baxis": {
            "gridcolor": "white",
            "linecolor": "white",
            "ticks": ""
           },
           "bgcolor": "#E5ECF6",
           "caxis": {
            "gridcolor": "white",
            "linecolor": "white",
            "ticks": ""
           }
          },
          "title": {
           "x": 0.05
          },
          "xaxis": {
           "automargin": true,
           "gridcolor": "white",
           "linecolor": "white",
           "ticks": "",
           "title": {
            "standoff": 15
           },
           "zerolinecolor": "white",
           "zerolinewidth": 2
          },
          "yaxis": {
           "automargin": true,
           "gridcolor": "white",
           "linecolor": "white",
           "ticks": "",
           "title": {
            "standoff": 15
           },
           "zerolinecolor": "white",
           "zerolinewidth": 2
          }
         }
        },
        "title": {
         "text": "Energy Flow Sankey Diagram with Carrier Info"
        }
       }
      }
     },
     "metadata": {},
     "output_type": "display_data"
    }
   ],
   "source": [
    "#importlib.reload(af)\n",
    "af.Sankey_biomass_hydrogen(network_2050)"
   ]
  },
  {
   "cell_type": "code",
   "execution_count": 37,
   "id": "5b8f884e",
   "metadata": {},
   "outputs": [
    {
     "data": {
      "text/html": [
       "<div>\n",
       "<style scoped>\n",
       "    .dataframe tbody tr th:only-of-type {\n",
       "        vertical-align: middle;\n",
       "    }\n",
       "\n",
       "    .dataframe tbody tr th {\n",
       "        vertical-align: top;\n",
       "    }\n",
       "\n",
       "    .dataframe thead th {\n",
       "        text-align: right;\n",
       "    }\n",
       "</style>\n",
       "<table border=\"1\" class=\"dataframe\">\n",
       "  <thead>\n",
       "    <tr style=\"text-align: right;\">\n",
       "      <th></th>\n",
       "      <th>bus0</th>\n",
       "      <th>bus1</th>\n",
       "      <th>type</th>\n",
       "      <th>carrier</th>\n",
       "      <th>efficiency</th>\n",
       "      <th>active</th>\n",
       "      <th>build_year</th>\n",
       "      <th>lifetime</th>\n",
       "      <th>p_nom</th>\n",
       "      <th>p_nom_mod</th>\n",
       "      <th>...</th>\n",
       "      <th>dc</th>\n",
       "      <th>geometry</th>\n",
       "      <th>underwater_fraction</th>\n",
       "      <th>voltage</th>\n",
       "      <th>under_construction</th>\n",
       "      <th>underground</th>\n",
       "      <th>reversed</th>\n",
       "      <th>tags</th>\n",
       "      <th>project_status</th>\n",
       "      <th>length_original</th>\n",
       "    </tr>\n",
       "    <tr>\n",
       "      <th>Link</th>\n",
       "      <th></th>\n",
       "      <th></th>\n",
       "      <th></th>\n",
       "      <th></th>\n",
       "      <th></th>\n",
       "      <th></th>\n",
       "      <th></th>\n",
       "      <th></th>\n",
       "      <th></th>\n",
       "      <th></th>\n",
       "      <th></th>\n",
       "      <th></th>\n",
       "      <th></th>\n",
       "      <th></th>\n",
       "      <th></th>\n",
       "      <th></th>\n",
       "      <th></th>\n",
       "      <th></th>\n",
       "      <th></th>\n",
       "      <th></th>\n",
       "      <th></th>\n",
       "    </tr>\n",
       "  </thead>\n",
       "  <tbody>\n",
       "    <tr>\n",
       "      <th>AL0 0 land transport oil</th>\n",
       "      <td>EU oil</td>\n",
       "      <td>AL0 0 land transport oil</td>\n",
       "      <td></td>\n",
       "      <td>land transport oil</td>\n",
       "      <td>1.0</td>\n",
       "      <td>True</td>\n",
       "      <td>0</td>\n",
       "      <td>inf</td>\n",
       "      <td>0.0</td>\n",
       "      <td>0.0</td>\n",
       "      <td>...</td>\n",
       "      <td>NaN</td>\n",
       "      <td></td>\n",
       "      <td>NaN</td>\n",
       "      <td>NaN</td>\n",
       "      <td>NaN</td>\n",
       "      <td>NaN</td>\n",
       "      <td>False</td>\n",
       "      <td></td>\n",
       "      <td></td>\n",
       "      <td>0.0</td>\n",
       "    </tr>\n",
       "    <tr>\n",
       "      <th>AT0 0 land transport oil</th>\n",
       "      <td>EU oil</td>\n",
       "      <td>AT0 0 land transport oil</td>\n",
       "      <td></td>\n",
       "      <td>land transport oil</td>\n",
       "      <td>1.0</td>\n",
       "      <td>True</td>\n",
       "      <td>0</td>\n",
       "      <td>inf</td>\n",
       "      <td>0.0</td>\n",
       "      <td>0.0</td>\n",
       "      <td>...</td>\n",
       "      <td>NaN</td>\n",
       "      <td></td>\n",
       "      <td>NaN</td>\n",
       "      <td>NaN</td>\n",
       "      <td>NaN</td>\n",
       "      <td>NaN</td>\n",
       "      <td>False</td>\n",
       "      <td></td>\n",
       "      <td></td>\n",
       "      <td>0.0</td>\n",
       "    </tr>\n",
       "    <tr>\n",
       "      <th>BA0 0 land transport oil</th>\n",
       "      <td>EU oil</td>\n",
       "      <td>BA0 0 land transport oil</td>\n",
       "      <td></td>\n",
       "      <td>land transport oil</td>\n",
       "      <td>1.0</td>\n",
       "      <td>True</td>\n",
       "      <td>0</td>\n",
       "      <td>inf</td>\n",
       "      <td>0.0</td>\n",
       "      <td>0.0</td>\n",
       "      <td>...</td>\n",
       "      <td>NaN</td>\n",
       "      <td></td>\n",
       "      <td>NaN</td>\n",
       "      <td>NaN</td>\n",
       "      <td>NaN</td>\n",
       "      <td>NaN</td>\n",
       "      <td>False</td>\n",
       "      <td></td>\n",
       "      <td></td>\n",
       "      <td>0.0</td>\n",
       "    </tr>\n",
       "    <tr>\n",
       "      <th>BE0 0 land transport oil</th>\n",
       "      <td>EU oil</td>\n",
       "      <td>BE0 0 land transport oil</td>\n",
       "      <td></td>\n",
       "      <td>land transport oil</td>\n",
       "      <td>1.0</td>\n",
       "      <td>True</td>\n",
       "      <td>0</td>\n",
       "      <td>inf</td>\n",
       "      <td>0.0</td>\n",
       "      <td>0.0</td>\n",
       "      <td>...</td>\n",
       "      <td>NaN</td>\n",
       "      <td></td>\n",
       "      <td>NaN</td>\n",
       "      <td>NaN</td>\n",
       "      <td>NaN</td>\n",
       "      <td>NaN</td>\n",
       "      <td>False</td>\n",
       "      <td></td>\n",
       "      <td></td>\n",
       "      <td>0.0</td>\n",
       "    </tr>\n",
       "    <tr>\n",
       "      <th>BG0 0 land transport oil</th>\n",
       "      <td>EU oil</td>\n",
       "      <td>BG0 0 land transport oil</td>\n",
       "      <td></td>\n",
       "      <td>land transport oil</td>\n",
       "      <td>1.0</td>\n",
       "      <td>True</td>\n",
       "      <td>0</td>\n",
       "      <td>inf</td>\n",
       "      <td>0.0</td>\n",
       "      <td>0.0</td>\n",
       "      <td>...</td>\n",
       "      <td>NaN</td>\n",
       "      <td></td>\n",
       "      <td>NaN</td>\n",
       "      <td>NaN</td>\n",
       "      <td>NaN</td>\n",
       "      <td>NaN</td>\n",
       "      <td>False</td>\n",
       "      <td></td>\n",
       "      <td></td>\n",
       "      <td>0.0</td>\n",
       "    </tr>\n",
       "    <tr>\n",
       "      <th>CH0 0 land transport oil</th>\n",
       "      <td>EU oil</td>\n",
       "      <td>CH0 0 land transport oil</td>\n",
       "      <td></td>\n",
       "      <td>land transport oil</td>\n",
       "      <td>1.0</td>\n",
       "      <td>True</td>\n",
       "      <td>0</td>\n",
       "      <td>inf</td>\n",
       "      <td>0.0</td>\n",
       "      <td>0.0</td>\n",
       "      <td>...</td>\n",
       "      <td>NaN</td>\n",
       "      <td></td>\n",
       "      <td>NaN</td>\n",
       "      <td>NaN</td>\n",
       "      <td>NaN</td>\n",
       "      <td>NaN</td>\n",
       "      <td>False</td>\n",
       "      <td></td>\n",
       "      <td></td>\n",
       "      <td>0.0</td>\n",
       "    </tr>\n",
       "    <tr>\n",
       "      <th>CZ0 0 land transport oil</th>\n",
       "      <td>EU oil</td>\n",
       "      <td>CZ0 0 land transport oil</td>\n",
       "      <td></td>\n",
       "      <td>land transport oil</td>\n",
       "      <td>1.0</td>\n",
       "      <td>True</td>\n",
       "      <td>0</td>\n",
       "      <td>inf</td>\n",
       "      <td>0.0</td>\n",
       "      <td>0.0</td>\n",
       "      <td>...</td>\n",
       "      <td>NaN</td>\n",
       "      <td></td>\n",
       "      <td>NaN</td>\n",
       "      <td>NaN</td>\n",
       "      <td>NaN</td>\n",
       "      <td>NaN</td>\n",
       "      <td>False</td>\n",
       "      <td></td>\n",
       "      <td></td>\n",
       "      <td>0.0</td>\n",
       "    </tr>\n",
       "    <tr>\n",
       "      <th>DE0 0 land transport oil</th>\n",
       "      <td>EU oil</td>\n",
       "      <td>DE0 0 land transport oil</td>\n",
       "      <td></td>\n",
       "      <td>land transport oil</td>\n",
       "      <td>1.0</td>\n",
       "      <td>True</td>\n",
       "      <td>0</td>\n",
       "      <td>inf</td>\n",
       "      <td>0.0</td>\n",
       "      <td>0.0</td>\n",
       "      <td>...</td>\n",
       "      <td>NaN</td>\n",
       "      <td></td>\n",
       "      <td>NaN</td>\n",
       "      <td>NaN</td>\n",
       "      <td>NaN</td>\n",
       "      <td>NaN</td>\n",
       "      <td>False</td>\n",
       "      <td></td>\n",
       "      <td></td>\n",
       "      <td>0.0</td>\n",
       "    </tr>\n",
       "    <tr>\n",
       "      <th>DK0 0 land transport oil</th>\n",
       "      <td>EU oil</td>\n",
       "      <td>DK0 0 land transport oil</td>\n",
       "      <td></td>\n",
       "      <td>land transport oil</td>\n",
       "      <td>1.0</td>\n",
       "      <td>True</td>\n",
       "      <td>0</td>\n",
       "      <td>inf</td>\n",
       "      <td>0.0</td>\n",
       "      <td>0.0</td>\n",
       "      <td>...</td>\n",
       "      <td>NaN</td>\n",
       "      <td></td>\n",
       "      <td>NaN</td>\n",
       "      <td>NaN</td>\n",
       "      <td>NaN</td>\n",
       "      <td>NaN</td>\n",
       "      <td>False</td>\n",
       "      <td></td>\n",
       "      <td></td>\n",
       "      <td>0.0</td>\n",
       "    </tr>\n",
       "    <tr>\n",
       "      <th>DK1 0 land transport oil</th>\n",
       "      <td>EU oil</td>\n",
       "      <td>DK1 0 land transport oil</td>\n",
       "      <td></td>\n",
       "      <td>land transport oil</td>\n",
       "      <td>1.0</td>\n",
       "      <td>True</td>\n",
       "      <td>0</td>\n",
       "      <td>inf</td>\n",
       "      <td>0.0</td>\n",
       "      <td>0.0</td>\n",
       "      <td>...</td>\n",
       "      <td>NaN</td>\n",
       "      <td></td>\n",
       "      <td>NaN</td>\n",
       "      <td>NaN</td>\n",
       "      <td>NaN</td>\n",
       "      <td>NaN</td>\n",
       "      <td>False</td>\n",
       "      <td></td>\n",
       "      <td></td>\n",
       "      <td>0.0</td>\n",
       "    </tr>\n",
       "    <tr>\n",
       "      <th>EE0 0 land transport oil</th>\n",
       "      <td>EU oil</td>\n",
       "      <td>EE0 0 land transport oil</td>\n",
       "      <td></td>\n",
       "      <td>land transport oil</td>\n",
       "      <td>1.0</td>\n",
       "      <td>True</td>\n",
       "      <td>0</td>\n",
       "      <td>inf</td>\n",
       "      <td>0.0</td>\n",
       "      <td>0.0</td>\n",
       "      <td>...</td>\n",
       "      <td>NaN</td>\n",
       "      <td></td>\n",
       "      <td>NaN</td>\n",
       "      <td>NaN</td>\n",
       "      <td>NaN</td>\n",
       "      <td>NaN</td>\n",
       "      <td>False</td>\n",
       "      <td></td>\n",
       "      <td></td>\n",
       "      <td>0.0</td>\n",
       "    </tr>\n",
       "    <tr>\n",
       "      <th>ES0 0 land transport oil</th>\n",
       "      <td>EU oil</td>\n",
       "      <td>ES0 0 land transport oil</td>\n",
       "      <td></td>\n",
       "      <td>land transport oil</td>\n",
       "      <td>1.0</td>\n",
       "      <td>True</td>\n",
       "      <td>0</td>\n",
       "      <td>inf</td>\n",
       "      <td>0.0</td>\n",
       "      <td>0.0</td>\n",
       "      <td>...</td>\n",
       "      <td>NaN</td>\n",
       "      <td></td>\n",
       "      <td>NaN</td>\n",
       "      <td>NaN</td>\n",
       "      <td>NaN</td>\n",
       "      <td>NaN</td>\n",
       "      <td>False</td>\n",
       "      <td></td>\n",
       "      <td></td>\n",
       "      <td>0.0</td>\n",
       "    </tr>\n",
       "    <tr>\n",
       "      <th>ES6 0 land transport oil</th>\n",
       "      <td>EU oil</td>\n",
       "      <td>ES6 0 land transport oil</td>\n",
       "      <td></td>\n",
       "      <td>land transport oil</td>\n",
       "      <td>1.0</td>\n",
       "      <td>True</td>\n",
       "      <td>0</td>\n",
       "      <td>inf</td>\n",
       "      <td>0.0</td>\n",
       "      <td>0.0</td>\n",
       "      <td>...</td>\n",
       "      <td>NaN</td>\n",
       "      <td></td>\n",
       "      <td>NaN</td>\n",
       "      <td>NaN</td>\n",
       "      <td>NaN</td>\n",
       "      <td>NaN</td>\n",
       "      <td>False</td>\n",
       "      <td></td>\n",
       "      <td></td>\n",
       "      <td>0.0</td>\n",
       "    </tr>\n",
       "    <tr>\n",
       "      <th>FI1 0 land transport oil</th>\n",
       "      <td>EU oil</td>\n",
       "      <td>FI1 0 land transport oil</td>\n",
       "      <td></td>\n",
       "      <td>land transport oil</td>\n",
       "      <td>1.0</td>\n",
       "      <td>True</td>\n",
       "      <td>0</td>\n",
       "      <td>inf</td>\n",
       "      <td>0.0</td>\n",
       "      <td>0.0</td>\n",
       "      <td>...</td>\n",
       "      <td>NaN</td>\n",
       "      <td></td>\n",
       "      <td>NaN</td>\n",
       "      <td>NaN</td>\n",
       "      <td>NaN</td>\n",
       "      <td>NaN</td>\n",
       "      <td>False</td>\n",
       "      <td></td>\n",
       "      <td></td>\n",
       "      <td>0.0</td>\n",
       "    </tr>\n",
       "    <tr>\n",
       "      <th>FR0 0 land transport oil</th>\n",
       "      <td>EU oil</td>\n",
       "      <td>FR0 0 land transport oil</td>\n",
       "      <td></td>\n",
       "      <td>land transport oil</td>\n",
       "      <td>1.0</td>\n",
       "      <td>True</td>\n",
       "      <td>0</td>\n",
       "      <td>inf</td>\n",
       "      <td>0.0</td>\n",
       "      <td>0.0</td>\n",
       "      <td>...</td>\n",
       "      <td>NaN</td>\n",
       "      <td></td>\n",
       "      <td>NaN</td>\n",
       "      <td>NaN</td>\n",
       "      <td>NaN</td>\n",
       "      <td>NaN</td>\n",
       "      <td>False</td>\n",
       "      <td></td>\n",
       "      <td></td>\n",
       "      <td>0.0</td>\n",
       "    </tr>\n",
       "    <tr>\n",
       "      <th>FR5 0 land transport oil</th>\n",
       "      <td>EU oil</td>\n",
       "      <td>FR5 0 land transport oil</td>\n",
       "      <td></td>\n",
       "      <td>land transport oil</td>\n",
       "      <td>1.0</td>\n",
       "      <td>True</td>\n",
       "      <td>0</td>\n",
       "      <td>inf</td>\n",
       "      <td>0.0</td>\n",
       "      <td>0.0</td>\n",
       "      <td>...</td>\n",
       "      <td>NaN</td>\n",
       "      <td></td>\n",
       "      <td>NaN</td>\n",
       "      <td>NaN</td>\n",
       "      <td>NaN</td>\n",
       "      <td>NaN</td>\n",
       "      <td>False</td>\n",
       "      <td></td>\n",
       "      <td></td>\n",
       "      <td>0.0</td>\n",
       "    </tr>\n",
       "    <tr>\n",
       "      <th>GB2 0 land transport oil</th>\n",
       "      <td>EU oil</td>\n",
       "      <td>GB2 0 land transport oil</td>\n",
       "      <td></td>\n",
       "      <td>land transport oil</td>\n",
       "      <td>1.0</td>\n",
       "      <td>True</td>\n",
       "      <td>0</td>\n",
       "      <td>inf</td>\n",
       "      <td>0.0</td>\n",
       "      <td>0.0</td>\n",
       "      <td>...</td>\n",
       "      <td>NaN</td>\n",
       "      <td></td>\n",
       "      <td>NaN</td>\n",
       "      <td>NaN</td>\n",
       "      <td>NaN</td>\n",
       "      <td>NaN</td>\n",
       "      <td>False</td>\n",
       "      <td></td>\n",
       "      <td></td>\n",
       "      <td>0.0</td>\n",
       "    </tr>\n",
       "    <tr>\n",
       "      <th>GB3 0 land transport oil</th>\n",
       "      <td>EU oil</td>\n",
       "      <td>GB3 0 land transport oil</td>\n",
       "      <td></td>\n",
       "      <td>land transport oil</td>\n",
       "      <td>1.0</td>\n",
       "      <td>True</td>\n",
       "      <td>0</td>\n",
       "      <td>inf</td>\n",
       "      <td>0.0</td>\n",
       "      <td>0.0</td>\n",
       "      <td>...</td>\n",
       "      <td>NaN</td>\n",
       "      <td></td>\n",
       "      <td>NaN</td>\n",
       "      <td>NaN</td>\n",
       "      <td>NaN</td>\n",
       "      <td>NaN</td>\n",
       "      <td>False</td>\n",
       "      <td></td>\n",
       "      <td></td>\n",
       "      <td>0.0</td>\n",
       "    </tr>\n",
       "    <tr>\n",
       "      <th>GR0 0 land transport oil</th>\n",
       "      <td>EU oil</td>\n",
       "      <td>GR0 0 land transport oil</td>\n",
       "      <td></td>\n",
       "      <td>land transport oil</td>\n",
       "      <td>1.0</td>\n",
       "      <td>True</td>\n",
       "      <td>0</td>\n",
       "      <td>inf</td>\n",
       "      <td>0.0</td>\n",
       "      <td>0.0</td>\n",
       "      <td>...</td>\n",
       "      <td>NaN</td>\n",
       "      <td></td>\n",
       "      <td>NaN</td>\n",
       "      <td>NaN</td>\n",
       "      <td>NaN</td>\n",
       "      <td>NaN</td>\n",
       "      <td>False</td>\n",
       "      <td></td>\n",
       "      <td></td>\n",
       "      <td>0.0</td>\n",
       "    </tr>\n",
       "    <tr>\n",
       "      <th>HR0 0 land transport oil</th>\n",
       "      <td>EU oil</td>\n",
       "      <td>HR0 0 land transport oil</td>\n",
       "      <td></td>\n",
       "      <td>land transport oil</td>\n",
       "      <td>1.0</td>\n",
       "      <td>True</td>\n",
       "      <td>0</td>\n",
       "      <td>inf</td>\n",
       "      <td>0.0</td>\n",
       "      <td>0.0</td>\n",
       "      <td>...</td>\n",
       "      <td>NaN</td>\n",
       "      <td></td>\n",
       "      <td>NaN</td>\n",
       "      <td>NaN</td>\n",
       "      <td>NaN</td>\n",
       "      <td>NaN</td>\n",
       "      <td>False</td>\n",
       "      <td></td>\n",
       "      <td></td>\n",
       "      <td>0.0</td>\n",
       "    </tr>\n",
       "    <tr>\n",
       "      <th>HU0 0 land transport oil</th>\n",
       "      <td>EU oil</td>\n",
       "      <td>HU0 0 land transport oil</td>\n",
       "      <td></td>\n",
       "      <td>land transport oil</td>\n",
       "      <td>1.0</td>\n",
       "      <td>True</td>\n",
       "      <td>0</td>\n",
       "      <td>inf</td>\n",
       "      <td>0.0</td>\n",
       "      <td>0.0</td>\n",
       "      <td>...</td>\n",
       "      <td>NaN</td>\n",
       "      <td></td>\n",
       "      <td>NaN</td>\n",
       "      <td>NaN</td>\n",
       "      <td>NaN</td>\n",
       "      <td>NaN</td>\n",
       "      <td>False</td>\n",
       "      <td></td>\n",
       "      <td></td>\n",
       "      <td>0.0</td>\n",
       "    </tr>\n",
       "    <tr>\n",
       "      <th>IE3 0 land transport oil</th>\n",
       "      <td>EU oil</td>\n",
       "      <td>IE3 0 land transport oil</td>\n",
       "      <td></td>\n",
       "      <td>land transport oil</td>\n",
       "      <td>1.0</td>\n",
       "      <td>True</td>\n",
       "      <td>0</td>\n",
       "      <td>inf</td>\n",
       "      <td>0.0</td>\n",
       "      <td>0.0</td>\n",
       "      <td>...</td>\n",
       "      <td>NaN</td>\n",
       "      <td></td>\n",
       "      <td>NaN</td>\n",
       "      <td>NaN</td>\n",
       "      <td>NaN</td>\n",
       "      <td>NaN</td>\n",
       "      <td>False</td>\n",
       "      <td></td>\n",
       "      <td></td>\n",
       "      <td>0.0</td>\n",
       "    </tr>\n",
       "    <tr>\n",
       "      <th>IT0 0 land transport oil</th>\n",
       "      <td>EU oil</td>\n",
       "      <td>IT0 0 land transport oil</td>\n",
       "      <td></td>\n",
       "      <td>land transport oil</td>\n",
       "      <td>1.0</td>\n",
       "      <td>True</td>\n",
       "      <td>0</td>\n",
       "      <td>inf</td>\n",
       "      <td>0.0</td>\n",
       "      <td>0.0</td>\n",
       "      <td>...</td>\n",
       "      <td>NaN</td>\n",
       "      <td></td>\n",
       "      <td>NaN</td>\n",
       "      <td>NaN</td>\n",
       "      <td>NaN</td>\n",
       "      <td>NaN</td>\n",
       "      <td>False</td>\n",
       "      <td></td>\n",
       "      <td></td>\n",
       "      <td>0.0</td>\n",
       "    </tr>\n",
       "    <tr>\n",
       "      <th>IT4 0 land transport oil</th>\n",
       "      <td>EU oil</td>\n",
       "      <td>IT4 0 land transport oil</td>\n",
       "      <td></td>\n",
       "      <td>land transport oil</td>\n",
       "      <td>1.0</td>\n",
       "      <td>True</td>\n",
       "      <td>0</td>\n",
       "      <td>inf</td>\n",
       "      <td>0.0</td>\n",
       "      <td>0.0</td>\n",
       "      <td>...</td>\n",
       "      <td>NaN</td>\n",
       "      <td></td>\n",
       "      <td>NaN</td>\n",
       "      <td>NaN</td>\n",
       "      <td>NaN</td>\n",
       "      <td>NaN</td>\n",
       "      <td>False</td>\n",
       "      <td></td>\n",
       "      <td></td>\n",
       "      <td>0.0</td>\n",
       "    </tr>\n",
       "    <tr>\n",
       "      <th>LT0 0 land transport oil</th>\n",
       "      <td>EU oil</td>\n",
       "      <td>LT0 0 land transport oil</td>\n",
       "      <td></td>\n",
       "      <td>land transport oil</td>\n",
       "      <td>1.0</td>\n",
       "      <td>True</td>\n",
       "      <td>0</td>\n",
       "      <td>inf</td>\n",
       "      <td>0.0</td>\n",
       "      <td>0.0</td>\n",
       "      <td>...</td>\n",
       "      <td>NaN</td>\n",
       "      <td></td>\n",
       "      <td>NaN</td>\n",
       "      <td>NaN</td>\n",
       "      <td>NaN</td>\n",
       "      <td>NaN</td>\n",
       "      <td>False</td>\n",
       "      <td></td>\n",
       "      <td></td>\n",
       "      <td>0.0</td>\n",
       "    </tr>\n",
       "    <tr>\n",
       "      <th>LU0 0 land transport oil</th>\n",
       "      <td>EU oil</td>\n",
       "      <td>LU0 0 land transport oil</td>\n",
       "      <td></td>\n",
       "      <td>land transport oil</td>\n",
       "      <td>1.0</td>\n",
       "      <td>True</td>\n",
       "      <td>0</td>\n",
       "      <td>inf</td>\n",
       "      <td>0.0</td>\n",
       "      <td>0.0</td>\n",
       "      <td>...</td>\n",
       "      <td>NaN</td>\n",
       "      <td></td>\n",
       "      <td>NaN</td>\n",
       "      <td>NaN</td>\n",
       "      <td>NaN</td>\n",
       "      <td>NaN</td>\n",
       "      <td>False</td>\n",
       "      <td></td>\n",
       "      <td></td>\n",
       "      <td>0.0</td>\n",
       "    </tr>\n",
       "    <tr>\n",
       "      <th>LV0 0 land transport oil</th>\n",
       "      <td>EU oil</td>\n",
       "      <td>LV0 0 land transport oil</td>\n",
       "      <td></td>\n",
       "      <td>land transport oil</td>\n",
       "      <td>1.0</td>\n",
       "      <td>True</td>\n",
       "      <td>0</td>\n",
       "      <td>inf</td>\n",
       "      <td>0.0</td>\n",
       "      <td>0.0</td>\n",
       "      <td>...</td>\n",
       "      <td>NaN</td>\n",
       "      <td></td>\n",
       "      <td>NaN</td>\n",
       "      <td>NaN</td>\n",
       "      <td>NaN</td>\n",
       "      <td>NaN</td>\n",
       "      <td>False</td>\n",
       "      <td></td>\n",
       "      <td></td>\n",
       "      <td>0.0</td>\n",
       "    </tr>\n",
       "    <tr>\n",
       "      <th>ME0 0 land transport oil</th>\n",
       "      <td>EU oil</td>\n",
       "      <td>ME0 0 land transport oil</td>\n",
       "      <td></td>\n",
       "      <td>land transport oil</td>\n",
       "      <td>1.0</td>\n",
       "      <td>True</td>\n",
       "      <td>0</td>\n",
       "      <td>inf</td>\n",
       "      <td>0.0</td>\n",
       "      <td>0.0</td>\n",
       "      <td>...</td>\n",
       "      <td>NaN</td>\n",
       "      <td></td>\n",
       "      <td>NaN</td>\n",
       "      <td>NaN</td>\n",
       "      <td>NaN</td>\n",
       "      <td>NaN</td>\n",
       "      <td>False</td>\n",
       "      <td></td>\n",
       "      <td></td>\n",
       "      <td>0.0</td>\n",
       "    </tr>\n",
       "    <tr>\n",
       "      <th>MK0 0 land transport oil</th>\n",
       "      <td>EU oil</td>\n",
       "      <td>MK0 0 land transport oil</td>\n",
       "      <td></td>\n",
       "      <td>land transport oil</td>\n",
       "      <td>1.0</td>\n",
       "      <td>True</td>\n",
       "      <td>0</td>\n",
       "      <td>inf</td>\n",
       "      <td>0.0</td>\n",
       "      <td>0.0</td>\n",
       "      <td>...</td>\n",
       "      <td>NaN</td>\n",
       "      <td></td>\n",
       "      <td>NaN</td>\n",
       "      <td>NaN</td>\n",
       "      <td>NaN</td>\n",
       "      <td>NaN</td>\n",
       "      <td>False</td>\n",
       "      <td></td>\n",
       "      <td></td>\n",
       "      <td>0.0</td>\n",
       "    </tr>\n",
       "    <tr>\n",
       "      <th>NL0 0 land transport oil</th>\n",
       "      <td>EU oil</td>\n",
       "      <td>NL0 0 land transport oil</td>\n",
       "      <td></td>\n",
       "      <td>land transport oil</td>\n",
       "      <td>1.0</td>\n",
       "      <td>True</td>\n",
       "      <td>0</td>\n",
       "      <td>inf</td>\n",
       "      <td>0.0</td>\n",
       "      <td>0.0</td>\n",
       "      <td>...</td>\n",
       "      <td>NaN</td>\n",
       "      <td></td>\n",
       "      <td>NaN</td>\n",
       "      <td>NaN</td>\n",
       "      <td>NaN</td>\n",
       "      <td>NaN</td>\n",
       "      <td>False</td>\n",
       "      <td></td>\n",
       "      <td></td>\n",
       "      <td>0.0</td>\n",
       "    </tr>\n",
       "    <tr>\n",
       "      <th>NO1 0 land transport oil</th>\n",
       "      <td>EU oil</td>\n",
       "      <td>NO1 0 land transport oil</td>\n",
       "      <td></td>\n",
       "      <td>land transport oil</td>\n",
       "      <td>1.0</td>\n",
       "      <td>True</td>\n",
       "      <td>0</td>\n",
       "      <td>inf</td>\n",
       "      <td>0.0</td>\n",
       "      <td>0.0</td>\n",
       "      <td>...</td>\n",
       "      <td>NaN</td>\n",
       "      <td></td>\n",
       "      <td>NaN</td>\n",
       "      <td>NaN</td>\n",
       "      <td>NaN</td>\n",
       "      <td>NaN</td>\n",
       "      <td>False</td>\n",
       "      <td></td>\n",
       "      <td></td>\n",
       "      <td>0.0</td>\n",
       "    </tr>\n",
       "    <tr>\n",
       "      <th>PL0 0 land transport oil</th>\n",
       "      <td>EU oil</td>\n",
       "      <td>PL0 0 land transport oil</td>\n",
       "      <td></td>\n",
       "      <td>land transport oil</td>\n",
       "      <td>1.0</td>\n",
       "      <td>True</td>\n",
       "      <td>0</td>\n",
       "      <td>inf</td>\n",
       "      <td>0.0</td>\n",
       "      <td>0.0</td>\n",
       "      <td>...</td>\n",
       "      <td>NaN</td>\n",
       "      <td></td>\n",
       "      <td>NaN</td>\n",
       "      <td>NaN</td>\n",
       "      <td>NaN</td>\n",
       "      <td>NaN</td>\n",
       "      <td>False</td>\n",
       "      <td></td>\n",
       "      <td></td>\n",
       "      <td>0.0</td>\n",
       "    </tr>\n",
       "    <tr>\n",
       "      <th>PT0 0 land transport oil</th>\n",
       "      <td>EU oil</td>\n",
       "      <td>PT0 0 land transport oil</td>\n",
       "      <td></td>\n",
       "      <td>land transport oil</td>\n",
       "      <td>1.0</td>\n",
       "      <td>True</td>\n",
       "      <td>0</td>\n",
       "      <td>inf</td>\n",
       "      <td>0.0</td>\n",
       "      <td>0.0</td>\n",
       "      <td>...</td>\n",
       "      <td>NaN</td>\n",
       "      <td></td>\n",
       "      <td>NaN</td>\n",
       "      <td>NaN</td>\n",
       "      <td>NaN</td>\n",
       "      <td>NaN</td>\n",
       "      <td>False</td>\n",
       "      <td></td>\n",
       "      <td></td>\n",
       "      <td>0.0</td>\n",
       "    </tr>\n",
       "    <tr>\n",
       "      <th>RO0 0 land transport oil</th>\n",
       "      <td>EU oil</td>\n",
       "      <td>RO0 0 land transport oil</td>\n",
       "      <td></td>\n",
       "      <td>land transport oil</td>\n",
       "      <td>1.0</td>\n",
       "      <td>True</td>\n",
       "      <td>0</td>\n",
       "      <td>inf</td>\n",
       "      <td>0.0</td>\n",
       "      <td>0.0</td>\n",
       "      <td>...</td>\n",
       "      <td>NaN</td>\n",
       "      <td></td>\n",
       "      <td>NaN</td>\n",
       "      <td>NaN</td>\n",
       "      <td>NaN</td>\n",
       "      <td>NaN</td>\n",
       "      <td>False</td>\n",
       "      <td></td>\n",
       "      <td></td>\n",
       "      <td>0.0</td>\n",
       "    </tr>\n",
       "    <tr>\n",
       "      <th>RS0 0 land transport oil</th>\n",
       "      <td>EU oil</td>\n",
       "      <td>RS0 0 land transport oil</td>\n",
       "      <td></td>\n",
       "      <td>land transport oil</td>\n",
       "      <td>1.0</td>\n",
       "      <td>True</td>\n",
       "      <td>0</td>\n",
       "      <td>inf</td>\n",
       "      <td>0.0</td>\n",
       "      <td>0.0</td>\n",
       "      <td>...</td>\n",
       "      <td>NaN</td>\n",
       "      <td></td>\n",
       "      <td>NaN</td>\n",
       "      <td>NaN</td>\n",
       "      <td>NaN</td>\n",
       "      <td>NaN</td>\n",
       "      <td>False</td>\n",
       "      <td></td>\n",
       "      <td></td>\n",
       "      <td>0.0</td>\n",
       "    </tr>\n",
       "    <tr>\n",
       "      <th>SE1 0 land transport oil</th>\n",
       "      <td>EU oil</td>\n",
       "      <td>SE1 0 land transport oil</td>\n",
       "      <td></td>\n",
       "      <td>land transport oil</td>\n",
       "      <td>1.0</td>\n",
       "      <td>True</td>\n",
       "      <td>0</td>\n",
       "      <td>inf</td>\n",
       "      <td>0.0</td>\n",
       "      <td>0.0</td>\n",
       "      <td>...</td>\n",
       "      <td>NaN</td>\n",
       "      <td></td>\n",
       "      <td>NaN</td>\n",
       "      <td>NaN</td>\n",
       "      <td>NaN</td>\n",
       "      <td>NaN</td>\n",
       "      <td>False</td>\n",
       "      <td></td>\n",
       "      <td></td>\n",
       "      <td>0.0</td>\n",
       "    </tr>\n",
       "    <tr>\n",
       "      <th>SI0 0 land transport oil</th>\n",
       "      <td>EU oil</td>\n",
       "      <td>SI0 0 land transport oil</td>\n",
       "      <td></td>\n",
       "      <td>land transport oil</td>\n",
       "      <td>1.0</td>\n",
       "      <td>True</td>\n",
       "      <td>0</td>\n",
       "      <td>inf</td>\n",
       "      <td>0.0</td>\n",
       "      <td>0.0</td>\n",
       "      <td>...</td>\n",
       "      <td>NaN</td>\n",
       "      <td></td>\n",
       "      <td>NaN</td>\n",
       "      <td>NaN</td>\n",
       "      <td>NaN</td>\n",
       "      <td>NaN</td>\n",
       "      <td>False</td>\n",
       "      <td></td>\n",
       "      <td></td>\n",
       "      <td>0.0</td>\n",
       "    </tr>\n",
       "    <tr>\n",
       "      <th>SK0 0 land transport oil</th>\n",
       "      <td>EU oil</td>\n",
       "      <td>SK0 0 land transport oil</td>\n",
       "      <td></td>\n",
       "      <td>land transport oil</td>\n",
       "      <td>1.0</td>\n",
       "      <td>True</td>\n",
       "      <td>0</td>\n",
       "      <td>inf</td>\n",
       "      <td>0.0</td>\n",
       "      <td>0.0</td>\n",
       "      <td>...</td>\n",
       "      <td>NaN</td>\n",
       "      <td></td>\n",
       "      <td>NaN</td>\n",
       "      <td>NaN</td>\n",
       "      <td>NaN</td>\n",
       "      <td>NaN</td>\n",
       "      <td>False</td>\n",
       "      <td></td>\n",
       "      <td></td>\n",
       "      <td>0.0</td>\n",
       "    </tr>\n",
       "    <tr>\n",
       "      <th>XK0 0 land transport oil</th>\n",
       "      <td>EU oil</td>\n",
       "      <td>XK0 0 land transport oil</td>\n",
       "      <td></td>\n",
       "      <td>land transport oil</td>\n",
       "      <td>1.0</td>\n",
       "      <td>True</td>\n",
       "      <td>0</td>\n",
       "      <td>inf</td>\n",
       "      <td>0.0</td>\n",
       "      <td>0.0</td>\n",
       "      <td>...</td>\n",
       "      <td>NaN</td>\n",
       "      <td></td>\n",
       "      <td>NaN</td>\n",
       "      <td>NaN</td>\n",
       "      <td>NaN</td>\n",
       "      <td>NaN</td>\n",
       "      <td>False</td>\n",
       "      <td></td>\n",
       "      <td></td>\n",
       "      <td>0.0</td>\n",
       "    </tr>\n",
       "  </tbody>\n",
       "</table>\n",
       "<p>39 rows × 51 columns</p>\n",
       "</div>"
      ],
      "text/plain": [
       "                            bus0                      bus1 type  \\\n",
       "Link                                                              \n",
       "AL0 0 land transport oil  EU oil  AL0 0 land transport oil        \n",
       "AT0 0 land transport oil  EU oil  AT0 0 land transport oil        \n",
       "BA0 0 land transport oil  EU oil  BA0 0 land transport oil        \n",
       "BE0 0 land transport oil  EU oil  BE0 0 land transport oil        \n",
       "BG0 0 land transport oil  EU oil  BG0 0 land transport oil        \n",
       "CH0 0 land transport oil  EU oil  CH0 0 land transport oil        \n",
       "CZ0 0 land transport oil  EU oil  CZ0 0 land transport oil        \n",
       "DE0 0 land transport oil  EU oil  DE0 0 land transport oil        \n",
       "DK0 0 land transport oil  EU oil  DK0 0 land transport oil        \n",
       "DK1 0 land transport oil  EU oil  DK1 0 land transport oil        \n",
       "EE0 0 land transport oil  EU oil  EE0 0 land transport oil        \n",
       "ES0 0 land transport oil  EU oil  ES0 0 land transport oil        \n",
       "ES6 0 land transport oil  EU oil  ES6 0 land transport oil        \n",
       "FI1 0 land transport oil  EU oil  FI1 0 land transport oil        \n",
       "FR0 0 land transport oil  EU oil  FR0 0 land transport oil        \n",
       "FR5 0 land transport oil  EU oil  FR5 0 land transport oil        \n",
       "GB2 0 land transport oil  EU oil  GB2 0 land transport oil        \n",
       "GB3 0 land transport oil  EU oil  GB3 0 land transport oil        \n",
       "GR0 0 land transport oil  EU oil  GR0 0 land transport oil        \n",
       "HR0 0 land transport oil  EU oil  HR0 0 land transport oil        \n",
       "HU0 0 land transport oil  EU oil  HU0 0 land transport oil        \n",
       "IE3 0 land transport oil  EU oil  IE3 0 land transport oil        \n",
       "IT0 0 land transport oil  EU oil  IT0 0 land transport oil        \n",
       "IT4 0 land transport oil  EU oil  IT4 0 land transport oil        \n",
       "LT0 0 land transport oil  EU oil  LT0 0 land transport oil        \n",
       "LU0 0 land transport oil  EU oil  LU0 0 land transport oil        \n",
       "LV0 0 land transport oil  EU oil  LV0 0 land transport oil        \n",
       "ME0 0 land transport oil  EU oil  ME0 0 land transport oil        \n",
       "MK0 0 land transport oil  EU oil  MK0 0 land transport oil        \n",
       "NL0 0 land transport oil  EU oil  NL0 0 land transport oil        \n",
       "NO1 0 land transport oil  EU oil  NO1 0 land transport oil        \n",
       "PL0 0 land transport oil  EU oil  PL0 0 land transport oil        \n",
       "PT0 0 land transport oil  EU oil  PT0 0 land transport oil        \n",
       "RO0 0 land transport oil  EU oil  RO0 0 land transport oil        \n",
       "RS0 0 land transport oil  EU oil  RS0 0 land transport oil        \n",
       "SE1 0 land transport oil  EU oil  SE1 0 land transport oil        \n",
       "SI0 0 land transport oil  EU oil  SI0 0 land transport oil        \n",
       "SK0 0 land transport oil  EU oil  SK0 0 land transport oil        \n",
       "XK0 0 land transport oil  EU oil  XK0 0 land transport oil        \n",
       "\n",
       "                                     carrier  efficiency  active  build_year  \\\n",
       "Link                                                                           \n",
       "AL0 0 land transport oil  land transport oil         1.0    True           0   \n",
       "AT0 0 land transport oil  land transport oil         1.0    True           0   \n",
       "BA0 0 land transport oil  land transport oil         1.0    True           0   \n",
       "BE0 0 land transport oil  land transport oil         1.0    True           0   \n",
       "BG0 0 land transport oil  land transport oil         1.0    True           0   \n",
       "CH0 0 land transport oil  land transport oil         1.0    True           0   \n",
       "CZ0 0 land transport oil  land transport oil         1.0    True           0   \n",
       "DE0 0 land transport oil  land transport oil         1.0    True           0   \n",
       "DK0 0 land transport oil  land transport oil         1.0    True           0   \n",
       "DK1 0 land transport oil  land transport oil         1.0    True           0   \n",
       "EE0 0 land transport oil  land transport oil         1.0    True           0   \n",
       "ES0 0 land transport oil  land transport oil         1.0    True           0   \n",
       "ES6 0 land transport oil  land transport oil         1.0    True           0   \n",
       "FI1 0 land transport oil  land transport oil         1.0    True           0   \n",
       "FR0 0 land transport oil  land transport oil         1.0    True           0   \n",
       "FR5 0 land transport oil  land transport oil         1.0    True           0   \n",
       "GB2 0 land transport oil  land transport oil         1.0    True           0   \n",
       "GB3 0 land transport oil  land transport oil         1.0    True           0   \n",
       "GR0 0 land transport oil  land transport oil         1.0    True           0   \n",
       "HR0 0 land transport oil  land transport oil         1.0    True           0   \n",
       "HU0 0 land transport oil  land transport oil         1.0    True           0   \n",
       "IE3 0 land transport oil  land transport oil         1.0    True           0   \n",
       "IT0 0 land transport oil  land transport oil         1.0    True           0   \n",
       "IT4 0 land transport oil  land transport oil         1.0    True           0   \n",
       "LT0 0 land transport oil  land transport oil         1.0    True           0   \n",
       "LU0 0 land transport oil  land transport oil         1.0    True           0   \n",
       "LV0 0 land transport oil  land transport oil         1.0    True           0   \n",
       "ME0 0 land transport oil  land transport oil         1.0    True           0   \n",
       "MK0 0 land transport oil  land transport oil         1.0    True           0   \n",
       "NL0 0 land transport oil  land transport oil         1.0    True           0   \n",
       "NO1 0 land transport oil  land transport oil         1.0    True           0   \n",
       "PL0 0 land transport oil  land transport oil         1.0    True           0   \n",
       "PT0 0 land transport oil  land transport oil         1.0    True           0   \n",
       "RO0 0 land transport oil  land transport oil         1.0    True           0   \n",
       "RS0 0 land transport oil  land transport oil         1.0    True           0   \n",
       "SE1 0 land transport oil  land transport oil         1.0    True           0   \n",
       "SI0 0 land transport oil  land transport oil         1.0    True           0   \n",
       "SK0 0 land transport oil  land transport oil         1.0    True           0   \n",
       "XK0 0 land transport oil  land transport oil         1.0    True           0   \n",
       "\n",
       "                          lifetime  p_nom  p_nom_mod  ...  dc  geometry  \\\n",
       "Link                                                  ...                 \n",
       "AL0 0 land transport oil       inf    0.0        0.0  ... NaN             \n",
       "AT0 0 land transport oil       inf    0.0        0.0  ... NaN             \n",
       "BA0 0 land transport oil       inf    0.0        0.0  ... NaN             \n",
       "BE0 0 land transport oil       inf    0.0        0.0  ... NaN             \n",
       "BG0 0 land transport oil       inf    0.0        0.0  ... NaN             \n",
       "CH0 0 land transport oil       inf    0.0        0.0  ... NaN             \n",
       "CZ0 0 land transport oil       inf    0.0        0.0  ... NaN             \n",
       "DE0 0 land transport oil       inf    0.0        0.0  ... NaN             \n",
       "DK0 0 land transport oil       inf    0.0        0.0  ... NaN             \n",
       "DK1 0 land transport oil       inf    0.0        0.0  ... NaN             \n",
       "EE0 0 land transport oil       inf    0.0        0.0  ... NaN             \n",
       "ES0 0 land transport oil       inf    0.0        0.0  ... NaN             \n",
       "ES6 0 land transport oil       inf    0.0        0.0  ... NaN             \n",
       "FI1 0 land transport oil       inf    0.0        0.0  ... NaN             \n",
       "FR0 0 land transport oil       inf    0.0        0.0  ... NaN             \n",
       "FR5 0 land transport oil       inf    0.0        0.0  ... NaN             \n",
       "GB2 0 land transport oil       inf    0.0        0.0  ... NaN             \n",
       "GB3 0 land transport oil       inf    0.0        0.0  ... NaN             \n",
       "GR0 0 land transport oil       inf    0.0        0.0  ... NaN             \n",
       "HR0 0 land transport oil       inf    0.0        0.0  ... NaN             \n",
       "HU0 0 land transport oil       inf    0.0        0.0  ... NaN             \n",
       "IE3 0 land transport oil       inf    0.0        0.0  ... NaN             \n",
       "IT0 0 land transport oil       inf    0.0        0.0  ... NaN             \n",
       "IT4 0 land transport oil       inf    0.0        0.0  ... NaN             \n",
       "LT0 0 land transport oil       inf    0.0        0.0  ... NaN             \n",
       "LU0 0 land transport oil       inf    0.0        0.0  ... NaN             \n",
       "LV0 0 land transport oil       inf    0.0        0.0  ... NaN             \n",
       "ME0 0 land transport oil       inf    0.0        0.0  ... NaN             \n",
       "MK0 0 land transport oil       inf    0.0        0.0  ... NaN             \n",
       "NL0 0 land transport oil       inf    0.0        0.0  ... NaN             \n",
       "NO1 0 land transport oil       inf    0.0        0.0  ... NaN             \n",
       "PL0 0 land transport oil       inf    0.0        0.0  ... NaN             \n",
       "PT0 0 land transport oil       inf    0.0        0.0  ... NaN             \n",
       "RO0 0 land transport oil       inf    0.0        0.0  ... NaN             \n",
       "RS0 0 land transport oil       inf    0.0        0.0  ... NaN             \n",
       "SE1 0 land transport oil       inf    0.0        0.0  ... NaN             \n",
       "SI0 0 land transport oil       inf    0.0        0.0  ... NaN             \n",
       "SK0 0 land transport oil       inf    0.0        0.0  ... NaN             \n",
       "XK0 0 land transport oil       inf    0.0        0.0  ... NaN             \n",
       "\n",
       "                          underwater_fraction  voltage  under_construction  \\\n",
       "Link                                                                         \n",
       "AL0 0 land transport oil                  NaN      NaN                 NaN   \n",
       "AT0 0 land transport oil                  NaN      NaN                 NaN   \n",
       "BA0 0 land transport oil                  NaN      NaN                 NaN   \n",
       "BE0 0 land transport oil                  NaN      NaN                 NaN   \n",
       "BG0 0 land transport oil                  NaN      NaN                 NaN   \n",
       "CH0 0 land transport oil                  NaN      NaN                 NaN   \n",
       "CZ0 0 land transport oil                  NaN      NaN                 NaN   \n",
       "DE0 0 land transport oil                  NaN      NaN                 NaN   \n",
       "DK0 0 land transport oil                  NaN      NaN                 NaN   \n",
       "DK1 0 land transport oil                  NaN      NaN                 NaN   \n",
       "EE0 0 land transport oil                  NaN      NaN                 NaN   \n",
       "ES0 0 land transport oil                  NaN      NaN                 NaN   \n",
       "ES6 0 land transport oil                  NaN      NaN                 NaN   \n",
       "FI1 0 land transport oil                  NaN      NaN                 NaN   \n",
       "FR0 0 land transport oil                  NaN      NaN                 NaN   \n",
       "FR5 0 land transport oil                  NaN      NaN                 NaN   \n",
       "GB2 0 land transport oil                  NaN      NaN                 NaN   \n",
       "GB3 0 land transport oil                  NaN      NaN                 NaN   \n",
       "GR0 0 land transport oil                  NaN      NaN                 NaN   \n",
       "HR0 0 land transport oil                  NaN      NaN                 NaN   \n",
       "HU0 0 land transport oil                  NaN      NaN                 NaN   \n",
       "IE3 0 land transport oil                  NaN      NaN                 NaN   \n",
       "IT0 0 land transport oil                  NaN      NaN                 NaN   \n",
       "IT4 0 land transport oil                  NaN      NaN                 NaN   \n",
       "LT0 0 land transport oil                  NaN      NaN                 NaN   \n",
       "LU0 0 land transport oil                  NaN      NaN                 NaN   \n",
       "LV0 0 land transport oil                  NaN      NaN                 NaN   \n",
       "ME0 0 land transport oil                  NaN      NaN                 NaN   \n",
       "MK0 0 land transport oil                  NaN      NaN                 NaN   \n",
       "NL0 0 land transport oil                  NaN      NaN                 NaN   \n",
       "NO1 0 land transport oil                  NaN      NaN                 NaN   \n",
       "PL0 0 land transport oil                  NaN      NaN                 NaN   \n",
       "PT0 0 land transport oil                  NaN      NaN                 NaN   \n",
       "RO0 0 land transport oil                  NaN      NaN                 NaN   \n",
       "RS0 0 land transport oil                  NaN      NaN                 NaN   \n",
       "SE1 0 land transport oil                  NaN      NaN                 NaN   \n",
       "SI0 0 land transport oil                  NaN      NaN                 NaN   \n",
       "SK0 0 land transport oil                  NaN      NaN                 NaN   \n",
       "XK0 0 land transport oil                  NaN      NaN                 NaN   \n",
       "\n",
       "                          underground  reversed  tags  project_status  \\\n",
       "Link                                                                    \n",
       "AL0 0 land transport oil          NaN     False                         \n",
       "AT0 0 land transport oil          NaN     False                         \n",
       "BA0 0 land transport oil          NaN     False                         \n",
       "BE0 0 land transport oil          NaN     False                         \n",
       "BG0 0 land transport oil          NaN     False                         \n",
       "CH0 0 land transport oil          NaN     False                         \n",
       "CZ0 0 land transport oil          NaN     False                         \n",
       "DE0 0 land transport oil          NaN     False                         \n",
       "DK0 0 land transport oil          NaN     False                         \n",
       "DK1 0 land transport oil          NaN     False                         \n",
       "EE0 0 land transport oil          NaN     False                         \n",
       "ES0 0 land transport oil          NaN     False                         \n",
       "ES6 0 land transport oil          NaN     False                         \n",
       "FI1 0 land transport oil          NaN     False                         \n",
       "FR0 0 land transport oil          NaN     False                         \n",
       "FR5 0 land transport oil          NaN     False                         \n",
       "GB2 0 land transport oil          NaN     False                         \n",
       "GB3 0 land transport oil          NaN     False                         \n",
       "GR0 0 land transport oil          NaN     False                         \n",
       "HR0 0 land transport oil          NaN     False                         \n",
       "HU0 0 land transport oil          NaN     False                         \n",
       "IE3 0 land transport oil          NaN     False                         \n",
       "IT0 0 land transport oil          NaN     False                         \n",
       "IT4 0 land transport oil          NaN     False                         \n",
       "LT0 0 land transport oil          NaN     False                         \n",
       "LU0 0 land transport oil          NaN     False                         \n",
       "LV0 0 land transport oil          NaN     False                         \n",
       "ME0 0 land transport oil          NaN     False                         \n",
       "MK0 0 land transport oil          NaN     False                         \n",
       "NL0 0 land transport oil          NaN     False                         \n",
       "NO1 0 land transport oil          NaN     False                         \n",
       "PL0 0 land transport oil          NaN     False                         \n",
       "PT0 0 land transport oil          NaN     False                         \n",
       "RO0 0 land transport oil          NaN     False                         \n",
       "RS0 0 land transport oil          NaN     False                         \n",
       "SE1 0 land transport oil          NaN     False                         \n",
       "SI0 0 land transport oil          NaN     False                         \n",
       "SK0 0 land transport oil          NaN     False                         \n",
       "XK0 0 land transport oil          NaN     False                         \n",
       "\n",
       "                          length_original  \n",
       "Link                                       \n",
       "AL0 0 land transport oil              0.0  \n",
       "AT0 0 land transport oil              0.0  \n",
       "BA0 0 land transport oil              0.0  \n",
       "BE0 0 land transport oil              0.0  \n",
       "BG0 0 land transport oil              0.0  \n",
       "CH0 0 land transport oil              0.0  \n",
       "CZ0 0 land transport oil              0.0  \n",
       "DE0 0 land transport oil              0.0  \n",
       "DK0 0 land transport oil              0.0  \n",
       "DK1 0 land transport oil              0.0  \n",
       "EE0 0 land transport oil              0.0  \n",
       "ES0 0 land transport oil              0.0  \n",
       "ES6 0 land transport oil              0.0  \n",
       "FI1 0 land transport oil              0.0  \n",
       "FR0 0 land transport oil              0.0  \n",
       "FR5 0 land transport oil              0.0  \n",
       "GB2 0 land transport oil              0.0  \n",
       "GB3 0 land transport oil              0.0  \n",
       "GR0 0 land transport oil              0.0  \n",
       "HR0 0 land transport oil              0.0  \n",
       "HU0 0 land transport oil              0.0  \n",
       "IE3 0 land transport oil              0.0  \n",
       "IT0 0 land transport oil              0.0  \n",
       "IT4 0 land transport oil              0.0  \n",
       "LT0 0 land transport oil              0.0  \n",
       "LU0 0 land transport oil              0.0  \n",
       "LV0 0 land transport oil              0.0  \n",
       "ME0 0 land transport oil              0.0  \n",
       "MK0 0 land transport oil              0.0  \n",
       "NL0 0 land transport oil              0.0  \n",
       "NO1 0 land transport oil              0.0  \n",
       "PL0 0 land transport oil              0.0  \n",
       "PT0 0 land transport oil              0.0  \n",
       "RO0 0 land transport oil              0.0  \n",
       "RS0 0 land transport oil              0.0  \n",
       "SE1 0 land transport oil              0.0  \n",
       "SI0 0 land transport oil              0.0  \n",
       "SK0 0 land transport oil              0.0  \n",
       "XK0 0 land transport oil              0.0  \n",
       "\n",
       "[39 rows x 51 columns]"
      ]
     },
     "execution_count": 37,
     "metadata": {},
     "output_type": "execute_result"
    }
   ],
   "source": [
    "land_transport_buses = network_2040.buses[network_2040.buses.carrier == 'land transport oil'].index\n",
    "network_2040.links[network_2040.links.bus1.isin(land_transport_buses)] #they are all just coming from EU oil directly \n",
    "#next question: what can go into EU oil? \n",
    "#network = network_2050 \n",
    "#network.links[network.links.bus1 == 'EU oil']"
   ]
  },
  {
   "cell_type": "code",
   "execution_count": 39,
   "id": "b49a8788",
   "metadata": {},
   "outputs": [
    {
     "name": "stdout",
     "output_type": "stream",
     "text": [
      "The loads connected to this bus are:     ['BG0 0 land transport oil']\n",
      "The incoming links to this bus are from the bus:  ['EU oil']\n",
      "The incoming links are:  Index(['BG0 0 land transport oil'], dtype='object', name='Link')\n"
     ]
    }
   ],
   "source": [
    "#what loads are connected to land transport oil? \n",
    "af.bus_connections(network_2040, 'BG0 0 land transport oil' )"
   ]
  }
 ],
 "metadata": {
  "kernelspec": {
   "display_name": "pypsa-eur",
   "language": "python",
   "name": "python3"
  },
  "language_info": {
   "codemirror_mode": {
    "name": "ipython",
    "version": 3
   },
   "file_extension": ".py",
   "mimetype": "text/x-python",
   "name": "python",
   "nbconvert_exporter": "python",
   "pygments_lexer": "ipython3",
   "version": "3.12.10"
  }
 },
 "nbformat": 4,
 "nbformat_minor": 5
}
