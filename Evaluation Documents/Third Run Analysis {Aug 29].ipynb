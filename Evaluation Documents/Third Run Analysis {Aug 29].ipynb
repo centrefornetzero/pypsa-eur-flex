{
 "cells": [
  {
   "cell_type": "markdown",
   "id": "b3ccddf8",
   "metadata": {},
   "source": [
    "# Prioritized Scenarios - Third Run\n",
    "\n",
    "Author: Katherine Shaw\n",
    "Date: Aug 28, 2025\n",
    "\n",
    "This file differs from second run analysis because it includes hydrogen turbine as an option in the configuration file and it changes the heating function to be divided among the countries. Otherwise the Analysis is the same as the second run scenarios."
   ]
  },
  {
   "cell_type": "markdown",
   "id": "4da1d244",
   "metadata": {},
   "source": []
  },
  {
   "cell_type": "code",
   "execution_count": 1,
   "id": "2694425c",
   "metadata": {},
   "outputs": [],
   "source": [
    "#Packages \n",
    "import pypsa\n",
    "import matplotlib.pyplot as plt \n",
    "import cartopy \n",
    "import geopandas\n",
    "import networkx\n",
    "import linopy\n",
    "import cartopy.crs as ccrs\n",
    "import atlite \n",
    "import geopandas as gpd \n",
    "import xarray\n",
    "import pandas as pd \n",
    "from datetime import datetime\n",
    "import numpy as np\n",
    "from pypsa.plot import add_legend_patches\n",
    "import random\n",
    "import plotly.graph_objects as go\n",
    "\n",
    "## Overall view of colors matched to carriers \n",
    "import matplotlib.pyplot as plt\n",
    "from matplotlib.patches import Patch\n",
    "\n",
    "#importing auxillary functions\n",
    "import Auxillary_Functions as af"
   ]
  },
  {
   "cell_type": "code",
   "execution_count": null,
   "id": "8f56a4c2",
   "metadata": {},
   "outputs": [],
   "source": [
    "#Analysis Functions \n",
    "#functions to make tests: \n",
    "def hydrogen_electrolysis_limit_test(network, year):\n",
    "    BAU_hydrogen_limits = {2020: 250, 2030: 40000, 2040: 425000, 2050: 550000} #this is in MW, the original dictionary in the configuration file is in MW\n",
    "\n",
    "    print('Does a hydrogen limit exist?')\n",
    "    if 'capacity_maximum-expansion-Europe-Link-H2-Electrolysis' in network.global_constraints.index:\n",
    "        print('Yes')\n",
    "        print('')\n",
    "\n",
    "    print('does the hydrogen limit plus the installed capacity equal the limit in the configuration file?')\n",
    "    installed_electrolysis_capacity = network.statistics()['Installed Capacity'].loc[('Link', 'H2 Electrolysis')]\n",
    "    global_constraint_expansion_capacity = network.global_constraints['constant'].loc['capacity_maximum-expansion-Europe-Link-H2-Electrolysis']\n",
    "    total = installed_electrolysis_capacity + global_constraint_expansion_capacity \n",
    "    if total - BAU_hydrogen_limits[year] < 2:\n",
    "        print('Yes, constraint working and abided by')\n",
    "        print('')\n",
    "\n",
    "def carbon_sequestration_limit_test(network, year):\n",
    "    BAU_Carbon_sequestration_limits = {2020: 0, 2030: 50, 2040: 280, 2050: 450}\n",
    "\n",
    "    print('Does the Carbon sequestration limit exist?')\n",
    "    if 'co2_sequestration_limit' in network.global_constraints.index:\n",
    "        print('Yes')\n",
    "    \n",
    "    print('does the carbon sequestration amount is equal to the BAU appropriate configuration value')\n",
    "    carbon_sequestration_limit = network.global_constraints['constant'].loc['co2_sequestration_limit']\n",
    "    if carbon_sequestration_limit - BAU_Carbon_sequestration_limits[year] <= 1:\n",
    "        print('Yes')\n",
    "        print('')\n",
    "\n",
    "def transmission_limit_test(network, year):\n",
    "    transmission_limit = ('transmission_expansion_cost_limit' in network.global_constraints.type.unique())\n",
    "    if transmission_limit:\n",
    "        print('Yes, transmission limit exists')\n",
    "    else:\n",
    "        print('No transmission limit')\n",
    "    \n",
    "def carbon_constraint_check(network):\n",
    "    carbon_constraint = network.global_constraints.loc['CO2Limit'].constant\n",
    "    carbon_stores = network.stores_t.e['co2 atmosphere']['2019-12-31 18:00:00']\n",
    "    \n",
    "    if 'CO2Limit' in network.global_constraints.index:\n",
    "        print('Carbon constraint exists')\n",
    "    \n",
    "    if (carbon_constraint - carbon_stores < 1):\n",
    "        print('Yes, Carbon constraint abided by ')\n",
    "    else:\n",
    "        print('WARNING: Carbon constraint violated')\n",
    "\n",
    "#curtailment options\n",
    "def curtailment_dataframe_calculation(network):\n",
    "#ok so this from make summaries isn't bad, but I want total mw hours and percentages, I understand if it's in percentages it doesn't matter because they cancel out but I want something new\n",
    "        avail = (network.generators_t.p_max_pu.multiply(network.generators.p_nom_opt)\n",
    "                .mul(network.snapshot_weightings.objective[0])#now it's in MWh -- power average over 6 hours times number of hours\n",
    "                .sum() #sum of each potential dispatch at p_max_pu with p_nom_opt\n",
    "                .groupby(network.generators.carrier)\n",
    "                .sum()\n",
    "        ) \n",
    "        avail\n",
    "        used = (network.generators_t.p\n",
    "                .mul(network.snapshot_weightings.objective[0]) #multiplying the average dispatch in MW over the 6 hour period by the time period, 6 hr \n",
    "                .sum()\n",
    "                .groupby(network.generators.carrier)\n",
    "                .sum()\n",
    "        )\n",
    "        curtailed_in_megawatthours = avail - used\n",
    "        curtailed_in_megawatthours = curtailed_in_megawatthours[curtailed_in_megawatthours > 0]\n",
    "        curtailed_in_megawatthours\n",
    "\n",
    "        #relative to what would have been available from the wind or solar resource, so franction is related to available power as well? \n",
    "        curtailment_fraction = (avail - used) / avail * 100 #now it's in percentages\n",
    "        curtailment_fraction = curtailment_fraction[curtailment_fraction >0] #to remove negative infinities form conventional generators\n",
    "        curtailment_fraction = curtailment_fraction[curtailment_fraction < 110] # to remove positive infinity from heat vent\n",
    "        curtailment_fraction\n",
    "\n",
    "        curtailment_dataframe = pd.DataFrame()\n",
    "        curtailment_dataframe['Curtailment in MWh'] = curtailed_in_megawatthours\n",
    "        curtailment_dataframe['Curtailment Fraction (with respect to available power)'] = curtailment_fraction\n",
    "        return curtailment_dataframe\n",
    "\n",
    "def combine_with_suffixes(dfs, suffixes):\n",
    "    \"\"\"\n",
    "    Combine multiple DataFrames with the same index,\n",
    "    renaming their columns with the provided suffixes.\n",
    "\n",
    "    Parameters\n",
    "    ----------\n",
    "    dfs : list of pd.DataFrame\n",
    "        List of DataFrames to combine.\n",
    "    suffixes : list of str\n",
    "        List of suffix strings to apply to each DataFrame's columns.\n",
    "\n",
    "    Returns\n",
    "    -------\n",
    "    combined : pd.DataFrame\n",
    "        DataFrame with suffixed columns aligned by index.\n",
    "    \"\"\"\n",
    "    if len(dfs) != len(suffixes):\n",
    "        raise ValueError(\"Length of dfs and suffixes must match\")\n",
    "\n",
    "    renamed = [df.add_suffix(suf) for df, suf in zip(dfs, suffixes)]\n",
    "    combined = pd.concat(renamed, axis=1)\n",
    "    combined\n",
    "    return combined\n",
    "\n",
    "#These functions create the bar chart with information about the renewable nature of the TWH produced in the whole sytem\n",
    "def stacked_side_bar(network_choice):\n",
    "    #to get rid of the depreciation warnings\n",
    "    import warnings\n",
    "    warnings.filterwarnings(\"ignore\", category=FutureWarning)\n",
    "\n",
    "    network = network_choice\n",
    "    #data from network\n",
    "    renewable_carriers = ['solar', 'solar-hsat', 'onwind', 'offwind-ac', 'offwind-dc', 'offwind-float', 'hydro', 'solar rooftop', 'rural solar thermal', 'urban decentral solar thermal', 'urban central solar thermal', 'ror']\n",
    "    renewable_generators = network.generators[network.generators.carrier.isin(renewable_carriers)].index \n",
    "    low_carbon_carriers = ['nuclear', 'geothermal']\n",
    "    traditional_carriers = ['lignite', 'coal', 'oil primary', 'gas', 'biogas', 'solid biomass']\n",
    "\n",
    "    renewable_production = (network.generators_t.p[renewable_generators] * network.snapshot_weightings.objective[0]).T.groupby(network.generators.carrier).sum().T.sum() #MWh \n",
    "    low_carbon_production = (network.generators_t.p[(network.generators[network.generators.carrier.isin(low_carbon_carriers)].index)] * network.snapshot_weightings.objective[0]).T.groupby(network.generators.carrier).sum().T.sum() #MWh \n",
    "    conventional_production =  (network.generators_t.p[(network.generators[network.generators.carrier.isin(traditional_carriers)].index)] * network.snapshot_weightings.objective[0]).T.groupby(network.generators.carrier).sum().T.sum() #MWh \n",
    " \n",
    "    #hydro\n",
    "    hydro_dispatch = network.storage_units_t.p.T.groupby(network.storage_units.carrier).sum().sum(axis=1) #storage units are just hydro and phs \n",
    "    hydro_dispatch = hydro_dispatch * network.snapshot_weightings.objective[0] #MW --> MWh\n",
    "\n",
    "    # Your actual categories and summed values (replace these with your actual data if running)\n",
    "    categories = ['Renewable', 'Low-Carbon', 'Conventional']\n",
    "    values = [(renewable_production.sum() + hydro_dispatch.sum()), low_carbon_production.sum(), conventional_production.sum()]\n",
    "    colors = [\"#3B9357\", \"#799CAD\", \"#645744\"]  # green, blue-gray, brown\n",
    "\n",
    "    # Initialize plot\n",
    "    fig, ax = plt.subplots(figsize=(10, 2.5))\n",
    "\n",
    "    # Plot stacked horizontal bar\n",
    "    left = 0\n",
    "    bar_height = 0.6\n",
    "    for val, color in zip(values, colors):\n",
    "        ax.barh(y=0, width=val, left=left, height=bar_height,\n",
    "                color=color, edgecolor='black', linewidth=1.5)\n",
    "        left += val\n",
    "\n",
    "    # Add labels with lines pointing to right-side annotations\n",
    "    left = 0\n",
    "    total = sum(values)\n",
    "    right_edge_x = total  # <-- NEW: define rightmost edge of the bar\n",
    "\n",
    "    for label, val in zip(categories, values):\n",
    "        bar_center_x = left + val / 2\n",
    "        segment_center_x = left + val / 2\n",
    "        segment_centre_y = 0.10\n",
    "        label_x = right_edge_x + 0.02 * total  # offset to the right\n",
    "        label_y = 0.55  # vertical position of the label\n",
    "\n",
    "        # Draw the connecting line\n",
    "        ax.plot([bar_center_x, segment_center_x], [segment_centre_y, label_y - 0.15],\n",
    "                color='black', linewidth=1.0)\n",
    "\n",
    "        # Format value in scientific notation (rounded to 2 decimal places)\n",
    "        sci_val = \"{:.2e}\".format(val)\n",
    "        pct_val = f\"{(val / total) * 100:.2f}\"  # <-- FIXED: works for floats\n",
    "\n",
    "        # Draw label and value\n",
    "        ax.text(segment_center_x, label_y, label, ha='center', va='bottom', fontsize=10)\n",
    "        ax.text(segment_center_x, label_y - 0.05, sci_val, ha='center', va='top', fontsize=9, color='gray')\n",
    "        ax.text(segment_center_x, segment_centre_y - .2, pct_val + '%', ha='center', va='bottom', fontsize=9, color='k')\n",
    "\n",
    "        left += val\n",
    "\n",
    "    # Final plot adjustments\n",
    "    ax.set_xlim(0, total * 1.15)\n",
    "    ax.set_ylim(-0.5, 0.7)\n",
    "    ax.set_yticks([])\n",
    "    ax.set_xlabel(\"Generation [MWh]\", fontsize=12)\n",
    "    ax.set_title(\"Power Contribution by Technology Group\", fontsize=14, pad=15)\n",
    "    ax.spines[['top', 'right', 'left']].set_visible(False)\n",
    "    #ax.grid(axis='x', linestyle='--', alpha=0.1)\n",
    "\n",
    "    plt.tight_layout()\n",
    "    plt.show()\n",
    "    plt.close()\n",
    "    return fig\n",
    "\n",
    "def stacked_side_bar_electric(network_choice):\n",
    "    #to get rid of the depreciation warnings\n",
    "    import warnings\n",
    "    warnings.filterwarnings(\"ignore\", category=FutureWarning)\n",
    "\n",
    "    network = network_choice\n",
    "    #data from network\n",
    "   #data from network\n",
    "    renewable_carriers = ['solar', 'solar-hsat', 'onwind', 'offwind-ac', 'offwind-dc', 'offwind-float', 'hydro', 'solar rooftop', 'ror'] #no solar thermal, though an argument could perhaps be made\n",
    "    low_carbon_carriers = ['nuclear', 'geothermal']\n",
    "    traditional_carriers = ['lignite', 'coal', 'oil primary', 'gas', 'biogas', 'solid biomass', ]\n",
    "\n",
    "    #all buses that are acceptable \n",
    "    electric_buses = network.buses[network.buses.unit == 'MWh_el'].index #AC, battery, EV battery, low voltage, home battery \n",
    "    renewable_generators = network.generators[network.generators.carrier.isin(renewable_carriers)]\n",
    "    renewable_generators = renewable_generators[renewable_generators.bus.isin(electric_buses)]\n",
    "    renewable_generators = renewable_generators.index\n",
    "\n",
    "    low_carbon_generators = network.generators[network.generators.carrier.isin(low_carbon_carriers)]\n",
    "    low_carbon_generators = low_carbon_generators[low_carbon_generators.bus.isin(electric_buses)]\n",
    "    low_carbon_generators = low_carbon_generators.index\n",
    "\n",
    "    #conventional generators harder to nab, if I want to get to what was contributed to the power sector, have to take a different approach \n",
    "    conventional_generators = network.generators[network.generators.carrier.isin(traditional_carriers)]\n",
    "    #conventional_generators = conventional_generators[conventional_generators.bus.isin(electric_buses)]\n",
    "    #conventional_generators = conventional_generators.index \n",
    "    conventional_generators\n",
    "\n",
    "    network.links.carrier.unique()\n",
    "    #need all the links that come from a conventional bus and go into a electric bus\n",
    "    thermal_to_power = network.links[network.links.bus1.isin(electric_buses)][~network.links.bus0.isin(electric_buses)]\n",
    "    thermal_to_power = thermal_to_power[~(thermal_to_power.carrier == 'nuclear')]#get rid of all nuclear, because that is one I already have in low carbon power\n",
    "    thermal_to_power = thermal_to_power.index \n",
    "\n",
    "    renewable_production = (network.generators_t.p[renewable_generators] * network.snapshot_weightings.objective[0]).T.groupby(network.generators.carrier).sum().T.sum() #MWh \n",
    "    low_carbon_production = (network.generators_t.p[low_carbon_generators] * network.snapshot_weightings.objective[0]).T.groupby(network.generators.carrier).sum().T.sum() #MWh \n",
    "    conventional_production =  (network.links_t.p1[thermal_to_power] * network.snapshot_weightings.objective[0]).T.groupby(network.links.carrier).sum().T.sum() #MWh\n",
    "    conventional_production = conventional_production * -1 #because it's power delivered to the electric bus \n",
    "\n",
    "    #hydro\n",
    "    hydro_dispatch = network.storage_units_t.p.T.groupby(network.storage_units.carrier).sum().sum(axis=1) #storage units are just hydro and phs \n",
    "    hydro_dispatch = hydro_dispatch * network.snapshot_weightings.objective[0] #MW --> MWh\n",
    "\n",
    "    # Your actual categories and summed values (replace these with your actual data if running)\n",
    "    categories = ['Renewable', 'Low-Carbon', 'Conventional']\n",
    "    values = [(renewable_production.sum() + hydro_dispatch.sum()) , low_carbon_production.sum(), conventional_production.sum()]\n",
    "    colors = [\"#3B9357\", \"#799CAD\", \"#645744\"]  # green, blue-gray, brown\n",
    "\n",
    "    # Initialize plot\n",
    "    fig, ax = plt.subplots(figsize=(10, 2.5))\n",
    "\n",
    "    # Plot stacked horizontal bar\n",
    "    left = 0\n",
    "    bar_height = 0.6\n",
    "    for val, color in zip(values, colors):\n",
    "        ax.barh(y=0, width=val, left=left, height=bar_height,\n",
    "                color=color, edgecolor='black', linewidth=1.5)\n",
    "        left += val\n",
    "\n",
    "    # Add labels with lines pointing to right-side annotations\n",
    "    left = 0\n",
    "    total = sum(values)\n",
    "    right_edge_x = total  # <-- NEW: define rightmost edge of the bar\n",
    "    for label, val in zip(categories, values):\n",
    "        bar_center_x = left + val / 2\n",
    "        segment_center_x = left + val / 2\n",
    "        segment_centre_y = 0.10\n",
    "        label_x = right_edge_x + 0.02 * total  # offset to the right\n",
    "        label_y = 0.55  # vertical position of the label\n",
    "\n",
    "        # Draw the connecting line\n",
    "        ax.plot([bar_center_x,segment_center_x], [segment_centre_y, label_y - 0.15],\n",
    "                color='black', linewidth=1.0)\n",
    "\n",
    "        # Format value in scientific notation (rounded to 2 decimal places)\n",
    "        sci_val = \"{:.2e}\".format(val)\n",
    "        pct_val = str(((val/total) * 100).round(2))\n",
    "\n",
    "        # Draw label and value\n",
    "        ax.text(segment_center_x, label_y, label, ha='center', va='bottom', fontsize=10)\n",
    "        ax.text(segment_center_x, label_y - 0.05, sci_val, ha='center', va='top', fontsize=9, color='gray')\n",
    "        ax.text(segment_center_x, segment_centre_y - .2, pct_val + '%', ha = 'center', va = 'bottom', fontsize = 9, color = 'k')\n",
    "\n",
    "\n",
    "        left += val\n",
    "\n",
    "    # Final plot adjustments\n",
    "    ax.set_xlim(0, total * 1.15)\n",
    "    ax.set_ylim(-0.5, 0.7)\n",
    "    ax.set_yticks([])\n",
    "    ax.set_xlabel(\"Generation [MWh]\", fontsize=12)\n",
    "    ax.set_title(\"Power Contribution by Technology Group\", fontsize=14, pad=15)\n",
    "    ax.spines[['top', 'right', 'left']].set_visible(False)\n",
    "    #ax.grid(axis='x', linestyle='--', alpha=0.1)\n",
    "\n",
    "    plt.tight_layout()\n",
    "    plt.show()\n",
    "    plt.close()\n",
    "    #return fig\n",
    "    \n",
    "#this function aids the demand function seperate the different types of demand (by carrier)\n",
    "def load_dataframe_compiler(network, sector_suffix): #this still returns load dataframes in terms of power dispatch, not in total energy (so MW, not MWH)\n",
    "    import pandas as pd\n",
    "    import numpy as np\n",
    "\n",
    "    # Create a dummy dataframe with load dispatch\n",
    "    df = pd.DataFrame(network.loads_t.p.T.copy())\n",
    "\n",
    "    # All loads and their static information \n",
    "    df_loads = network.loads.copy()\n",
    "    carrier_options = df_loads.carrier.unique()\n",
    "\n",
    "    # Prepare suffix list and remap 'electricity' to empty string\n",
    "    suffixes = carrier_options.copy()\n",
    "    if 'electricity' in suffixes:\n",
    "        suffixes[np.where(suffixes == 'electricity')[0][0]] = ''\n",
    "\n",
    "    # Check that the given sector_suffix is valid\n",
    "    if sector_suffix not in suffixes:\n",
    "        print('network suffix not in suffix list')\n",
    "        return None\n",
    "\n",
    "    # Filtering logic\n",
    "    if sector_suffix == '':\n",
    "        # Keep only rows where the index suffix after first 5 chars is exactly ''\n",
    "        filtered_df = df[df.index.str[5:] == ''].copy()\n",
    "    else:\n",
    "        # Match any index containing the suffix\n",
    "        filtered_df = df[df.index.str.contains(sector_suffix, regex=False)].copy()\n",
    "\n",
    "    return filtered_df\n",
    "\n",
    "def Electric_demand_plot(network):\n",
    "    fig, ax = plt.subplots(figsize = (14,6))\n",
    "    electric_loads_in_time = load_dataframe_compiler(network_choice, '').sum().div(1e3) #turning into GW\n",
    "    transport_loads_in_power_sector = load_dataframe_compiler(network_choice, 'land transport EV').sum().div(1e3) #turning into GW\n",
    "    #plt.ylabel('GW')\n",
    "    #electric heating dispatch\n",
    "    heating_buses = network_choice.buses[network_choice.buses.carrier.isin(['urban central heat', 'urban decentral heat', 'rural heat'])]\n",
    "    electric_buses = network_choice.buses[network_choice.buses.unit == 'MWh_el']\n",
    "    heating_to_electric_links = network_choice.links[network_choice.links.bus1.isin(heating_buses.index)][network_choice.links.bus0.isin(electric_buses.index)]\n",
    "    #heating_to_electric_links.carrier.unique() #carriers include heat pumps and resistive heaters, good. \n",
    "    heating_to_electric_link_pull_from_power_sector = network_choice.links_t.p0[heating_to_electric_links.index]\n",
    "    heating_to_electric_link_pull_from_power_sector = heating_to_electric_link_pull_from_power_sector.T.sum()\n",
    "    heating_to_electric_link_pull_from_power_sector = heating_to_electric_link_pull_from_power_sector.div(1e3)\n",
    "\n",
    "    type_dispatch_dataframe = pd.DataFrame()\n",
    "    type_dispatch_dataframe['Electric Transport Load [GW]'] = transport_loads_in_power_sector\n",
    "    type_dispatch_dataframe['Electric Heating Load [GW]'] = heating_to_electric_link_pull_from_power_sector\n",
    "    type_dispatch_dataframe['Electric Loads [GW]'] = electric_loads_in_time\n",
    "    type_dispatch_dataframe.plot(\n",
    "            ax = ax,\n",
    "            kind = 'area',\n",
    "            stacked = True,\n",
    "            cmap = 'tab20'\n",
    "        )\n",
    "    return fig\n",
    "\n",
    "\n",
    "def network_list_summary(network_list):\n",
    "    #overall cost of system\n",
    "    print('network objective')\n",
    "    print(\n",
    "        f'2020 : {network_list[0].objective:.2e} \\n'\n",
    "        f'2030 : {network_list[1].objective:.2e} \\n' \n",
    "        f'2040 : {network_list[2].objective:.2e} \\n' \n",
    "        f'2050 : {network_list[3].objective:.2e} \\n'\n",
    "    )\n",
    "    #system makeup - total \n",
    "    print('system makeup -- all sectors')\n",
    "    print('2020')\n",
    "    stacked_side_bar(network_list[0])\n",
    "    print('2030')\n",
    "    stacked_side_bar(network_list[1])\n",
    "    print('2040')\n",
    "    stacked_side_bar(network_list[2])\n",
    "    print('2050')\n",
    "    stacked_side_bar(network_list[3])\n",
    "    #system makep - power sector \n",
    "    print('system makeup -- power sector')\n",
    "    print('2020')\n",
    "    stacked_side_bar_electric(network_list[0])\n",
    "    print('2030')\n",
    "    stacked_side_bar_electric(network_list[1])\n",
    "    print('2040')\n",
    "    stacked_side_bar_electric(network_list[2])\n",
    "    print('2050')\n",
    "    stacked_side_bar_electric(network_list[3])\n",
    "\n",
    "    #hydrogen buildout \n",
    "    #carbon sequestered and overal carbon \n",
    "    [carbon_constraint_check(n) for n in BAU_no_flex_network_list]\n",
    "\n"
   ]
  },
  {
   "cell_type": "markdown",
   "id": "da2c10b0",
   "metadata": {},
   "source": [
    "# BAU - No Flex and Max Flex"
   ]
  },
  {
   "cell_type": "code",
   "execution_count": 3,
   "id": "f851bee4",
   "metadata": {},
   "outputs": [
    {
     "name": "stderr",
     "output_type": "stream",
     "text": [
      "INFO:pypsa.io:Imported network base_s_39___2020.nc has buses, carriers, generators, global_constraints, lines, links, loads, storage_units, stores\n",
      "INFO:pypsa.io:Imported network base_s_39___2030.nc has buses, carriers, generators, global_constraints, lines, links, loads, storage_units, stores\n",
      "INFO:pypsa.io:Imported network base_s_39___2040.nc has buses, carriers, generators, global_constraints, lines, links, loads, storage_units, stores\n",
      "INFO:pypsa.io:Imported network base_s_39___2050.nc has buses, carriers, generators, global_constraints, lines, links, loads, storage_units, stores\n"
     ]
    }
   ],
   "source": [
    "BAU_no_flex_2020 = pypsa.Network('/Users/katherine.shaw/Desktop/Third Run Results/BAU_no_flex/networks/base_s_39___2020.nc')\n",
    "BAU_no_flex_2030 = pypsa.Network('/Users/katherine.shaw/Desktop/Third Run Results/BAU_no_flex/networks/base_s_39___2030.nc')\n",
    "BAU_no_flex_2040 = pypsa.Network('/Users/katherine.shaw/Desktop/Third Run Results/BAU_no_flex/networks/base_s_39___2040.nc')\n",
    "BAU_no_flex_2050 = pypsa.Network('/Users/katherine.shaw/Desktop/Third Run Results/BAU_no_flex/networks/base_s_39___2050.nc')\n"
   ]
  },
  {
   "cell_type": "code",
   "execution_count": 4,
   "id": "2b400b39",
   "metadata": {},
   "outputs": [],
   "source": [
    "BAU_no_flex_network_list = [BAU_no_flex_2020, BAU_no_flex_2030, BAU_no_flex_2040, BAU_no_flex_2050 ]"
   ]
  },
  {
   "cell_type": "markdown",
   "id": "ec4b1f5f",
   "metadata": {},
   "source": [
    "#### Validation"
   ]
  },
  {
   "cell_type": "code",
   "execution_count": 443,
   "id": "bd9c9b4f",
   "metadata": {},
   "outputs": [],
   "source": [
    "#BAU validation against ENTSO-E  -- functions to do the comparison\n",
    "historic_entsoe_2020 = pd.read_csv(\n",
    "    '/Users/katherine.shaw/Desktop/pypsa-eur/2020 entsoe-e/historical_electricity_production.csv',\n",
    "    index_col=0,\n",
    "    header=[0, 1],\n",
    "    parse_dates=True,\n",
    ")\n",
    "\n",
    "subset_technologies = [\"Geothermal\", \"Nuclear\", \"Biomass\", \"Lignite\", \"Oil\", \"Coal\"]\n",
    "lowercase_technologies = [\n",
    "    technology.lower() if technology in subset_technologies else technology\n",
    "    for technology in historic_entsoe_2020.columns.levels[1]\n",
    "    ]\n",
    "historic_entsoe_2020.columns = historic_entsoe_2020.columns.set_levels(lowercase_technologies, level=1)\n",
    "\n",
    "\n",
    "\n",
    "def combine_series_by_dictionary(series1: pd.Series, series2: pd.Series, matched_data_dictionary: dict) -> pd.DataFrame:\n",
    "    \"\"\"\n",
    "    Combines two pandas Series into a single DataFrame based on a dictionary\n",
    "    that maps multiple source indices to a single target index.\n",
    "    Values for matched source indices are summed under the target index.\n",
    "    Rows in the series that do not match any dictionary values are ignored.\n",
    "\n",
    "    Args:\n",
    "        series1 (pd.Series): The first pandas Series.\n",
    "        series2 (pd.Series): The second pandas Series.\n",
    "        matched_data_dictionary (dict): A dictionary where keys are the\n",
    "                                        desired new DataFrame indices, and\n",
    "                                        values are lists of original indices\n",
    "                                        to be mapped to that new index.\n",
    "\n",
    "    Returns:\n",
    "        pd.DataFrame: A DataFrame with the aggregated values under the new indices.\n",
    "    \"\"\"\n",
    "    \n",
    "    # Initialize a dictionary to store the aggregated data\n",
    "    combined_data = {}\n",
    "\n",
    "    # Iterate through the target indices and their corresponding source indices\n",
    "    for target_index, source_indices_list in matched_data_dictionary.items():\n",
    "        total_value_series1 = 0\n",
    "        total_value_series2 = 0\n",
    "        \n",
    "        # Aggregate values for series1\n",
    "        for source_index in source_indices_list:\n",
    "            if source_index in series1.index:\n",
    "                total_value_series1 += series1.loc[source_index]\n",
    "        \n",
    "        # Aggregate values for series2\n",
    "        for source_index in source_indices_list:\n",
    "            if source_index in series2.index:\n",
    "                total_value_series2 += series2.loc[source_index]\n",
    "        \n",
    "        # Store the aggregated values for this target_index\n",
    "        combined_data[target_index] = {\n",
    "            'Series1_Value': total_value_series1,\n",
    "            'Series2_Value': total_value_series2\n",
    "        }\n",
    "    \n",
    "    # Create a DataFrame from the combined data\n",
    "    # Orienting from_dict to 'index' makes the dictionary keys the DataFrame index\n",
    "    df = pd.DataFrame.from_dict(combined_data, orient='index')\n",
    "    \n",
    "    # Ensure columns are properly named\n",
    "    df.columns = ['Historic', 'Optimized']\n",
    "    \n",
    "    return df\n",
    "\n",
    "matched_data_dictionary2 = {\n",
    "    'Onshore Wind': ['Onshore Wind', 'onwind', 'onshore wind'],\n",
    "    'Offshore Wind': ['Offshore Wind', 'Offshore Wind (AC)', 'Offshore Wind (DC)', 'Offshore Wind (Floating)', 'offwind-ac', 'offwind-dc', 'offwind-float', 'offshore wind'],\n",
    "    'Solar' : ['Solar', 'solar-hsat', 'solar', 'solar rooftop'],\n",
    "    'Nuclear': ['Nuclear', 'nuclear'], \n",
    "    'Run of River': ['Run of River', 'ror'],\n",
    "    'Hydro': ['Hydro', 'hydro', 'PHS', 'Pumped Hydro Storage', 'Reservoir & Dam'],\n",
    "    'Coal': ['Coal', 'coal'], \n",
    "    'Lignite': ['Lignite', 'lignite'],\n",
    "    'Gas': ['Gas', 'gas', 'Combined-Cycle Gas', 'Open-Cycle Gas', 'CCGT', 'OCGT',  \"urban central CHP\", \"urban central CHP CC\"],\n",
    "    'Geothermal': ['Geothermal', 'geothermal'],\n",
    "    'Biomass': ['Biomass', 'solid biomass', 'urban central solid biomass CHP', 'urban central solid biomass CHP CC', 'biomass'],\n",
    "    'Other': ['Other'],\n",
    "    'Oil': ['oil', 'Oil']\n",
    "    }\n",
    "#To graph the result:\n",
    "'''\n",
    "fig, ax = plt.subplots(figsize=(6, 6))\n",
    "df = df / 1e6  # TWh\n",
    "df.plot.barh(ax=ax, xlabel=\"Electricity Production [TWh]\", ylabel=\"\")\n",
    "ax.grid(axis=\"y\")\n",
    "#fig.savefig(snakemake.output.production_bar, bbox_inches=\"tight\")\n",
    "plt.show()\n",
    "''' \n",
    "\n",
    "def electric_supply_from_the_sector_models(network_choice):\n",
    "    #gets the total supply from the various carriers to the electric sector of the model, where applicable \n",
    "    ##the renewable generators connect directly to the AC buses \n",
    "    ## the conventional links deliver a certain amount of energy to the AC buses -- in the sector models the big loads are connected to the low voltage buses\n",
    "  network = network_choice\n",
    "  supply = {}\n",
    "\n",
    "    #renewables \n",
    "  renewable_carriers = ['solar', 'offwind-dc', 'onwind',\n",
    "       'offwind-ac', 'offwind-float', 'solar-hsat', 'ror', 'solar rooftop', 'hydro', 'ror', 'PHS']\n",
    "      #generators \n",
    "  renewable_generators_by_carrier = network.generators[network.generators.carrier.isin(renewable_carriers)].index\n",
    "  renewable_generators_by_carrier \n",
    "  renewables_dispatch = network.generators_t.p[renewable_generators_by_carrier]\n",
    "  renewables_dispatch = renewables_dispatch.T\n",
    "  renewables_dispatch=renewables_dispatch.groupby(network.generators.carrier).sum()\n",
    "  renewables_dispatch = renewables_dispatch * network.snapshot_weightings.objective[0] #MW --> MWh \n",
    "  renewables_dispatch = renewables_dispatch.sum(axis=1)\n",
    "    #low carbon carriers\n",
    "  low_carbon_carriers = ['nuclear', 'geothermal']\n",
    "  low_carbon_carriers = network.generators[network.generators.carrier.isin(low_carbon_carriers)].index\n",
    "  low_carbon_dispatch = network.generators_t.p[low_carbon_carriers]\n",
    "  low_carbon_dispatch = low_carbon_dispatch * network.snapshot_weightings.objective[0] #MW --> MWh\n",
    "  low_carbon_dispatch = low_carbon_dispatch.T\n",
    "  low_carbon_dispatch = low_carbon_dispatch.groupby(network.generators.carrier).sum()\n",
    "  low_carbon_dispatch = low_carbon_dispatch.sum(axis=1)\n",
    "  low_carbon_dispatch\n",
    "    #conventional carriers = \n",
    "  conventional_carriers = ['coal', 'lignite', 'CCGT', 'OCGT', 'oil', \"urban central solid biomass CHP\", \"urban central CHP\", \"urban central solid biomass CHP CC\", \"urban central CHP CC\", 'H2 turbine', 'H2 Fuel Cell'] #biomass is technically low carbon, but CHP is given in links. biomass CHP only in urban central\n",
    "  conventional_links = network.links[network.links.carrier.isin(conventional_carriers)].index\n",
    "  conventional_links = network.links_t.p1[conventional_links]#power delivered to the end bus \n",
    "  conventional_links = conventional_links * network.snapshot_weightings.objective[0] * -1 #MW --> MWh, and multiplied by netgative one because contributing power to those buses\n",
    "  conventional_links = conventional_links.T\n",
    "  conventional_links = conventional_links.groupby(network.links.carrier).sum()\n",
    "  conventional_links = conventional_links.sum(axis=1)\n",
    "  conventional_links\n",
    "  \n",
    "  #hydro\n",
    "  hydro_dispatch = network.storage_units_t.p.T.groupby(network.storage_units.carrier).sum().sum(axis=1) #storage units are just hydro and phs \n",
    "  hydro_dispatch = hydro_dispatch * network.snapshot_weightings.objective[0] #MW --> MWh\n",
    "\n",
    "\n",
    "\n",
    "  dispatch_dict = {k: v for s in [renewables_dispatch, low_carbon_dispatch, conventional_links, hydro_dispatch] for k, v in s.items()}\n",
    "  return dispatch_dict \n",
    "\n"
   ]
  },
  {
   "cell_type": "markdown",
   "id": "837e8756",
   "metadata": {},
   "source": [
    "All (including Sector) Components compared to Entsoe E"
   ]
  },
  {
   "cell_type": "code",
   "execution_count": 6,
   "id": "d356ebf1",
   "metadata": {},
   "outputs": [
    {
     "data": {
      "image/png": "[encoded data removed]",
      "text/plain": [
       "<Figure size 600x600 with 1 Axes>"
      ]
     },
     "metadata": {},
     "output_type": "display_data"
    }
   ],
   "source": [
    "import warnings\n",
    "# Suppress all deprecation warnings\n",
    "warnings.filterwarnings(\"ignore\", category=FutureWarning)\n",
    "\n",
    "df = combine_series_by_dictionary(historic_entsoe_2020.T.groupby(level=1).sum().sum(axis=1), BAU_no_flex_2020.statistics().loc['Generator']['Supply'], matched_data_dictionary2)\n",
    "fig, ax = plt.subplots(figsize=(6, 6))\n",
    "df = df / 1e6  # TWh\n",
    "df\n",
    "df.plot.barh(ax=ax, xlabel=\"Electricity Production [TWh]\", ylabel=\"\")\n",
    "ax.grid(axis=\"x\")\n",
    "plt.title('Total Generation for year 2020, Sector model to-electric power vs Entsoe-E Data, optimized scenario = base BAU')\n",
    "#fig.savefig(snakemake.output.production_bar, bbox_inches=\"tight\")\n",
    "plt.show() "
   ]
  },
  {
   "cell_type": "markdown",
   "id": "a110e538",
   "metadata": {},
   "source": []
  },
  {
   "cell_type": "markdown",
   "id": "223112e8",
   "metadata": {},
   "source": [
    "Electric Components compared to Entsoe E"
   ]
  },
  {
   "cell_type": "code",
   "execution_count": 7,
   "id": "7a4210bf",
   "metadata": {},
   "outputs": [
    {
     "data": {
      "image/png": "[encoded data removed]",
      "text/plain": [
       "<Figure size 600x600 with 1 Axes>"
      ]
     },
     "metadata": {},
     "output_type": "display_data"
    }
   ],
   "source": [
    "import warnings\n",
    "# Suppress all deprecation warnings\n",
    "warnings.filterwarnings(\"ignore\", category=FutureWarning)\n",
    "\n",
    "df = combine_series_by_dictionary(historic_entsoe_2020.T.groupby(level=1).sum().sum(axis=1), pd.Series(electric_supply_from_the_sector_models(BAU_no_flex_2020)), matched_data_dictionary2 )\n",
    "fig, ax = plt.subplots(figsize=(6, 6))\n",
    "df = df / 1e6  # TWh\n",
    "df\n",
    "df.plot.barh(ax=ax, xlabel=\"Electricity Production [TWh]\", ylabel=\"\")\n",
    "ax.grid(axis=\"x\")\n",
    "plt.title('Total Generation for year 2020, Sector model to-electric power vs Entsoe-E Data, optimized scenario = base BAU')\n",
    "#fig.savefig(snakemake.output.production_bar, bbox_inches=\"tight\")\n",
    "plt.show()    "
   ]
  },
  {
   "cell_type": "code",
   "execution_count": 8,
   "id": "78451b04",
   "metadata": {},
   "outputs": [
    {
     "name": "stdout",
     "output_type": "stream",
     "text": [
      "Carbon constraint exists\n",
      "Yes, Carbon constraint abided by \n",
      "No transmission limit\n",
      "Does a hydrogen limit exist?\n",
      "Yes\n",
      "\n",
      "does the hydrogen limit plus the installed capacity equal the limit in the configuration file?\n",
      "Yes, constraint working and abided by\n",
      "\n",
      "Does the Carbon sequestration limit exist?\n",
      "Yes\n",
      "does the carbon sequestration amount is equal to the BAU appropriate configuration value\n",
      "Yes\n",
      "\n",
      "Carbon constraint exists\n",
      "Yes, Carbon constraint abided by \n",
      "No transmission limit\n",
      "Does a hydrogen limit exist?\n",
      "Yes\n",
      "\n",
      "does the hydrogen limit plus the installed capacity equal the limit in the configuration file?\n",
      "Yes, constraint working and abided by\n",
      "\n",
      "Does the Carbon sequestration limit exist?\n",
      "Yes\n",
      "does the carbon sequestration amount is equal to the BAU appropriate configuration value\n",
      "Yes\n",
      "\n",
      "Carbon constraint exists\n",
      "Yes, Carbon constraint abided by \n",
      "No transmission limit\n",
      "Does a hydrogen limit exist?\n",
      "Yes\n",
      "\n",
      "does the hydrogen limit plus the installed capacity equal the limit in the configuration file?\n",
      "Yes, constraint working and abided by\n",
      "\n",
      "Does the Carbon sequestration limit exist?\n",
      "Yes\n",
      "does the carbon sequestration amount is equal to the BAU appropriate configuration value\n",
      "Yes\n",
      "\n",
      "Carbon constraint exists\n",
      "Yes, Carbon constraint abided by \n",
      "No transmission limit\n",
      "Does a hydrogen limit exist?\n",
      "Yes\n",
      "\n",
      "does the hydrogen limit plus the installed capacity equal the limit in the configuration file?\n",
      "Yes, constraint working and abided by\n",
      "\n",
      "Does the Carbon sequestration limit exist?\n",
      "Yes\n",
      "does the carbon sequestration amount is equal to the BAU appropriate configuration value\n",
      "Yes\n",
      "\n"
     ]
    }
   ],
   "source": [
    "for i, network in enumerate(BAU_no_flex_network_list):\n",
    "    years = [2020, 2030, 2040, 2050]\n",
    "    carbon_constraint_check(network)\n",
    "    transmission_limit_test(network, years[i])\n",
    "    hydrogen_electrolysis_limit_test(network, years[i])\n",
    "    carbon_sequestration_limit_test(network, years[i])\n",
    "    \n"
   ]
  },
  {
   "cell_type": "markdown",
   "id": "f7ec7d39",
   "metadata": {},
   "source": [
    "#### Network Metrics - BAU"
   ]
  },
  {
   "cell_type": "code",
   "execution_count": null,
   "id": "df0a455f",
   "metadata": {},
   "outputs": [
    {
     "name": "stdout",
     "output_type": "stream",
     "text": [
      "network objective\n",
      "2020 : 5.37e+11 \n",
      "2030 : 4.59e+11 \n",
      "2040 : 5.29e+11 \n",
      "2050 : 1.27e+11 \n",
      "\n",
      "system makeup -- all sectors\n",
      "2020\n"
     ]
    },
    {
     "data": {
      "image/png": "[encoded data removed]",
      "text/plain": [
       "<Figure size 1000x250 with 1 Axes>"
      ]
     },
     "metadata": {},
     "output_type": "display_data"
    },
    {
     "name": "stdout",
     "output_type": "stream",
     "text": [
      "2030\n"
     ]
    },
    {
     "data": {
      "image/png": "[encoded data removed]",
      "text/plain": [
       "<Figure size 1000x250 with 1 Axes>"
      ]
     },
     "metadata": {},
     "output_type": "display_data"
    },
    {
     "name": "stdout",
     "output_type": "stream",
     "text": [
      "2040\n"
     ]
    },
    {
     "data": {
      "image/png": "[encoded data removed]",
      "text/plain": [
       "<Figure size 1000x250 with 1 Axes>"
      ]
     },
     "metadata": {},
     "output_type": "display_data"
    },
    {
     "name": "stdout",
     "output_type": "stream",
     "text": [
      "2050\n"
     ]
    },
    {
     "data": {
      "image/png": "[encoded data removed]",
      "text/plain": [
       "<Figure size 1000x250 with 1 Axes>"
      ]
     },
     "metadata": {},
     "output_type": "display_data"
    },
    {
     "name": "stdout",
     "output_type": "stream",
     "text": [
      "system makeup -- power sector\n",
      "2020\n"
     ]
    },
    {
     "name": "stderr",
     "output_type": "stream",
     "text": [
      "/var/folders/_w/ry357l9n0vjg8jgfczvkpk3r0000gn/T/ipykernel_16217/3119974902.py:215: UserWarning:\n",
      "\n",
      "Boolean Series key will be reindexed to match DataFrame index.\n",
      "\n"
     ]
    },
    {
     "data": {
      "image/png": "[encoded data removed]",
      "text/plain": [
       "<Figure size 1000x250 with 1 Axes>"
      ]
     },
     "metadata": {},
     "output_type": "display_data"
    },
    {
     "name": "stdout",
     "output_type": "stream",
     "text": [
      "2030\n"
     ]
    },
    {
     "name": "stderr",
     "output_type": "stream",
     "text": [
      "/var/folders/_w/ry357l9n0vjg8jgfczvkpk3r0000gn/T/ipykernel_16217/3119974902.py:215: UserWarning:\n",
      "\n",
      "Boolean Series key will be reindexed to match DataFrame index.\n",
      "\n"
     ]
    },
    {
     "data": {
      "image/png": "[encoded data removed]",
      "text/plain": [
       "<Figure size 1000x250 with 1 Axes>"
      ]
     },
     "metadata": {},
     "output_type": "display_data"
    },
    {
     "name": "stdout",
     "output_type": "stream",
     "text": [
      "2040\n"
     ]
    },
    {
     "name": "stderr",
     "output_type": "stream",
     "text": [
      "/var/folders/_w/ry357l9n0vjg8jgfczvkpk3r0000gn/T/ipykernel_16217/3119974902.py:215: UserWarning:\n",
      "\n",
      "Boolean Series key will be reindexed to match DataFrame index.\n",
      "\n"
     ]
    },
    {
     "data": {
      "image/png": "[encoded data removed]",
      "text/plain": [
       "<Figure size 1000x250 with 1 Axes>"
      ]
     },
     "metadata": {},
     "output_type": "display_data"
    },
    {
     "name": "stdout",
     "output_type": "stream",
     "text": [
      "2050\n"
     ]
    },
    {
     "name": "stderr",
     "output_type": "stream",
     "text": [
      "/var/folders/_w/ry357l9n0vjg8jgfczvkpk3r0000gn/T/ipykernel_16217/3119974902.py:215: UserWarning:\n",
      "\n",
      "Boolean Series key will be reindexed to match DataFrame index.\n",
      "\n"
     ]
    },
    {
     "data": {
      "image/png": "[encoded data removed]",
      "text/plain": [
       "<Figure size 1000x250 with 1 Axes>"
      ]
     },
     "metadata": {},
     "output_type": "display_data"
    },
    {
     "name": "stdout",
     "output_type": "stream",
     "text": [
      "Carbon constraint exists\n",
      "Yes, Carbon constraint abided by \n",
      "Carbon constraint exists\n",
      "Yes, Carbon constraint abided by \n",
      "Carbon constraint exists\n",
      "Yes, Carbon constraint abided by \n",
      "Carbon constraint exists\n",
      "Yes, Carbon constraint abided by \n"
     ]
    }
   ],
   "source": [
    "BAU_no_flex_network_list = [BAU_no_flex_2020, BAU_no_flex_2030, BAU_no_flex_2040, BAU_no_flex_2050]\n",
    "network_list_summary(BAU_no_flex_network_list)\n"
   ]
  },
  {
   "cell_type": "code",
   "execution_count": 22,
   "id": "27ad7659",
   "metadata": {},
   "outputs": [
    {
     "data": {
      "text/html": [
       "<div>\n",
       "<style scoped>\n",
       "    .dataframe tbody tr th:only-of-type {\n",
       "        vertical-align: middle;\n",
       "    }\n",
       "\n",
       "    .dataframe tbody tr th {\n",
       "        vertical-align: top;\n",
       "    }\n",
       "\n",
       "    .dataframe thead th {\n",
       "        text-align: right;\n",
       "    }\n",
       "</style>\n",
       "<table border=\"1\" class=\"dataframe\">\n",
       "  <thead>\n",
       "    <tr style=\"text-align: right;\">\n",
       "      <th></th>\n",
       "      <th>BAU no flex</th>\n",
       "    </tr>\n",
       "  </thead>\n",
       "  <tbody>\n",
       "    <tr>\n",
       "      <th>2020</th>\n",
       "      <td>0.0</td>\n",
       "    </tr>\n",
       "    <tr>\n",
       "      <th>2030</th>\n",
       "      <td>0.0</td>\n",
       "    </tr>\n",
       "    <tr>\n",
       "      <th>2040</th>\n",
       "      <td>0.0</td>\n",
       "    </tr>\n",
       "    <tr>\n",
       "      <th>2050</th>\n",
       "      <td>0.0</td>\n",
       "    </tr>\n",
       "  </tbody>\n",
       "</table>\n",
       "</div>"
      ],
      "text/plain": [
       "      BAU no flex\n",
       "2020          0.0\n",
       "2030          0.0\n",
       "2040          0.0\n",
       "2050          0.0"
      ]
     },
     "execution_count": 22,
     "metadata": {},
     "output_type": "execute_result"
    }
   ],
   "source": [
    "#EV battery Size \n",
    "#comparison of BEV availability \n",
    "EV_store_size = pd.DataFrame()\n",
    "EV_store_size.index = [ 2030, 2040, 2050]\n",
    "EV_store_size['BAU no flex'] = [BAU_no_flex_network_list[1].stores[BAU_no_flex_network_list[1].stores.carrier == 'EV battery'].e_nom.sum(), BAU_no_flex_network_list[2].stores[BAU_no_flex_network_list[2].stores.carrier == 'EV battery'].e_nom.sum(), BAU_no_flex_network_list[3].stores[BAU_no_flex_network_list[3].stores.carrier == 'EV battery'].e_nom.sum()]\n",
    "EV_store_size\n",
    "\n",
    "#Additional Storage Cacpacity\n",
    "def add_heat_store_capacity(network):\n",
    "    return (network.stores[network.stores.index.str.contains('storage', case = False)].e_nom.sum())\n",
    "\n",
    "#additional_heating_water_storage\n",
    "additional_heating_water_storage = pd.DataFrame() #in MWH \n",
    "additional_heating_water_storage.index = [2020, 2030, 2040, 2050]\n",
    "additional_heating_water_storage['BAU no flex'] = [add_heat_store_capacity(s) for s in BAU_no_flex_network_list]\n",
    "additional_heating_water_storage"
   ]
  },
  {
   "cell_type": "code",
   "execution_count": 16,
   "id": "b750a449",
   "metadata": {},
   "outputs": [
    {
     "data": {
      "text/plain": [
       "Optimal Capacity              0.155530\n",
       "Installed Capacity            0.000000\n",
       "Supply                        7.540590\n",
       "Withdrawal                   17.536250\n",
       "Energy Balance               -9.995660\n",
       "Transmission                  0.000000\n",
       "Capacity Factor               0.012859\n",
       "Curtailment                   0.000000\n",
       "Capital Expenditure        3026.367570\n",
       "Operational Expenditure      83.682490\n",
       "Revenue                    2243.034300\n",
       "Market Value                297.732558\n",
       "Name: H2 turbine, dtype: float64"
      ]
     },
     "execution_count": 16,
     "metadata": {},
     "output_type": "execute_result"
    }
   ],
   "source": [
    "BAU_no_flex_2050.statistics().loc['Link'].loc['H2 turbine']"
   ]
  },
  {
   "cell_type": "code",
   "execution_count": null,
   "id": "20be7fd0",
   "metadata": {},
   "outputs": [
    {
     "name": "stdout",
     "output_type": "stream",
     "text": [
      "Renewable sum is : 6362553334.316126 \n",
      "Conventional sum is : 96615943.54531825\n"
     ]
    }
   ],
   "source": [
    "\n",
    "##Calculating renewable/conventional dispatch \n",
    "\n",
    "network = BAU_no_flex_2050\n",
    "renewables =  ['offwind-ac', 'offwind-dc', 'offwind-float', 'onwind', 'ror', 'solar', 'solar rooftop', 'solar-hsat', 'hydro']\n",
    "## didn't include PHS in renewables, it ultimately takes more from than it supplies -- is useful at certain times \n",
    "## nuclear and geothermal not considered, as considered low carbon rather than renewable\n",
    "conventionals = ['CCGT', 'OCGT', 'coal', 'lignite', 'oil', 'urban central CHP', 'urban central CHP CC', 'urban central solid biomass CHP', 'urban central solid biomass CHP CC']\n",
    "renewable_sum = pd.Series([electric_supply_from_the_sector_models(network)[key] for key in renewables]).sum()\n",
    "renewable_sum\n",
    "\n",
    "conventional_sum = pd.Series([electric_supply_from_the_sector_models(network)[key] for key in conventionals]).sum()\n",
    "conventional_sum\n",
    "\n",
    "print(f'Renewable sum is : {renewable_sum} \\nConventional sum is : {conventional_sum}')"
   ]
  },
  {
   "cell_type": "code",
   "execution_count": null,
   "id": "9a1d3d45",
   "metadata": {},
   "outputs": [
    {
     "data": {
      "text/html": [
       "<style type=\"text/css\">\n",
       "#T_e961d_row0_col0, #T_e961d_row1_col0, #T_e961d_row2_col1, #T_e961d_row3_col1 {\n",
       "  background-color: #67000d;\n",
       "  color: #f1f1f1;\n",
       "}\n",
       "#T_e961d_row0_col1, #T_e961d_row1_col1, #T_e961d_row2_col0, #T_e961d_row3_col0 {\n",
       "  background-color: #fff5f0;\n",
       "  color: #000000;\n",
       "}\n",
       "</style>\n",
       "<table id=\"T_e961d\">\n",
       "  <thead>\n",
       "    <tr>\n",
       "      <th class=\"blank level0\" >&nbsp;</th>\n",
       "      <th id=\"T_e961d_level0_col0\" class=\"col_heading level0 col0\" >BAU - no flex : wind</th>\n",
       "      <th id=\"T_e961d_level0_col1\" class=\"col_heading level0 col1\" >BAU - no flex : solar</th>\n",
       "    </tr>\n",
       "  </thead>\n",
       "  <tbody>\n",
       "    <tr>\n",
       "      <th id=\"T_e961d_level0_row0\" class=\"row_heading level0 row0\" >2020</th>\n",
       "      <td id=\"T_e961d_row0_col0\" class=\"data row0 col0\" >16.742801</td>\n",
       "      <td id=\"T_e961d_row0_col1\" class=\"data row0 col1\" >0.016843</td>\n",
       "    </tr>\n",
       "    <tr>\n",
       "      <th id=\"T_e961d_level0_row1\" class=\"row_heading level0 row1\" >2030</th>\n",
       "      <td id=\"T_e961d_row1_col0\" class=\"data row1 col0\" >7.211807</td>\n",
       "      <td id=\"T_e961d_row1_col1\" class=\"data row1 col1\" >0.907480</td>\n",
       "    </tr>\n",
       "    <tr>\n",
       "      <th id=\"T_e961d_level0_row2\" class=\"row_heading level0 row2\" >2040</th>\n",
       "      <td id=\"T_e961d_row2_col0\" class=\"data row2 col0\" >1.743001</td>\n",
       "      <td id=\"T_e961d_row2_col1\" class=\"data row2 col1\" >7.738854</td>\n",
       "    </tr>\n",
       "    <tr>\n",
       "      <th id=\"T_e961d_level0_row3\" class=\"row_heading level0 row3\" >2050</th>\n",
       "      <td id=\"T_e961d_row3_col0\" class=\"data row3 col0\" >0.549747</td>\n",
       "      <td id=\"T_e961d_row3_col1\" class=\"data row3 col1\" >1.778292</td>\n",
       "    </tr>\n",
       "  </tbody>\n",
       "</table>\n"
      ],
      "text/plain": [
       "<pandas.io.formats.style.Styler at 0x316d9eae0>"
      ]
     },
     "execution_count": 53,
     "metadata": {},
     "output_type": "execute_result"
    }
   ],
   "source": [
    "### Calculating Curtailment Fraction \n",
    "\n",
    "curtailment_dataframe = pd.DataFrame()\n",
    "curtailment_dataframe.index = [2020, 2030, 2040, 2050]\n",
    "curtailment_dataframe['BAU - no flex : wind'] = [curtailment_dataframe_calculation(s)['Curtailment Fraction (with respect to available power)'].loc[['offwind-ac', 'offwind-dc', 'offwind-float', 'onwind']].mean() for s in BAU_no_flex_network_list ]\n",
    "curtailment_dataframe['BAU - no flex : solar'] = [curtailment_dataframe_calculation(s)['Curtailment Fraction (with respect to available power)'].loc[['solar', 'solar rooftop', 'solar-hsat']].mean() for s in BAU_no_flex_network_list ]\n",
    "curtailment_dataframe['BAU - no flex : total (percentages for wind and solar)'] = [curtailment_dataframe_calculation(s)['Curtailment Fraction (with respect to available power)'].loc[['solar', 'solar rooftop', 'solar-hsat']].mean() for s in BAU_no_flex_network_list ]\n",
    "\n",
    "curtailment_dataframe.style.background_gradient(cmap = plt.cm.Reds, axis =1 )"
   ]
  },
  {
   "cell_type": "code",
   "execution_count": 380,
   "id": "cd89d089",
   "metadata": {},
   "outputs": [],
   "source": [
    "n = BAU_no_flex_2020\n",
    "#this function is the same as it is in the make_summary.py file (makes the cost csv in the reuslts folder, gives more description)\n",
    "#Ok this function might be double counting conventionals, because it is counting both the fuel supply for conventionals (coal, lignite, oil (not gas because it's listed differently)) and the marginal cost.  othe links that prepresent the power plants. \n",
    "#I think that it might be the case that the capcital cost of producing the raw material is passed onto the marginal cost of the technology that transforms raw material --> power, so I did this again just using statistics and not including orignal raw coal, lignite, and oil cost\n",
    "\n",
    "def electric_only_costs(network):\n",
    "    n = network.copy()\n",
    "    opt_name = {\"Store\": \"e\", \"Line\": \"s\", \"Transformer\": \"s\"}\n",
    "    capital_costs_grouped_dataframe = pd.Series()\n",
    "    marginal_costs_grouped_dataframe = pd.Series() \n",
    "    for c in n.iterate_components(\n",
    "            n.branch_components | n.controllable_one_port_components ^ {\"Load\"}\n",
    "        ):\n",
    "        capital_costs = c.df.capital_cost * c.df[opt_name.get(c.name, \"p\") + \"_nom_opt\"]\n",
    "        capital_costs_grouped = capital_costs.groupby(c.df.carrier).sum()\n",
    "        print(c.name)\n",
    "\n",
    "        if c.name == \"Link\":\n",
    "            p = c.pnl.p0.multiply(n.snapshot_weightings.generators, axis=0).sum()\n",
    "        elif c.name == \"Line\":\n",
    "            continue\n",
    "        elif c.name == \"StorageUnit\":\n",
    "            p_all = c.pnl.p.multiply(n.snapshot_weightings.generators, axis=0)\n",
    "            p_all[p_all < 0.0] = 0.0\n",
    "            p = p_all.sum()\n",
    "        else:\n",
    "            p = c.pnl.p.multiply(n.snapshot_weightings.generators, axis=0).sum()\n",
    "\n",
    "        # correct sequestration cost\n",
    "        if c.name == \"Store\":\n",
    "            items = c.df.index[\n",
    "                (c.df.carrier == \"co2 stored\") & (c.df.marginal_cost <= -100.0)\n",
    "            ]\n",
    "            c.df.loc[items, \"marginal_cost\"] = -20.0\n",
    "        \n",
    "        marginal_costs = p * c.df.marginal_cost\n",
    "        #print(marginal_costs)\n",
    "        marginal_costs_grouped = marginal_costs.groupby(c.df.carrier).sum()\n",
    "        \n",
    "        ##Eliminating the inclusion of the raw matieral supply for the conventional carriers, because I think that may be double counting and I want it to match gas...\n",
    "        if c.name == 'Generator':\n",
    "            conventionals = ['CCGT', 'OCGT', 'urban central CHP', 'urban central CHP CC', 'urban central solid biomass CHP', 'urban central solid biomass CHP CC']\n",
    "            marginal_costs_grouped = marginal_costs_grouped.drop(index = ['coal', 'lignite', 'oil'], errors = 'ignore')\n",
    "            capital_costs_grouped = capital_costs_grouped.drop(index = ['coal', 'lignite', 'oil'], errors = 'ignore')\n",
    "        else:\n",
    "            renewables =  ['offwind-ac', 'offwind-dc', 'offwind-float', 'onwind', 'ror', 'solar', 'solar rooftop', 'solar-hsat', 'hydro']\n",
    "            conventionals = ['CCGT', 'OCGT', 'coal', 'lignite', 'oil', 'urban central CHP', 'urban central CHP CC', 'urban central solid biomass CHP', 'urban central solid biomass CHP CC']\n",
    "            #conventional raw material supply has a captial expenditure of 0, only production technologies like a coal link or a CCGT link have capital expenditure\n",
    "            lines_and_link_costs = ['DC', 'battery charger', 'battery discharger', 'home battery charger', 'home battery discharger', 'rural air heat pump', 'rural biomass boiler', 'rural gas boiler',\n",
    "       'rural ground heat pump', 'rural resistive heater',\n",
    "       'rural water tanks charger', 'rural water tanks discharger', 'urban central air heat pump', 'urban central gas boiler',\n",
    "       'urban central resistive heater', 'urban central solid biomass CHP',\n",
    "       'urban central solid biomass CHP CC',\n",
    "       'urban central water tanks charger',\n",
    "       'urban central water tanks discharger', 'urban decentral air heat pump',\n",
    "       'urban decentral biomass boiler', 'urban decentral gas boiler',\n",
    "       'urban decentral oil boiler', 'urban decentral resistive heater',\n",
    "       'urban decentral water tanks charger',\n",
    "       'urban decentral water tanks discharger']\n",
    "\n",
    "        if c.name == \"Store\":\n",
    "            capital_costs_grouped_dataframe = capital_costs_grouped\n",
    "        else:\n",
    "            capital_costs_grouped_dataframe = pd.concat([capital_costs_grouped_dataframe, capital_costs_grouped])\n",
    "            #print(capital_costs_grouped_dataframe)    \n",
    "\n",
    "        if c.name == \"Store\":\n",
    "            marginal_costs_grouped_dataframe = marginal_costs_grouped\n",
    "            #print(marginal_costs_grouped_dataframe)\n",
    "        else:\n",
    "            marginal_costs_grouped_dataframe = pd.concat([marginal_costs_grouped_dataframe, marginal_costs_grouped])\n",
    "            #print(marginal_costs_grouped_dataframe)\n",
    "        \n",
    "    power_sector_components = renewables + conventionals + lines_and_link_costs\n",
    "    #filtering so it's just power sector components (so should not see 'gas')\n",
    "\n",
    "    capital_costs_grouped_dataframe_power = capital_costs_grouped_dataframe.loc[capital_costs_grouped_dataframe.index.intersection(power_sector_components)]\n",
    "    marginal_costs_grouped_dataframe_power = marginal_costs_grouped_dataframe.loc[capital_costs_grouped_dataframe.index.intersection(power_sector_components)]\n",
    "    try: \n",
    "        del total_costs\n",
    "    except:\n",
    "        pass\n",
    "    total_costs = marginal_costs_grouped_dataframe_power + capital_costs_grouped_dataframe_power\n",
    "    total_costs_power = total_costs.loc[capital_costs_grouped_dataframe.index.intersection(power_sector_components)]\n",
    "    return [capital_costs_grouped_dataframe_power, marginal_costs_grouped_dataframe_power, total_costs_power]"
   ]
  },
  {
   "cell_type": "code",
   "execution_count": 403,
   "id": "5d9850d0",
   "metadata": {},
   "outputs": [
    {
     "name": "stdout",
     "output_type": "stream",
     "text": [
      "Store\n",
      "Generator\n",
      "StorageUnit\n",
      "Line\n",
      "Link\n"
     ]
    },
    {
     "data": {
      "text/plain": [
       "'3.74e+02'"
      ]
     },
     "execution_count": 403,
     "metadata": {},
     "output_type": "execute_result"
    }
   ],
   "source": [
    "f'{(electric_only_costs(BAU_no_flex_2050)[2].sum()/ 1e9):.2e}' # This is the total cost in EUR, but only for one year I think... \n",
    "\n",
    "\n"
   ]
  },
  {
   "cell_type": "code",
   "execution_count": null,
   "id": "13560e6f",
   "metadata": {},
   "outputs": [
    {
     "name": "stdout",
     "output_type": "stream",
     "text": [
      "Store\n",
      "Generator\n",
      "StorageUnit\n",
      "Line\n",
      "Link\n",
      "True\n",
      "Store\n",
      "Generator\n",
      "StorageUnit\n",
      "Line\n",
      "Link\n",
      "True\n",
      "Store\n",
      "Generator\n",
      "StorageUnit\n",
      "Line\n",
      "Link\n",
      "True\n",
      "Store\n",
      "Generator\n",
      "StorageUnit\n",
      "Line\n",
      "Link\n",
      "False\n"
     ]
    }
   ],
   "source": [
    "# Check that it's less than the total objective costs\n",
    "print(electric_only_costs(BAU_no_flex_2020)[2].sum() < BAU_no_flex_2020.objective)\n",
    "print(electric_only_costs(BAU_no_flex_2030)[2].sum() < BAU_no_flex_2030.objective)\n",
    "print(electric_only_costs(BAU_no_flex_2040)[2].sum() < BAU_no_flex_2040.objective)\n",
    "print(electric_only_costs(BAU_no_flex_2050)[2].sum() < BAU_no_flex_2050.objective)"
   ]
  },
  {
   "cell_type": "markdown",
   "id": "af27cc90",
   "metadata": {},
   "source": [
    "#### BAU Max Flex"
   ]
  },
  {
   "cell_type": "code",
   "execution_count": 405,
   "id": "423ae801",
   "metadata": {},
   "outputs": [
    {
     "name": "stderr",
     "output_type": "stream",
     "text": [
      "INFO:pypsa.io:Imported network base_s_39___2020.nc has buses, carriers, generators, global_constraints, lines, links, loads, storage_units, stores\n",
      "INFO:pypsa.io:Imported network base_s_39___2030.nc has buses, carriers, generators, global_constraints, lines, links, loads, storage_units, stores\n",
      "INFO:pypsa.io:Imported network base_s_39___2040.nc has buses, carriers, generators, global_constraints, lines, links, loads, storage_units, stores\n",
      "INFO:pypsa.io:Imported network base_s_39___2050.nc has buses, carriers, generators, global_constraints, lines, links, loads, storage_units, stores\n"
     ]
    }
   ],
   "source": [
    "BAU_max_flex_2020 = pypsa.Network('/Users/katherine.shaw/Desktop/Third Run Results/BAU_max_flex/networks/base_s_39___2020.nc')\n",
    "BAU_max_flex_2030 = pypsa.Network('/Users/katherine.shaw/Desktop/Third Run Results/BAU_max_flex/networks/base_s_39___2030.nc')\n",
    "BAU_max_flex_2040 = pypsa.Network('/Users/katherine.shaw/Desktop/Third Run Results/BAU_max_flex/networks/base_s_39___2040.nc')\n",
    "BAU_max_flex_2050 = pypsa.Network('/Users/katherine.shaw/Desktop/Third Run Results/BAU_max_flex/networks/base_s_39___2050.nc')"
   ]
  },
  {
   "cell_type": "code",
   "execution_count": 406,
   "id": "832629f9",
   "metadata": {},
   "outputs": [],
   "source": [
    "BAU_max_flex_network_list = [BAU_max_flex_2020, BAU_max_flex_2030, BAU_max_flex_2040, BAU_max_flex_2050]"
   ]
  },
  {
   "cell_type": "markdown",
   "id": "dc36c19c",
   "metadata": {},
   "source": [
    "#### Checks and Validation"
   ]
  },
  {
   "cell_type": "code",
   "execution_count": 407,
   "id": "f88a2831",
   "metadata": {},
   "outputs": [
    {
     "name": "stdout",
     "output_type": "stream",
     "text": [
      "Carbon constraint exists\n",
      "Yes, Carbon constraint abided by \n",
      "No transmission limit\n",
      "Does a hydrogen limit exist?\n",
      "Yes\n",
      "\n",
      "does the hydrogen limit plus the installed capacity equal the limit in the configuration file?\n",
      "Yes, constraint working and abided by\n",
      "\n",
      "Does the Carbon sequestration limit exist?\n",
      "Yes\n",
      "does the carbon sequestration amount is equal to the BAU appropriate configuration value\n",
      "Yes\n",
      "\n",
      "Carbon constraint exists\n",
      "Yes, Carbon constraint abided by \n",
      "No transmission limit\n",
      "Does a hydrogen limit exist?\n",
      "Yes\n",
      "\n",
      "does the hydrogen limit plus the installed capacity equal the limit in the configuration file?\n",
      "Yes, constraint working and abided by\n",
      "\n",
      "Does the Carbon sequestration limit exist?\n",
      "Yes\n",
      "does the carbon sequestration amount is equal to the BAU appropriate configuration value\n",
      "Yes\n",
      "\n",
      "Carbon constraint exists\n",
      "Yes, Carbon constraint abided by \n",
      "No transmission limit\n",
      "Does a hydrogen limit exist?\n",
      "Yes\n",
      "\n",
      "does the hydrogen limit plus the installed capacity equal the limit in the configuration file?\n",
      "Yes, constraint working and abided by\n",
      "\n",
      "Does the Carbon sequestration limit exist?\n",
      "Yes\n",
      "does the carbon sequestration amount is equal to the BAU appropriate configuration value\n",
      "Yes\n",
      "\n",
      "Carbon constraint exists\n",
      "Yes, Carbon constraint abided by \n",
      "No transmission limit\n",
      "Does a hydrogen limit exist?\n",
      "Yes\n",
      "\n",
      "does the hydrogen limit plus the installed capacity equal the limit in the configuration file?\n",
      "Yes, constraint working and abided by\n",
      "\n",
      "Does the Carbon sequestration limit exist?\n",
      "Yes\n",
      "does the carbon sequestration amount is equal to the BAU appropriate configuration value\n",
      "Yes\n",
      "\n"
     ]
    }
   ],
   "source": [
    "#checks\n",
    "for i, network in enumerate(BAU_max_flex_network_list):\n",
    "    years = [2020, 2030, 2040, 2050]\n",
    "    carbon_constraint_check(network)\n",
    "    transmission_limit_test(network, years[i])\n",
    "    hydrogen_electrolysis_limit_test(network, years[i])\n",
    "    carbon_sequestration_limit_test(network, years[i])\n",
    "    \n"
   ]
  },
  {
   "cell_type": "code",
   "execution_count": 471,
   "id": "7f3942e1",
   "metadata": {},
   "outputs": [
    {
     "data": {
      "image/png": "[encoded data removed]",
      "text/plain": [
       "<Figure size 600x600 with 1 Axes>"
      ]
     },
     "metadata": {},
     "output_type": "display_data"
    }
   ],
   "source": [
    "import warnings\n",
    "# Suppress all deprecation warnings\n",
    "warnings.filterwarnings(\"ignore\", category=FutureWarning)\n",
    "\n",
    "df = combine_series_by_dictionary(historic_entsoe_2020.T.groupby(level=1).sum().sum(axis=1), pd.Series(electric_supply_from_the_sector_models(BAU_max_flex_2020)), matched_data_dictionary2 )\n",
    "fig, ax = plt.subplots(figsize=(6, 6))\n",
    "df = df / 1e6  # TWh\n",
    "df\n",
    "df.plot.barh(ax=ax, xlabel=\"Electricity Production [TWh]\", ylabel=\"\")\n",
    "ax.grid(axis=\"x\")\n",
    "plt.title('Total Generation for year 2020, Sector model to-electric power vs Entsoe-E Data, optimized scenario = base BAU')\n",
    "#fig.savefig(snakemake.output.production_bar, bbox_inches=\"tight\")\n",
    "plt.show()    "
   ]
  },
  {
   "cell_type": "code",
   "execution_count": 413,
   "id": "b1599f52",
   "metadata": {},
   "outputs": [
    {
     "data": {
      "text/html": [
       "<div>\n",
       "<style scoped>\n",
       "    .dataframe tbody tr th:only-of-type {\n",
       "        vertical-align: middle;\n",
       "    }\n",
       "\n",
       "    .dataframe tbody tr th {\n",
       "        vertical-align: top;\n",
       "    }\n",
       "\n",
       "    .dataframe thead th {\n",
       "        text-align: right;\n",
       "    }\n",
       "</style>\n",
       "<table border=\"1\" class=\"dataframe\">\n",
       "  <thead>\n",
       "    <tr style=\"text-align: right;\">\n",
       "      <th></th>\n",
       "      <th>BAU no flex</th>\n",
       "      <th>BAU max flex</th>\n",
       "    </tr>\n",
       "  </thead>\n",
       "  <tbody>\n",
       "    <tr>\n",
       "      <th>2030</th>\n",
       "      <td>0.0</td>\n",
       "      <td>3.942057e+06</td>\n",
       "    </tr>\n",
       "    <tr>\n",
       "      <th>2040</th>\n",
       "      <td>0.0</td>\n",
       "      <td>9.198133e+06</td>\n",
       "    </tr>\n",
       "    <tr>\n",
       "      <th>2050</th>\n",
       "      <td>0.0</td>\n",
       "      <td>1.314019e+07</td>\n",
       "    </tr>\n",
       "  </tbody>\n",
       "</table>\n",
       "</div>"
      ],
      "text/plain": [
       "      BAU no flex  BAU max flex\n",
       "2030          0.0  3.942057e+06\n",
       "2040          0.0  9.198133e+06\n",
       "2050          0.0  1.314019e+07"
      ]
     },
     "execution_count": 413,
     "metadata": {},
     "output_type": "execute_result"
    }
   ],
   "source": [
    "#EV battery Size \n",
    "#comparison of BEV availability \n",
    "EV_store_size = pd.DataFrame()\n",
    "EV_store_size.index = [ 2030, 2040, 2050]\n",
    "EV_store_size['BAU no flex'] = [BAU_no_flex_network_list[1].stores[BAU_no_flex_network_list[1].stores.carrier == 'EV battery'].e_nom.sum(), BAU_no_flex_network_list[2].stores[BAU_no_flex_network_list[2].stores.carrier == 'EV battery'].e_nom.sum(), BAU_no_flex_network_list[3].stores[BAU_no_flex_network_list[3].stores.carrier == 'EV battery'].e_nom.sum()]\n",
    "EV_store_size['BAU max flex'] = [BAU_max_flex_network_list[1].stores[BAU_max_flex_network_list[1].stores.carrier == 'EV battery'].e_nom.sum(), BAU_max_flex_network_list[2].stores[BAU_max_flex_network_list[2].stores.carrier == 'EV battery'].e_nom.sum(), BAU_max_flex_network_list[3].stores[BAU_max_flex_network_list[3].stores.carrier == 'EV battery'].e_nom.sum()]\n",
    "EV_store_size\n",
    "\n"
   ]
  },
  {
   "cell_type": "code",
   "execution_count": null,
   "id": "3697b194",
   "metadata": {},
   "outputs": [
    {
     "data": {
      "text/html": [
       "<div>\n",
       "<style scoped>\n",
       "    .dataframe tbody tr th:only-of-type {\n",
       "        vertical-align: middle;\n",
       "    }\n",
       "\n",
       "    .dataframe tbody tr th {\n",
       "        vertical-align: top;\n",
       "    }\n",
       "\n",
       "    .dataframe thead th {\n",
       "        text-align: right;\n",
       "    }\n",
       "</style>\n",
       "<table border=\"1\" class=\"dataframe\">\n",
       "  <thead>\n",
       "    <tr style=\"text-align: right;\">\n",
       "      <th></th>\n",
       "      <th>BAU no flex</th>\n",
       "      <th>BAU max flex</th>\n",
       "    </tr>\n",
       "  </thead>\n",
       "  <tbody>\n",
       "    <tr>\n",
       "      <th>2020</th>\n",
       "      <td>0.0</td>\n",
       "      <td>1800000.0</td>\n",
       "    </tr>\n",
       "    <tr>\n",
       "      <th>2030</th>\n",
       "      <td>0.0</td>\n",
       "      <td>1800000.0</td>\n",
       "    </tr>\n",
       "    <tr>\n",
       "      <th>2040</th>\n",
       "      <td>0.0</td>\n",
       "      <td>1800000.0</td>\n",
       "    </tr>\n",
       "    <tr>\n",
       "      <th>2050</th>\n",
       "      <td>0.0</td>\n",
       "      <td>1800000.0</td>\n",
       "    </tr>\n",
       "  </tbody>\n",
       "</table>\n",
       "</div>"
      ],
      "text/plain": [
       "      BAU no flex  BAU max flex\n",
       "2020          0.0     1800000.0\n",
       "2030          0.0     1800000.0\n",
       "2040          0.0     1800000.0\n",
       "2050          0.0     1800000.0"
      ]
     },
     "execution_count": 414,
     "metadata": {},
     "output_type": "execute_result"
    }
   ],
   "source": [
    "#EV battery Size \n",
    "#comparison of BEV availability \n",
    "EV_store_size = pd.DataFrame()\n",
    "EV_store_size.index = [ 2030, 2040, 2050]\n",
    "EV_store_size['BAU no flex'] = [BAU_no_flex_network_list[1].stores[BAU_no_flex_network_list[1].stores.carrier == 'EV battery'].e_nom.sum(), BAU_no_flex_network_list[2].stores[BAU_no_flex_network_list[2].stores.carrier == 'EV battery'].e_nom.sum(), BAU_no_flex_network_list[3].stores[BAU_no_flex_network_list[3].stores.carrier == 'EV battery'].e_nom.sum()]\n",
    "EV_store_size['BAU max flex'] = [BAU_max_flex_network_list[1].stores[BAU_max_flex_network_list[1].stores.carrier == 'EV battery'].e_nom.sum(), BAU_max_flex_network_list[2].stores[BAU_max_flex_network_list[2].stores.carrier == 'EV battery'].e_nom.sum(), BAU_max_flex_network_list[3].stores[BAU_max_flex_network_list[3].stores.carrier == 'EV battery'].e_nom.sum()]\n",
    "EV_store_size\n",
    "\n",
    "\n",
    "#Additional Storage Cacpacity\n",
    "def add_heat_store_capacity(network):\n",
    "    return (network.stores[network.stores.index.str.contains('storage', case = False)].e_nom.sum())\n",
    "\n",
    "#additional_heating_water_storage\n",
    "additional_heating_water_storage = pd.DataFrame() #in MWH \n",
    "additional_heating_water_storage.index = [2020, 2030, 2040, 2050]\n",
    "additional_heating_water_storage['BAU no flex'] = [add_heat_store_capacity(s) for s in BAU_no_flex_network_list]\n",
    "additional_heating_water_storage['BAU max flex'] = [add_heat_store_capacity(s) for s in BAU_max_flex_network_list]\n",
    "\n",
    "additional_heating_water_storage"
   ]
  },
  {
   "cell_type": "markdown",
   "id": "28a02fce",
   "metadata": {},
   "source": [
    "#### Calculating Metrics"
   ]
  },
  {
   "cell_type": "code",
   "execution_count": 461,
   "id": "0809c089",
   "metadata": {},
   "outputs": [
    {
     "name": "stdout",
     "output_type": "stream",
     "text": [
      "Renewable sum is : 2922042801.850488 \n",
      "Low Carbon sum is 855872487.5112711 \n",
      "Conventional sum is : 142078770.20217314\n"
     ]
    }
   ],
   "source": [
    "##Calculating renewable/conventional dispatch \n",
    "\n",
    "network = BAU_max_flex_2030\n",
    "renewables =  ['offwind-ac', 'offwind-dc', 'offwind-float', 'onwind', 'ror', 'solar', 'solar rooftop', 'solar-hsat', 'hydro', 'geothermal']\n",
    "low_carbon = ['nuclear', 'H2 turbine', 'H2 Fuel Cell', 'urban central solid biomass CHP', 'urban central solid biomass CHP CC']\n",
    "## didn't include PHS in renewables, it ultimately takes more from than it supplies -- is useful at certain times \n",
    "## nuclear and geothermal not considered, as considered low carbon rather than renewable\n",
    "conventionals = ['CCGT', 'OCGT', 'coal', 'lignite', 'oil', 'urban central CHP', 'urban central CHP CC']\n",
    "renewable_sum = pd.Series([electric_supply_from_the_sector_models(network)[key] for key in renewables]).sum()\n",
    "renewable_sum\n",
    "low_carbon_sum = pd.Series([electric_supply_from_the_sector_models(network)[key] for key in low_carbon]).sum()\n",
    "low_carbon_sum\n",
    "conventional_sum = pd.Series([electric_supply_from_the_sector_models(network)[key] for key in conventionals]).sum()\n",
    "conventional_sum\n",
    "\n",
    "print(f'Renewable sum is : {renewable_sum} \\nLow Carbon sum is {low_carbon_sum} \\nConventional sum is : {conventional_sum}')"
   ]
  },
  {
   "cell_type": "code",
   "execution_count": 447,
   "id": "98ee3d0c",
   "metadata": {},
   "outputs": [
    {
     "data": {
      "text/plain": [
       "{'offwind-ac': 150477824.84335747,\n",
       " 'offwind-dc': 61.28983011616529,\n",
       " 'offwind-float': 46.82000463104146,\n",
       " 'onwind': 460895673.963876,\n",
       " 'ror': 154379434.73824757,\n",
       " 'solar': 330427189.1874542,\n",
       " 'solar rooftop': 8121149.537867377,\n",
       " 'solar-hsat': 47765817.40023089,\n",
       " 'geothermal': 858477.9615636695,\n",
       " 'nuclear': 804120590.6381425,\n",
       " 'CCGT': 224000043.88895428,\n",
       " 'H2 Fuel Cell': 39.96551915321338,\n",
       " 'H2 turbine': 34.831480045832464,\n",
       " 'OCGT': 74.66786107488953,\n",
       " 'coal': 92795217.01314333,\n",
       " 'lignite': 530521298.5235206,\n",
       " 'oil': 18.05680851622934,\n",
       " 'urban central CHP': 82.77752349624919,\n",
       " 'urban central CHP CC': 58.0690548269311,\n",
       " 'urban central solid biomass CHP': 110196010.46353266,\n",
       " 'urban central solid biomass CHP CC': 33.605588979061594,\n",
       " 'PHS': -4430691.787429511,\n",
       " 'hydro': 311539621.47701365}"
      ]
     },
     "execution_count": 447,
     "metadata": {},
     "output_type": "execute_result"
    }
   ],
   "source": [
    "electric_supply_from_the_sector_models(BAU_max_flex_2020)"
   ]
  },
  {
   "cell_type": "code",
   "execution_count": 411,
   "id": "657bfe9a",
   "metadata": {},
   "outputs": [
    {
     "name": "stdout",
     "output_type": "stream",
     "text": [
      "Store\n",
      "Generator\n",
      "StorageUnit\n",
      "Line\n",
      "Link\n"
     ]
    },
    {
     "data": {
      "text/plain": [
       "364478586505.30457"
      ]
     },
     "execution_count": 411,
     "metadata": {},
     "output_type": "execute_result"
    }
   ],
   "source": [
    "#costs\n",
    "electric_only_costs(BAU_max_flex_2050)[2].sum()"
   ]
  },
  {
   "cell_type": "code",
   "execution_count": 462,
   "id": "f4df4d51",
   "metadata": {},
   "outputs": [
    {
     "name": "stdout",
     "output_type": "stream",
     "text": [
      "Store\n",
      "Generator\n",
      "StorageUnit\n",
      "Line\n",
      "Link\n",
      "True\n",
      "Store\n",
      "Generator\n",
      "StorageUnit\n",
      "Line\n",
      "Link\n",
      "True\n",
      "Store\n",
      "Generator\n",
      "StorageUnit\n",
      "Line\n",
      "Link\n",
      "True\n",
      "Store\n",
      "Generator\n",
      "StorageUnit\n",
      "Line\n",
      "Link\n",
      "False\n"
     ]
    }
   ],
   "source": [
    "# Check that it's less than the total objective costs\n",
    "print(electric_only_costs(BAU_max_flex_2020)[2].sum() < BAU_max_flex_2020.objective)\n",
    "print(electric_only_costs(BAU_max_flex_2030)[2].sum() < BAU_max_flex_2030.objective)\n",
    "print(electric_only_costs(BAU_max_flex_2040)[2].sum() < BAU_max_flex_2040.objective)\n",
    "print(electric_only_costs(BAU_max_flex_2050)[2].sum() < BAU_max_flex_2050.objective)"
   ]
  },
  {
   "cell_type": "markdown",
   "id": "8ed8175d",
   "metadata": {},
   "source": [
    "#### Investigate: WHY is this last one false : the electric costs are greater than the osts of the entire system? Is there a negative sector component somewhere that is bringing down the entire system costs? "
   ]
  },
  {
   "cell_type": "code",
   "execution_count": 468,
   "id": "d0f99cd2",
   "metadata": {},
   "outputs": [
    {
     "name": "stdout",
     "output_type": "stream",
     "text": [
      "Store\n",
      "Generator\n",
      "StorageUnit\n",
      "Line\n",
      "Link\n"
     ]
    },
    {
     "data": {
      "text/plain": [
       "364478586505.30457"
      ]
     },
     "execution_count": 468,
     "metadata": {},
     "output_type": "execute_result"
    }
   ],
   "source": [
    "electric_only_costs(BAU_max_flex_2050)[2].sum()"
   ]
  },
  {
   "cell_type": "code",
   "execution_count": 469,
   "id": "586323ab",
   "metadata": {},
   "outputs": [
    {
     "data": {
      "text/plain": [
       "120006765632.45126"
      ]
     },
     "execution_count": 469,
     "metadata": {},
     "output_type": "execute_result"
    }
   ],
   "source": [
    "BAU_max_flex_2050.objective"
   ]
  },
  {
   "cell_type": "markdown",
   "id": "6994464e",
   "metadata": {},
   "source": [
    "Curatilment Fraction"
   ]
  },
  {
   "cell_type": "code",
   "execution_count": null,
   "id": "31abf710",
   "metadata": {},
   "outputs": [
    {
     "data": {
      "text/html": [
       "<style type=\"text/css\">\n",
       "#T_0185a_row0_col0 {\n",
       "  background-color: #77040f;\n",
       "  color: #f1f1f1;\n",
       "}\n",
       "#T_0185a_row0_col1, #T_0185a_row1_col0, #T_0185a_row2_col2, #T_0185a_row2_col4, #T_0185a_row3_col1 {\n",
       "  background-color: #67000d;\n",
       "  color: #f1f1f1;\n",
       "}\n",
       "#T_0185a_row0_col2, #T_0185a_row0_col3, #T_0185a_row0_col4, #T_0185a_row1_col3, #T_0185a_row2_col0, #T_0185a_row3_col3 {\n",
       "  background-color: #fff5f0;\n",
       "  color: #000000;\n",
       "}\n",
       "#T_0185a_row1_col1 {\n",
       "  background-color: #860811;\n",
       "  color: #f1f1f1;\n",
       "}\n",
       "#T_0185a_row1_col2, #T_0185a_row1_col4 {\n",
       "  background-color: #fee3d6;\n",
       "  color: #000000;\n",
       "}\n",
       "#T_0185a_row2_col1 {\n",
       "  background-color: #cf1c1f;\n",
       "  color: #f1f1f1;\n",
       "}\n",
       "#T_0185a_row2_col3 {\n",
       "  background-color: #fc8f6f;\n",
       "  color: #000000;\n",
       "}\n",
       "#T_0185a_row3_col0 {\n",
       "  background-color: #ffeee7;\n",
       "  color: #000000;\n",
       "}\n",
       "#T_0185a_row3_col2, #T_0185a_row3_col4 {\n",
       "  background-color: #fdcab5;\n",
       "  color: #000000;\n",
       "}\n",
       "</style>\n",
       "<table id=\"T_0185a\">\n",
       "  <thead>\n",
       "    <tr>\n",
       "      <th class=\"blank level0\" >&nbsp;</th>\n",
       "      <th id=\"T_0185a_level0_col0\" class=\"col_heading level0 col0\" >BAU - no flex : wind</th>\n",
       "      <th id=\"T_0185a_level0_col1\" class=\"col_heading level0 col1\" >BAU - max flex : wind</th>\n",
       "      <th id=\"T_0185a_level0_col2\" class=\"col_heading level0 col2\" >BAU - no flex : solar</th>\n",
       "      <th id=\"T_0185a_level0_col3\" class=\"col_heading level0 col3\" >BAU - max flex : solar</th>\n",
       "      <th id=\"T_0185a_level0_col4\" class=\"col_heading level0 col4\" >BAU - no flex : total (percentages for wind and solar)</th>\n",
       "    </tr>\n",
       "  </thead>\n",
       "  <tbody>\n",
       "    <tr>\n",
       "      <th id=\"T_0185a_level0_row0\" class=\"row_heading level0 row0\" >2020</th>\n",
       "      <td id=\"T_0185a_row0_col0\" class=\"data row0 col0\" >16.742801</td>\n",
       "      <td id=\"T_0185a_row0_col1\" class=\"data row0 col1\" >17.287996</td>\n",
       "      <td id=\"T_0185a_row0_col2\" class=\"data row0 col2\" >0.016843</td>\n",
       "      <td id=\"T_0185a_row0_col3\" class=\"data row0 col3\" >0.011824</td>\n",
       "      <td id=\"T_0185a_row0_col4\" class=\"data row0 col4\" >0.016843</td>\n",
       "    </tr>\n",
       "    <tr>\n",
       "      <th id=\"T_0185a_level0_row1\" class=\"row_heading level0 row1\" >2030</th>\n",
       "      <td id=\"T_0185a_row1_col0\" class=\"data row1 col0\" >7.211807</td>\n",
       "      <td id=\"T_0185a_row1_col1\" class=\"data row1 col1\" >6.745177</td>\n",
       "      <td id=\"T_0185a_row1_col2\" class=\"data row1 col2\" >0.907480</td>\n",
       "      <td id=\"T_0185a_row1_col3\" class=\"data row1 col3\" >0.126353</td>\n",
       "      <td id=\"T_0185a_row1_col4\" class=\"data row1 col4\" >0.907480</td>\n",
       "    </tr>\n",
       "    <tr>\n",
       "      <th id=\"T_0185a_level0_row2\" class=\"row_heading level0 row2\" >2040</th>\n",
       "      <td id=\"T_0185a_row2_col0\" class=\"data row2 col0\" >1.743001</td>\n",
       "      <td id=\"T_0185a_row2_col1\" class=\"data row2 col1\" >6.155229</td>\n",
       "      <td id=\"T_0185a_row2_col2\" class=\"data row2 col2\" >7.738854</td>\n",
       "      <td id=\"T_0185a_row2_col3\" class=\"data row2 col3\" >4.045214</td>\n",
       "      <td id=\"T_0185a_row2_col4\" class=\"data row2 col4\" >7.738854</td>\n",
       "    </tr>\n",
       "    <tr>\n",
       "      <th id=\"T_0185a_level0_row3\" class=\"row_heading level0 row3\" >2050</th>\n",
       "      <td id=\"T_0185a_row3_col0\" class=\"data row3 col0\" >0.549747</td>\n",
       "      <td id=\"T_0185a_row3_col1\" class=\"data row3 col1\" >7.828315</td>\n",
       "      <td id=\"T_0185a_row3_col2\" class=\"data row3 col2\" >1.778292</td>\n",
       "      <td id=\"T_0185a_row3_col3\" class=\"data row3 col3\" >0.244707</td>\n",
       "      <td id=\"T_0185a_row3_col4\" class=\"data row3 col4\" >1.778292</td>\n",
       "    </tr>\n",
       "  </tbody>\n",
       "</table>\n"
      ],
      "text/plain": [
       "<pandas.io.formats.style.Styler at 0x31d5d4cb0>"
      ]
     },
     "execution_count": 472,
     "metadata": {},
     "output_type": "execute_result"
    }
   ],
   "source": [
    "### Calculating Curtailment Fraction \n",
    "\n",
    "curtailment_dataframe = pd.DataFrame()\n",
    "curtailment_dataframe.index = [2020, 2030, 2040, 2050]\n",
    "curtailment_dataframe['BAU - no flex : wind'] = [curtailment_dataframe_calculation(s)['Curtailment Fraction (with respect to available power)'].loc[['offwind-ac', 'offwind-dc', 'offwind-float', 'onwind']].mean() for s in BAU_no_flex_network_list ]\n",
    "curtailment_dataframe['BAU - max flex : wind'] = [curtailment_dataframe_calculation(s)['Curtailment Fraction (with respect to available power)'].loc[['offwind-ac', 'offwind-dc', 'offwind-float', 'onwind']].mean() for s in BAU_max_flex_network_list ]\n",
    "\n",
    "curtailment_dataframe['BAU - no flex : solar'] = [curtailment_dataframe_calculation(s)['Curtailment Fraction (with respect to available power)'].loc[['solar', 'solar rooftop', 'solar-hsat']].mean() for s in BAU_no_flex_network_list ]\n",
    "curtailment_dataframe['BAU - max flex : solar'] = [curtailment_dataframe_calculation(s)['Curtailment Fraction (with respect to available power)'].loc[['solar', 'solar rooftop', 'solar-hsat']].mean() for s in BAU_max_flex_network_list ]\n",
    "\n",
    "\n",
    "\n",
    "curtailment_dataframe.style.background_gradient(cmap = plt.cm.Reds, axis =1 )"
   ]
  },
  {
   "cell_type": "code",
   "execution_count": 474,
   "id": "975f0166",
   "metadata": {},
   "outputs": [
    {
     "data": {
      "text/html": [
       "<style type=\"text/css\">\n",
       "#T_5eced_row0_col0, #T_5eced_row1_col0, #T_5eced_row2_col0, #T_5eced_row3_col0 {\n",
       "  background-color: #67000d;\n",
       "  color: #f1f1f1;\n",
       "}\n",
       "#T_5eced_row0_col1 {\n",
       "  background-color: #71020e;\n",
       "  color: #f1f1f1;\n",
       "}\n",
       "#T_5eced_row0_col2 {\n",
       "  background-color: #fff4ef;\n",
       "  color: #000000;\n",
       "}\n",
       "#T_5eced_row0_col3, #T_5eced_row1_col3, #T_5eced_row2_col3, #T_5eced_row3_col3 {\n",
       "  background-color: #fff5f0;\n",
       "  color: #000000;\n",
       "}\n",
       "#T_5eced_row1_col1 {\n",
       "  background-color: #f6553c;\n",
       "  color: #f1f1f1;\n",
       "}\n",
       "#T_5eced_row1_col2 {\n",
       "  background-color: #b31218;\n",
       "  color: #f1f1f1;\n",
       "}\n",
       "#T_5eced_row2_col1 {\n",
       "  background-color: #fc9879;\n",
       "  color: #000000;\n",
       "}\n",
       "#T_5eced_row2_col2 {\n",
       "  background-color: #e43027;\n",
       "  color: #f1f1f1;\n",
       "}\n",
       "#T_5eced_row3_col1 {\n",
       "  background-color: #f96346;\n",
       "  color: #f1f1f1;\n",
       "}\n",
       "#T_5eced_row3_col2 {\n",
       "  background-color: #fb6c4c;\n",
       "  color: #f1f1f1;\n",
       "}\n",
       "</style>\n",
       "<table id=\"T_5eced\">\n",
       "  <thead>\n",
       "    <tr>\n",
       "      <th class=\"blank level0\" >&nbsp;</th>\n",
       "      <th id=\"T_5eced_level0_col0\" class=\"col_heading level0 col0\" >BAU - no flex : wind</th>\n",
       "      <th id=\"T_5eced_level0_col1\" class=\"col_heading level0 col1\" >BAU - max flex : wind</th>\n",
       "      <th id=\"T_5eced_level0_col2\" class=\"col_heading level0 col2\" >BAU - no flex : solar</th>\n",
       "      <th id=\"T_5eced_level0_col3\" class=\"col_heading level0 col3\" >BAU - max flex : solar</th>\n",
       "    </tr>\n",
       "  </thead>\n",
       "  <tbody>\n",
       "    <tr>\n",
       "      <th id=\"T_5eced_level0_row0\" class=\"row_heading level0 row0\" >2020</th>\n",
       "      <td id=\"T_5eced_row0_col0\" class=\"data row0 col0\" >2453434.933246</td>\n",
       "      <td id=\"T_5eced_row0_col1\" class=\"data row0 col1\" >2403292.889663</td>\n",
       "      <td id=\"T_5eced_row0_col2\" class=\"data row0 col2\" >55266.784946</td>\n",
       "      <td id=\"T_5eced_row0_col3\" class=\"data row0 col3\" >38601.740758</td>\n",
       "    </tr>\n",
       "    <tr>\n",
       "      <th id=\"T_5eced_level0_row1\" class=\"row_heading level0 row1\" >2030</th>\n",
       "      <td id=\"T_5eced_row1_col0\" class=\"data row1 col0\" >3771201.053732</td>\n",
       "      <td id=\"T_5eced_row1_col1\" class=\"data row1 col1\" >2287633.563732</td>\n",
       "      <td id=\"T_5eced_row1_col2\" class=\"data row1 col2\" >3194058.147169</td>\n",
       "      <td id=\"T_5eced_row1_col3\" class=\"data row1 col3\" >418331.635547</td>\n",
       "    </tr>\n",
       "    <tr>\n",
       "      <th id=\"T_5eced_level0_row2\" class=\"row_heading level0 row2\" >2040</th>\n",
       "      <td id=\"T_5eced_row2_col0\" class=\"data row2 col0\" >29731986.101996</td>\n",
       "      <td id=\"T_5eced_row2_col1\" class=\"data row2 col1\" >18431453.569543</td>\n",
       "      <td id=\"T_5eced_row2_col2\" class=\"data row2 col2\" >23797822.157786</td>\n",
       "      <td id=\"T_5eced_row2_col3\" class=\"data row2 col3\" >12183167.126809</td>\n",
       "    </tr>\n",
       "    <tr>\n",
       "      <th id=\"T_5eced_level0_row3\" class=\"row_heading level0 row3\" >2050</th>\n",
       "      <td id=\"T_5eced_row3_col0\" class=\"data row3 col0\" >9624480.093133</td>\n",
       "      <td id=\"T_5eced_row3_col1\" class=\"data row3 col1\" >5452285.825166</td>\n",
       "      <td id=\"T_5eced_row3_col2\" class=\"data row3 col2\" >5237383.670905</td>\n",
       "      <td id=\"T_5eced_row3_col3\" class=\"data row3 col3\" >971481.833709</td>\n",
       "    </tr>\n",
       "  </tbody>\n",
       "</table>\n"
      ],
      "text/plain": [
       "<pandas.io.formats.style.Styler at 0x31a20b1d0>"
      ]
     },
     "execution_count": 474,
     "metadata": {},
     "output_type": "execute_result"
    }
   ],
   "source": [
    "### Calculating Curtailment Fraction \n",
    "\n",
    "curtailment_dataframe = pd.DataFrame()\n",
    "curtailment_dataframe.index = [2020, 2030, 2040, 2050]\n",
    "curtailment_dataframe['BAU - no flex : wind'] = [curtailment_dataframe_calculation(s)['Curtailment in MWh'].loc[['offwind-ac', 'offwind-dc', 'offwind-float', 'onwind']].mean() for s in BAU_no_flex_network_list ]\n",
    "curtailment_dataframe['BAU - max flex : wind'] = [curtailment_dataframe_calculation(s)['Curtailment in MWh'].loc[['offwind-ac', 'offwind-dc', 'offwind-float', 'onwind']].mean() for s in BAU_max_flex_network_list ]\n",
    "\n",
    "curtailment_dataframe['BAU - no flex : solar'] = [curtailment_dataframe_calculation(s)['Curtailment in MWh'].loc[['solar', 'solar rooftop', 'solar-hsat']].mean() for s in BAU_no_flex_network_list ]\n",
    "curtailment_dataframe['BAU - max flex : solar'] = [curtailment_dataframe_calculation(s)['Curtailment in MWh'].loc[['solar', 'solar rooftop', 'solar-hsat']].mean() for s in BAU_max_flex_network_list ]\n",
    "\n",
    "curtailment_dataframe.style.background_gradient(cmap = plt.cm.Reds, axis =1 )"
   ]
  },
  {
   "cell_type": "markdown",
   "id": "abdf755d",
   "metadata": {},
   "source": [
    "# Transmission Restriction -- c3.0"
   ]
  },
  {
   "cell_type": "code",
   "execution_count": 500,
   "id": "2e6e5425",
   "metadata": {},
   "outputs": [
    {
     "name": "stderr",
     "output_type": "stream",
     "text": [
      "INFO:pypsa.io:Imported network base_s_39___2020.nc has buses, carriers, generators, global_constraints, lines, links, loads, storage_units, stores\n",
      "INFO:pypsa.io:Imported network base_s_39___2030.nc has buses, carriers, generators, global_constraints, lines, links, loads, storage_units, stores\n",
      "INFO:pypsa.io:Imported network base_s_39___2040.nc has buses, carriers, generators, global_constraints, lines, links, loads, storage_units, stores\n",
      "INFO:pypsa.io:Imported network base_s_39___2050.nc has buses, carriers, generators, global_constraints, lines, links, loads, storage_units, stores\n"
     ]
    }
   ],
   "source": [
    "transmission_restriction_no_flex_2020 = pypsa.Network('/Users/katherine.shaw/Desktop/Third Run Results/Transmission Restriction c3.0 - no flex/networks/base_s_39___2020.nc')\n",
    "transmission_restriction_no_flex_2030 = pypsa.Network('/Users/katherine.shaw/Desktop/Third Run Results/Transmission Restriction c3.0 - no flex/networks/base_s_39___2030.nc')\n",
    "transmission_restriction_no_flex_2040 = pypsa.Network('/Users/katherine.shaw/Desktop/Third Run Results/Transmission Restriction c3.0 - no flex/networks/base_s_39___2040.nc')\n",
    "transmission_restriction_no_flex_2050 = pypsa.Network('/Users/katherine.shaw/Desktop/Third Run Results/Transmission Restriction c3.0 - no flex/networks/base_s_39___2050.nc')"
   ]
  },
  {
   "cell_type": "code",
   "execution_count": 482,
   "id": "52865d81",
   "metadata": {},
   "outputs": [
    {
     "name": "stderr",
     "output_type": "stream",
     "text": [
      "INFO:pypsa.io:Imported network base_s_39___2020.nc has buses, carriers, generators, global_constraints, lines, links, loads, storage_units, stores\n",
      "INFO:pypsa.io:Imported network base_s_39___2030.nc has buses, carriers, generators, global_constraints, lines, links, loads, storage_units, stores\n",
      "INFO:pypsa.io:Imported network base_s_39___2040.nc has buses, carriers, generators, global_constraints, lines, links, loads, storage_units, stores\n",
      "INFO:pypsa.io:Imported network base_s_39___2050.nc has buses, carriers, generators, global_constraints, lines, links, loads, storage_units, stores\n"
     ]
    }
   ],
   "source": [
    "transmission_restriction_max_flex_2020 = pypsa.Network('/Users/katherine.shaw/Desktop/Third Run Results/Transmission_restriction_c3.0_max_flex/networks/base_s_39___2020.nc')\n",
    "transmission_restriction_max_flex_2030 = pypsa.Network('/Users/katherine.shaw/Desktop/Third Run Results/Transmission_restriction_c3.0_max_flex/networks/base_s_39___2030.nc')\n",
    "transmission_restriction_max_flex_2040 = pypsa.Network('/Users/katherine.shaw/Desktop/Third Run Results/Transmission_restriction_c3.0_max_flex/networks/base_s_39___2040.nc')\n",
    "transmission_restriction_max_flex_2050 = pypsa.Network('/Users/katherine.shaw/Desktop/Third Run Results/Transmission_restriction_c3.0_max_flex/networks/base_s_39___2050.nc')"
   ]
  },
  {
   "cell_type": "code",
   "execution_count": 477,
   "id": "79b3da1a",
   "metadata": {},
   "outputs": [],
   "source": [
    "Transmission_restriction_no_flex_network_list = [transmission_restriction_no_flex_2020, transmission_restriction_no_flex_2030, transmission_restriction_no_flex_2040, transmission_restriction_no_flex_2050 ]"
   ]
  },
  {
   "cell_type": "code",
   "execution_count": 483,
   "id": "1950eef8",
   "metadata": {},
   "outputs": [],
   "source": [
    "Transmission_restriction_max_flex_network_list = [transmission_restriction_max_flex_2020, transmission_restriction_max_flex_2030, transmission_restriction_max_flex_2040, transmission_restriction_max_flex_2050 ]"
   ]
  },
  {
   "cell_type": "markdown",
   "id": "0e922c60",
   "metadata": {},
   "source": [
    "### Validation and Checks"
   ]
  },
  {
   "cell_type": "code",
   "execution_count": 484,
   "id": "86d42ded",
   "metadata": {},
   "outputs": [
    {
     "name": "stdout",
     "output_type": "stream",
     "text": [
      "Carbon constraint exists\n",
      "Yes, Carbon constraint abided by \n",
      "Yes, transmission limit exists\n",
      "Does a hydrogen limit exist?\n",
      "Yes\n",
      "\n",
      "does the hydrogen limit plus the installed capacity equal the limit in the configuration file?\n",
      "Yes, constraint working and abided by\n",
      "\n",
      "Does the Carbon sequestration limit exist?\n",
      "Yes\n",
      "does the carbon sequestration amount is equal to the BAU appropriate configuration value\n",
      "Yes\n",
      "\n",
      "Carbon constraint exists\n",
      "Yes, Carbon constraint abided by \n",
      "Yes, transmission limit exists\n",
      "Does a hydrogen limit exist?\n",
      "Yes\n",
      "\n",
      "does the hydrogen limit plus the installed capacity equal the limit in the configuration file?\n",
      "Yes, constraint working and abided by\n",
      "\n",
      "Does the Carbon sequestration limit exist?\n",
      "Yes\n",
      "does the carbon sequestration amount is equal to the BAU appropriate configuration value\n",
      "Yes\n",
      "\n",
      "Carbon constraint exists\n",
      "Yes, Carbon constraint abided by \n",
      "Yes, transmission limit exists\n",
      "Does a hydrogen limit exist?\n",
      "Yes\n",
      "\n",
      "does the hydrogen limit plus the installed capacity equal the limit in the configuration file?\n",
      "Yes, constraint working and abided by\n",
      "\n",
      "Does the Carbon sequestration limit exist?\n",
      "Yes\n",
      "does the carbon sequestration amount is equal to the BAU appropriate configuration value\n",
      "Yes\n",
      "\n",
      "Carbon constraint exists\n",
      "Yes, Carbon constraint abided by \n",
      "Yes, transmission limit exists\n",
      "Does a hydrogen limit exist?\n",
      "Yes\n",
      "\n",
      "does the hydrogen limit plus the installed capacity equal the limit in the configuration file?\n",
      "Yes, constraint working and abided by\n",
      "\n",
      "Does the Carbon sequestration limit exist?\n",
      "Yes\n",
      "does the carbon sequestration amount is equal to the BAU appropriate configuration value\n",
      "Yes\n",
      "\n"
     ]
    }
   ],
   "source": [
    "#checks\n",
    "for i, network in enumerate(Transmission_restriction_no_flex_network_list):\n",
    "    years = [2020, 2030, 2040, 2050]\n",
    "    carbon_constraint_check(network)\n",
    "    transmission_limit_test(network, years[i])\n",
    "    hydrogen_electrolysis_limit_test(network, years[i])\n",
    "    carbon_sequestration_limit_test(network, years[i])\n",
    "    \n"
   ]
  },
  {
   "cell_type": "code",
   "execution_count": 485,
   "id": "22ad49fa",
   "metadata": {},
   "outputs": [
    {
     "name": "stdout",
     "output_type": "stream",
     "text": [
      "Carbon constraint exists\n",
      "Yes, Carbon constraint abided by \n",
      "Yes, transmission limit exists\n",
      "Does a hydrogen limit exist?\n",
      "Yes\n",
      "\n",
      "does the hydrogen limit plus the installed capacity equal the limit in the configuration file?\n",
      "Yes, constraint working and abided by\n",
      "\n",
      "Does the Carbon sequestration limit exist?\n",
      "Yes\n",
      "does the carbon sequestration amount is equal to the BAU appropriate configuration value\n",
      "Yes\n",
      "\n",
      "Carbon constraint exists\n",
      "Yes, Carbon constraint abided by \n",
      "Yes, transmission limit exists\n",
      "Does a hydrogen limit exist?\n",
      "Yes\n",
      "\n",
      "does the hydrogen limit plus the installed capacity equal the limit in the configuration file?\n",
      "Yes, constraint working and abided by\n",
      "\n",
      "Does the Carbon sequestration limit exist?\n",
      "Yes\n",
      "does the carbon sequestration amount is equal to the BAU appropriate configuration value\n",
      "Yes\n",
      "\n",
      "Carbon constraint exists\n",
      "Yes, Carbon constraint abided by \n",
      "Yes, transmission limit exists\n",
      "Does a hydrogen limit exist?\n",
      "Yes\n",
      "\n",
      "does the hydrogen limit plus the installed capacity equal the limit in the configuration file?\n",
      "Yes, constraint working and abided by\n",
      "\n",
      "Does the Carbon sequestration limit exist?\n",
      "Yes\n",
      "does the carbon sequestration amount is equal to the BAU appropriate configuration value\n",
      "Yes\n",
      "\n",
      "Carbon constraint exists\n",
      "Yes, Carbon constraint abided by \n",
      "Yes, transmission limit exists\n",
      "Does a hydrogen limit exist?\n",
      "Yes\n",
      "\n",
      "does the hydrogen limit plus the installed capacity equal the limit in the configuration file?\n",
      "Yes, constraint working and abided by\n",
      "\n",
      "Does the Carbon sequestration limit exist?\n",
      "Yes\n",
      "does the carbon sequestration amount is equal to the BAU appropriate configuration value\n",
      "Yes\n",
      "\n"
     ]
    }
   ],
   "source": [
    "#checks\n",
    "for i, network in enumerate(Transmission_restriction_max_flex_network_list):\n",
    "    years = [2020, 2030, 2040, 2050]\n",
    "    carbon_constraint_check(network)\n",
    "    transmission_limit_test(network, years[i])\n",
    "    hydrogen_electrolysis_limit_test(network, years[i])\n",
    "    carbon_sequestration_limit_test(network, years[i])\n",
    "    "
   ]
  },
  {
   "cell_type": "code",
   "execution_count": 486,
   "id": "c2ce72f5",
   "metadata": {},
   "outputs": [
    {
     "data": {
      "text/html": [
       "<div>\n",
       "<style scoped>\n",
       "    .dataframe tbody tr th:only-of-type {\n",
       "        vertical-align: middle;\n",
       "    }\n",
       "\n",
       "    .dataframe tbody tr th {\n",
       "        vertical-align: top;\n",
       "    }\n",
       "\n",
       "    .dataframe thead th {\n",
       "        text-align: right;\n",
       "    }\n",
       "</style>\n",
       "<table border=\"1\" class=\"dataframe\">\n",
       "  <thead>\n",
       "    <tr style=\"text-align: right;\">\n",
       "      <th></th>\n",
       "      <th>TX no flex</th>\n",
       "      <th>TX max flex</th>\n",
       "    </tr>\n",
       "  </thead>\n",
       "  <tbody>\n",
       "    <tr>\n",
       "      <th>2030</th>\n",
       "      <td>0.0</td>\n",
       "      <td>3.942057e+06</td>\n",
       "    </tr>\n",
       "    <tr>\n",
       "      <th>2040</th>\n",
       "      <td>0.0</td>\n",
       "      <td>9.198133e+06</td>\n",
       "    </tr>\n",
       "    <tr>\n",
       "      <th>2050</th>\n",
       "      <td>0.0</td>\n",
       "      <td>1.314019e+07</td>\n",
       "    </tr>\n",
       "  </tbody>\n",
       "</table>\n",
       "</div>"
      ],
      "text/plain": [
       "      TX no flex   TX max flex\n",
       "2030         0.0  3.942057e+06\n",
       "2040         0.0  9.198133e+06\n",
       "2050         0.0  1.314019e+07"
      ]
     },
     "execution_count": 486,
     "metadata": {},
     "output_type": "execute_result"
    }
   ],
   "source": [
    "#EV battery Size \n",
    "#comparison of BEV availability \n",
    "EV_store_size = pd.DataFrame()\n",
    "EV_store_size.index = [ 2030, 2040, 2050]\n",
    "EV_store_size['TX no flex'] = [Transmission_restriction_no_flex_network_list[1].stores[Transmission_restriction_no_flex_network_list[1].stores.carrier == 'EV battery'].e_nom.sum(), Transmission_restriction_no_flex_network_list[2].stores[Transmission_restriction_no_flex_network_list[2].stores.carrier == 'EV battery'].e_nom.sum(), Transmission_restriction_no_flex_network_list[3].stores[Transmission_restriction_no_flex_network_list[3].stores.carrier == 'EV battery'].e_nom.sum()]\n",
    "EV_store_size['TX max flex'] = [Transmission_restriction_max_flex_network_list[1].stores[Transmission_restriction_max_flex_network_list[1].stores.carrier == 'EV battery'].e_nom.sum(), Transmission_restriction_max_flex_network_list[2].stores[Transmission_restriction_max_flex_network_list[2].stores.carrier == 'EV battery'].e_nom.sum(), Transmission_restriction_max_flex_network_list[3].stores[Transmission_restriction_max_flex_network_list[3].stores.carrier == 'EV battery'].e_nom.sum()]\n",
    "\n",
    "EV_store_size\n"
   ]
  },
  {
   "cell_type": "code",
   "execution_count": 487,
   "id": "6005bb89",
   "metadata": {},
   "outputs": [
    {
     "data": {
      "text/html": [
       "<div>\n",
       "<style scoped>\n",
       "    .dataframe tbody tr th:only-of-type {\n",
       "        vertical-align: middle;\n",
       "    }\n",
       "\n",
       "    .dataframe tbody tr th {\n",
       "        vertical-align: top;\n",
       "    }\n",
       "\n",
       "    .dataframe thead th {\n",
       "        text-align: right;\n",
       "    }\n",
       "</style>\n",
       "<table border=\"1\" class=\"dataframe\">\n",
       "  <thead>\n",
       "    <tr style=\"text-align: right;\">\n",
       "      <th></th>\n",
       "      <th>TX no flex</th>\n",
       "      <th>TX max flex</th>\n",
       "    </tr>\n",
       "  </thead>\n",
       "  <tbody>\n",
       "    <tr>\n",
       "      <th>2020</th>\n",
       "      <td>0.0</td>\n",
       "      <td>1800000.0</td>\n",
       "    </tr>\n",
       "    <tr>\n",
       "      <th>2030</th>\n",
       "      <td>0.0</td>\n",
       "      <td>1800000.0</td>\n",
       "    </tr>\n",
       "    <tr>\n",
       "      <th>2040</th>\n",
       "      <td>0.0</td>\n",
       "      <td>1800000.0</td>\n",
       "    </tr>\n",
       "    <tr>\n",
       "      <th>2050</th>\n",
       "      <td>0.0</td>\n",
       "      <td>1800000.0</td>\n",
       "    </tr>\n",
       "  </tbody>\n",
       "</table>\n",
       "</div>"
      ],
      "text/plain": [
       "      TX no flex  TX max flex\n",
       "2020         0.0    1800000.0\n",
       "2030         0.0    1800000.0\n",
       "2040         0.0    1800000.0\n",
       "2050         0.0    1800000.0"
      ]
     },
     "execution_count": 487,
     "metadata": {},
     "output_type": "execute_result"
    }
   ],
   "source": [
    "\n",
    "#Additional Storage Cacpacity\n",
    "def add_heat_store_capacity(network):\n",
    "    return (network.stores[network.stores.index.str.contains('storage', case = False)].e_nom.sum())\n",
    "\n",
    "#additional_heating_water_storage\n",
    "additional_heating_water_storage = pd.DataFrame() #in MWH \n",
    "additional_heating_water_storage.index = [2020, 2030, 2040, 2050]\n",
    "additional_heating_water_storage['TX no flex'] = [add_heat_store_capacity(s) for s in Transmission_restriction_no_flex_network_list]\n",
    "additional_heating_water_storage['TX max flex'] = [add_heat_store_capacity(s) for s in Transmission_restriction_max_flex_network_list]\n",
    "\n",
    "additional_heating_water_storage"
   ]
  },
  {
   "cell_type": "markdown",
   "id": "815d2265",
   "metadata": {},
   "source": [
    "### Network Metrics"
   ]
  },
  {
   "cell_type": "code",
   "execution_count": 512,
   "id": "edcb3390",
   "metadata": {},
   "outputs": [
    {
     "name": "stdout",
     "output_type": "stream",
     "text": [
      "Store\n",
      "Generator\n",
      "StorageUnit\n",
      "Line\n",
      "Link\n"
     ]
    },
    {
     "data": {
      "text/plain": [
       "364971924267.6619"
      ]
     },
     "execution_count": 512,
     "metadata": {},
     "output_type": "execute_result"
    }
   ],
   "source": [
    "#costs\n",
    "electric_only_costs(transmission_restriction_max_flex_2050)[2].sum()"
   ]
  },
  {
   "cell_type": "code",
   "execution_count": 501,
   "id": "f8cca3b2",
   "metadata": {},
   "outputs": [
    {
     "name": "stdout",
     "output_type": "stream",
     "text": [
      "Renewable sum is : 6363727471.036514 \n",
      "Low Carbon sum is 760127895.3551923 \n",
      "Conventional sum is : 88246645.98120551\n"
     ]
    }
   ],
   "source": [
    "##Calculating renewable/conventional dispatch \n",
    "\n",
    "network = transmission_restriction_no_flex_2050\n",
    "renewables =  ['offwind-ac', 'offwind-dc', 'offwind-float', 'onwind', 'ror', 'solar', 'solar rooftop', 'solar-hsat', 'hydro', 'geothermal']\n",
    "low_carbon = ['nuclear', 'H2 turbine', 'H2 Fuel Cell', 'urban central solid biomass CHP', 'urban central solid biomass CHP CC']\n",
    "## didn't include PHS in renewables, it ultimately takes more from than it supplies -- is useful at certain times \n",
    "## nuclear and geothermal not considered, as considered low carbon rather than renewable\n",
    "conventionals = ['CCGT', 'OCGT', 'coal', 'lignite', 'oil', 'urban central CHP', 'urban central CHP CC']\n",
    "renewable_sum = pd.Series([electric_supply_from_the_sector_models(network)[key] for key in renewables]).sum()\n",
    "renewable_sum\n",
    "low_carbon_sum = pd.Series([electric_supply_from_the_sector_models(network)[key] for key in low_carbon]).sum()\n",
    "low_carbon_sum\n",
    "conventional_sum = pd.Series([electric_supply_from_the_sector_models(network)[key] for key in conventionals]).sum()\n",
    "conventional_sum\n",
    "\n",
    "print(f'Renewable sum is : {renewable_sum} \\nLow Carbon sum is {low_carbon_sum} \\nConventional sum is : {conventional_sum}')"
   ]
  },
  {
   "cell_type": "code",
   "execution_count": null,
   "id": "2434ec2e",
   "metadata": {},
   "outputs": [
    {
     "name": "stdout",
     "output_type": "stream",
     "text": [
      "Store\n",
      "Generator\n",
      "StorageUnit\n",
      "Line\n",
      "Link\n",
      "True\n",
      "Store\n",
      "Generator\n",
      "StorageUnit\n",
      "Line\n",
      "Link\n",
      "True\n",
      "Store\n",
      "Generator\n",
      "StorageUnit\n",
      "Line\n",
      "Link\n",
      "True\n",
      "Store\n",
      "Generator\n",
      "StorageUnit\n",
      "Line\n",
      "Link\n",
      "False\n"
     ]
    }
   ],
   "source": [
    "# Check that it's less than the total objective costs\n",
    "print(electric_only_costs(transmission_restriction_no_flex_2050)[2].sum() < transmission_restriction_max_flex_2020.objective)\n",
    "print(electric_only_costs(transmission_restriction_no_flex_2020)[2].sum() < transmission_restriction_max_flex_2030.objective)\n",
    "print(electric_only_costs(transmission_restriction_no_flex_2030)[2].sum() < transmission_restriction_max_flex_2040.objective)\n",
    "print(electric_only_costs(transmission_restriction_no_flex_2040)[2].sum() < transmission_restriction_max_flex_2050.objective)"
   ]
  },
  {
   "cell_type": "markdown",
   "id": "38621f26",
   "metadata": {},
   "source": [
    "# The last cost inequality is also False : WHAT IS DRIVING THE PRICE UP OR DOWN TO MAKE THAT HAPPEN?\n"
   ]
  },
  {
   "cell_type": "markdown",
   "id": "85cb3d5d",
   "metadata": {},
   "source": [
    "Curtailment "
   ]
  },
  {
   "cell_type": "code",
   "execution_count": 503,
   "id": "bfde2155",
   "metadata": {},
   "outputs": [
    {
     "data": {
      "text/html": [
       "<style type=\"text/css\">\n",
       "#T_641c9_row0_col0 {\n",
       "  background-color: #69000d;\n",
       "  color: #f1f1f1;\n",
       "}\n",
       "#T_641c9_row0_col1, #T_641c9_row1_col1, #T_641c9_row2_col2, #T_641c9_row3_col2 {\n",
       "  background-color: #67000d;\n",
       "  color: #f1f1f1;\n",
       "}\n",
       "#T_641c9_row0_col2, #T_641c9_row0_col3, #T_641c9_row1_col3, #T_641c9_row2_col0, #T_641c9_row3_col3 {\n",
       "  background-color: #fff5f0;\n",
       "  color: #000000;\n",
       "}\n",
       "#T_641c9_row1_col0, #T_641c9_row3_col1 {\n",
       "  background-color: #6d010e;\n",
       "  color: #f1f1f1;\n",
       "}\n",
       "#T_641c9_row1_col2 {\n",
       "  background-color: #fee3d7;\n",
       "  color: #000000;\n",
       "}\n",
       "#T_641c9_row2_col1 {\n",
       "  background-color: #ef3c2c;\n",
       "  color: #f1f1f1;\n",
       "}\n",
       "#T_641c9_row2_col3 {\n",
       "  background-color: #fdc5ae;\n",
       "  color: #000000;\n",
       "}\n",
       "#T_641c9_row3_col0 {\n",
       "  background-color: #fcb99f;\n",
       "  color: #000000;\n",
       "}\n",
       "</style>\n",
       "<table id=\"T_641c9\">\n",
       "  <thead>\n",
       "    <tr>\n",
       "      <th class=\"blank level0\" >&nbsp;</th>\n",
       "      <th id=\"T_641c9_level0_col0\" class=\"col_heading level0 col0\" >TX - no flex : wind</th>\n",
       "      <th id=\"T_641c9_level0_col1\" class=\"col_heading level0 col1\" >TX - max flex : wind</th>\n",
       "      <th id=\"T_641c9_level0_col2\" class=\"col_heading level0 col2\" >TX - no flex : solar</th>\n",
       "      <th id=\"T_641c9_level0_col3\" class=\"col_heading level0 col3\" >TX - max flex : solar</th>\n",
       "    </tr>\n",
       "  </thead>\n",
       "  <tbody>\n",
       "    <tr>\n",
       "      <th id=\"T_641c9_level0_row0\" class=\"row_heading level0 row0\" >2020</th>\n",
       "      <td id=\"T_641c9_row0_col0\" class=\"data row0 col0\" >16.945104</td>\n",
       "      <td id=\"T_641c9_row0_col1\" class=\"data row0 col1\" >17.054213</td>\n",
       "      <td id=\"T_641c9_row0_col2\" class=\"data row0 col2\" >0.016612</td>\n",
       "      <td id=\"T_641c9_row0_col3\" class=\"data row0 col3\" >0.011265</td>\n",
       "    </tr>\n",
       "    <tr>\n",
       "      <th id=\"T_641c9_level0_row1\" class=\"row_heading level0 row1\" >2030</th>\n",
       "      <td id=\"T_641c9_row1_col0\" class=\"data row1 col0\" >6.291993</td>\n",
       "      <td id=\"T_641c9_row1_col1\" class=\"data row1 col1\" >6.385465</td>\n",
       "      <td id=\"T_641c9_row1_col2\" class=\"data row1 col2\" >0.791847</td>\n",
       "      <td id=\"T_641c9_row1_col3\" class=\"data row1 col3\" >0.126961</td>\n",
       "    </tr>\n",
       "    <tr>\n",
       "      <th id=\"T_641c9_level0_row2\" class=\"row_heading level0 row2\" >2040</th>\n",
       "      <td id=\"T_641c9_row2_col0\" class=\"data row2 col0\" >2.175313</td>\n",
       "      <td id=\"T_641c9_row2_col1\" class=\"data row2 col1\" >5.867549</td>\n",
       "      <td id=\"T_641c9_row2_col2\" class=\"data row2 col2\" >8.092411</td>\n",
       "      <td id=\"T_641c9_row2_col3\" class=\"data row2 col3\" >3.463743</td>\n",
       "    </tr>\n",
       "    <tr>\n",
       "      <th id=\"T_641c9_level0_row3\" class=\"row_heading level0 row3\" >2050</th>\n",
       "      <td id=\"T_641c9_row3_col0\" class=\"data row3 col0\" >2.175313</td>\n",
       "      <td id=\"T_641c9_row3_col1\" class=\"data row3 col1\" >7.990391</td>\n",
       "      <td id=\"T_641c9_row3_col2\" class=\"data row3 col2\" >8.092411</td>\n",
       "      <td id=\"T_641c9_row3_col3\" class=\"data row3 col3\" >0.154047</td>\n",
       "    </tr>\n",
       "  </tbody>\n",
       "</table>\n"
      ],
      "text/plain": [
       "<pandas.io.formats.style.Styler at 0x31ef30a10>"
      ]
     },
     "execution_count": 503,
     "metadata": {},
     "output_type": "execute_result"
    }
   ],
   "source": [
    "### Calculating Curtailment Fraction \n",
    "\n",
    "curtailment_dataframe = pd.DataFrame()\n",
    "curtailment_dataframe.index = [2020, 2030, 2040, 2050]\n",
    "curtailment_dataframe['TX - no flex : wind'] = [curtailment_dataframe_calculation(s)['Curtailment Fraction (with respect to available power)'].loc[['offwind-ac', 'offwind-dc', 'offwind-float', 'onwind']].mean() for s in Transmission_restriction_no_flex_network_list ]\n",
    "curtailment_dataframe['TX - max flex : wind'] = [curtailment_dataframe_calculation(s)['Curtailment Fraction (with respect to available power)'].loc[['offwind-ac', 'offwind-dc', 'offwind-float', 'onwind']].mean() for s in Transmission_restriction_max_flex_network_list ]\n",
    "\n",
    "curtailment_dataframe['TX - no flex : solar'] = [curtailment_dataframe_calculation(s)['Curtailment Fraction (with respect to available power)'].loc[['solar', 'solar rooftop', 'solar-hsat']].mean() for s in Transmission_restriction_no_flex_network_list ]\n",
    "curtailment_dataframe['TX - max flex : solar'] = [curtailment_dataframe_calculation(s)['Curtailment Fraction (with respect to available power)'].loc[['solar', 'solar rooftop', 'solar-hsat']].mean() for s in Transmission_restriction_max_flex_network_list ]\n",
    "\n",
    "curtailment_dataframe.style.background_gradient(cmap = plt.cm.Reds, axis =1 )"
   ]
  },
  {
   "cell_type": "code",
   "execution_count": 504,
   "id": "038cf11f",
   "metadata": {},
   "outputs": [
    {
     "data": {
      "text/html": [
       "<style type=\"text/css\">\n",
       "#T_aacad_row0_col0, #T_aacad_row1_col0, #T_aacad_row2_col0, #T_aacad_row3_col0 {\n",
       "  background-color: #67000d;\n",
       "  color: #f1f1f1;\n",
       "}\n",
       "#T_aacad_row0_col1 {\n",
       "  background-color: #71020e;\n",
       "  color: #f1f1f1;\n",
       "}\n",
       "#T_aacad_row0_col2 {\n",
       "  background-color: #fff4ef;\n",
       "  color: #000000;\n",
       "}\n",
       "#T_aacad_row0_col3, #T_aacad_row1_col3, #T_aacad_row2_col3, #T_aacad_row3_col3 {\n",
       "  background-color: #fff5f0;\n",
       "  color: #000000;\n",
       "}\n",
       "#T_aacad_row1_col1 {\n",
       "  background-color: #f6553c;\n",
       "  color: #f1f1f1;\n",
       "}\n",
       "#T_aacad_row1_col2 {\n",
       "  background-color: #b31218;\n",
       "  color: #f1f1f1;\n",
       "}\n",
       "#T_aacad_row2_col1 {\n",
       "  background-color: #fc9879;\n",
       "  color: #000000;\n",
       "}\n",
       "#T_aacad_row2_col2 {\n",
       "  background-color: #e43027;\n",
       "  color: #f1f1f1;\n",
       "}\n",
       "#T_aacad_row3_col1 {\n",
       "  background-color: #f96346;\n",
       "  color: #f1f1f1;\n",
       "}\n",
       "#T_aacad_row3_col2 {\n",
       "  background-color: #fb6c4c;\n",
       "  color: #f1f1f1;\n",
       "}\n",
       "</style>\n",
       "<table id=\"T_aacad\">\n",
       "  <thead>\n",
       "    <tr>\n",
       "      <th class=\"blank level0\" >&nbsp;</th>\n",
       "      <th id=\"T_aacad_level0_col0\" class=\"col_heading level0 col0\" >BAU - no flex : wind</th>\n",
       "      <th id=\"T_aacad_level0_col1\" class=\"col_heading level0 col1\" >BAU - max flex : wind</th>\n",
       "      <th id=\"T_aacad_level0_col2\" class=\"col_heading level0 col2\" >BAU - no flex : solar</th>\n",
       "      <th id=\"T_aacad_level0_col3\" class=\"col_heading level0 col3\" >BAU - max flex : solar</th>\n",
       "    </tr>\n",
       "  </thead>\n",
       "  <tbody>\n",
       "    <tr>\n",
       "      <th id=\"T_aacad_level0_row0\" class=\"row_heading level0 row0\" >2020</th>\n",
       "      <td id=\"T_aacad_row0_col0\" class=\"data row0 col0\" >2453434.933246</td>\n",
       "      <td id=\"T_aacad_row0_col1\" class=\"data row0 col1\" >2403292.889663</td>\n",
       "      <td id=\"T_aacad_row0_col2\" class=\"data row0 col2\" >55266.784946</td>\n",
       "      <td id=\"T_aacad_row0_col3\" class=\"data row0 col3\" >38601.740758</td>\n",
       "    </tr>\n",
       "    <tr>\n",
       "      <th id=\"T_aacad_level0_row1\" class=\"row_heading level0 row1\" >2030</th>\n",
       "      <td id=\"T_aacad_row1_col0\" class=\"data row1 col0\" >3771201.053732</td>\n",
       "      <td id=\"T_aacad_row1_col1\" class=\"data row1 col1\" >2287633.563732</td>\n",
       "      <td id=\"T_aacad_row1_col2\" class=\"data row1 col2\" >3194058.147169</td>\n",
       "      <td id=\"T_aacad_row1_col3\" class=\"data row1 col3\" >418331.635547</td>\n",
       "    </tr>\n",
       "    <tr>\n",
       "      <th id=\"T_aacad_level0_row2\" class=\"row_heading level0 row2\" >2040</th>\n",
       "      <td id=\"T_aacad_row2_col0\" class=\"data row2 col0\" >29731986.101996</td>\n",
       "      <td id=\"T_aacad_row2_col1\" class=\"data row2 col1\" >18431453.569543</td>\n",
       "      <td id=\"T_aacad_row2_col2\" class=\"data row2 col2\" >23797822.157786</td>\n",
       "      <td id=\"T_aacad_row2_col3\" class=\"data row2 col3\" >12183167.126809</td>\n",
       "    </tr>\n",
       "    <tr>\n",
       "      <th id=\"T_aacad_level0_row3\" class=\"row_heading level0 row3\" >2050</th>\n",
       "      <td id=\"T_aacad_row3_col0\" class=\"data row3 col0\" >9624480.093133</td>\n",
       "      <td id=\"T_aacad_row3_col1\" class=\"data row3 col1\" >5452285.825166</td>\n",
       "      <td id=\"T_aacad_row3_col2\" class=\"data row3 col2\" >5237383.670905</td>\n",
       "      <td id=\"T_aacad_row3_col3\" class=\"data row3 col3\" >971481.833709</td>\n",
       "    </tr>\n",
       "  </tbody>\n",
       "</table>\n"
      ],
      "text/plain": [
       "<pandas.io.formats.style.Styler at 0x31d6879e0>"
      ]
     },
     "execution_count": 504,
     "metadata": {},
     "output_type": "execute_result"
    }
   ],
   "source": [
    "### Calculating Curtailment Fraction \n",
    "\n",
    "curtailment_dataframe = pd.DataFrame()\n",
    "curtailment_dataframe.index = [2020, 2030, 2040, 2050]\n",
    "curtailment_dataframe['BAU - no flex : wind'] = [curtailment_dataframe_calculation(s)['Curtailment in MWh'].loc[['offwind-ac', 'offwind-dc', 'offwind-float', 'onwind']].mean() for s in BAU_no_flex_network_list ]\n",
    "curtailment_dataframe['BAU - max flex : wind'] = [curtailment_dataframe_calculation(s)['Curtailment in MWh'].loc[['offwind-ac', 'offwind-dc', 'offwind-float', 'onwind']].mean() for s in BAU_max_flex_network_list ]\n",
    "\n",
    "curtailment_dataframe['BAU - no flex : solar'] = [curtailment_dataframe_calculation(s)['Curtailment in MWh'].loc[['solar', 'solar rooftop', 'solar-hsat']].mean() for s in BAU_no_flex_network_list ]\n",
    "curtailment_dataframe['BAU - max flex : solar'] = [curtailment_dataframe_calculation(s)['Curtailment in MWh'].loc[['solar', 'solar rooftop', 'solar-hsat']].mean() for s in BAU_max_flex_network_list ]\n",
    "\n",
    "curtailment_dataframe.style.background_gradient(cmap = plt.cm.Reds, axis =1 )"
   ]
  },
  {
   "cell_type": "markdown",
   "id": "8c724dbd",
   "metadata": {},
   "source": [
    "# Hydrogen Minimums"
   ]
  },
  {
   "cell_type": "code",
   "execution_count": 429,
   "id": "08bd7b64",
   "metadata": {},
   "outputs": [
    {
     "name": "stderr",
     "output_type": "stream",
     "text": [
      "INFO:pypsa.io:Imported network base_s_39___2020.nc has buses, carriers, generators, global_constraints, lines, links, loads, storage_units, stores\n",
      "INFO:pypsa.io:Imported network base_s_39___2030.nc has buses, carriers, generators, global_constraints, lines, links, loads, storage_units, stores\n",
      "INFO:pypsa.io:Imported network base_s_39___2040.nc has buses, carriers, generators, global_constraints, lines, links, loads, storage_units, stores\n",
      "INFO:pypsa.io:Imported network base_s_39___2050.nc has buses, carriers, generators, global_constraints, lines, links, loads, storage_units, stores\n"
     ]
    }
   ],
   "source": [
    "hydrogen_minums_no_flex_2020 = pypsa.Network('/Users/katherine.shaw/Desktop/Third Run Results/Hydrogen_mins_no_flex/networks/base_s_39___2020.nc')\n",
    "hydrogen_minums_no_flex_2030 = pypsa.Network('/Users/katherine.shaw/Desktop/Third Run Results/Hydrogen_mins_no_flex/networks/base_s_39___2030.nc')\n",
    "hydrogen_minums_no_flex_2040 = pypsa.Network('/Users/katherine.shaw/Desktop/Third Run Results/Hydrogen_mins_no_flex/networks/base_s_39___2040.nc')\n",
    "hydrogen_minums_no_flex_2050 = pypsa.Network('/Users/katherine.shaw/Desktop/Third Run Results/Hydrogen_mins_no_flex/networks/base_s_39___2050.nc')"
   ]
  },
  {
   "cell_type": "code",
   "execution_count": 435,
   "id": "ca537fb4",
   "metadata": {},
   "outputs": [
    {
     "name": "stderr",
     "output_type": "stream",
     "text": [
      "INFO:pypsa.io:Imported network base_s_39___2020.nc has buses, carriers, generators, global_constraints, lines, links, loads, storage_units, stores\n",
      "INFO:pypsa.io:Imported network base_s_39___2030.nc has buses, carriers, generators, global_constraints, lines, links, loads, storage_units, stores\n",
      "INFO:pypsa.io:Imported network base_s_39___2040.nc has buses, carriers, generators, global_constraints, lines, links, loads, storage_units, stores\n",
      "INFO:pypsa.io:Imported network base_s_39___2050.nc has buses, carriers, generators, global_constraints, lines, links, loads, storage_units, stores\n"
     ]
    }
   ],
   "source": [
    "hydrogen_minimums_max_flex_2020 = pypsa.Network('/Users/katherine.shaw/Desktop/Third Run Results/Hydrogen_minimums_max_flex/networks/base_s_39___2020.nc')\n",
    "hydrogen_minimums_max_flex_2030 = pypsa.Network('/Users/katherine.shaw/Desktop/Third Run Results/Hydrogen_minimums_max_flex/networks/base_s_39___2030.nc')\n",
    "hydrogen_minimums_max_flex_2040 = pypsa.Network('/Users/katherine.shaw/Desktop/Third Run Results/Hydrogen_minimums_max_flex/networks/base_s_39___2040.nc')\n",
    "hydrogen_minimums_max_flex_2050 = pypsa.Network('/Users/katherine.shaw/Desktop/Third Run Results/Hydrogen_minimums_max_flex/networks/base_s_39___2050.nc')"
   ]
  },
  {
   "cell_type": "code",
   "execution_count": 513,
   "id": "baf3ea52",
   "metadata": {},
   "outputs": [],
   "source": [
    "hydrogen_minimums_no_flex_network_list = [hydrogen_minums_no_flex_2020, hydrogen_minums_no_flex_2030, hydrogen_minums_no_flex_2040, hydrogen_minums_no_flex_2050 ]\n",
    "hdyrogen_minimums_max_flex_network_list = [hydrogen_minimums_max_flex_2020, hydrogen_minimums_max_flex_2030, hydrogen_minimums_max_flex_2040, hydrogen_minimums_max_flex_2050 ]"
   ]
  },
  {
   "cell_type": "code",
   "execution_count": 514,
   "id": "a9080ed0",
   "metadata": {},
   "outputs": [
    {
     "name": "stdout",
     "output_type": "stream",
     "text": [
      "Carbon constraint exists\n",
      "Yes, Carbon constraint abided by \n",
      "No transmission limit\n",
      "Does a hydrogen limit exist?\n",
      "Yes\n",
      "\n",
      "does the hydrogen limit plus the installed capacity equal the limit in the configuration file?\n",
      "Yes, constraint working and abided by\n",
      "\n",
      "Does the Carbon sequestration limit exist?\n",
      "Yes\n",
      "does the carbon sequestration amount is equal to the BAU appropriate configuration value\n",
      "Yes\n",
      "\n",
      "Carbon constraint exists\n",
      "Yes, Carbon constraint abided by \n",
      "No transmission limit\n",
      "Does a hydrogen limit exist?\n",
      "Yes\n",
      "\n",
      "does the hydrogen limit plus the installed capacity equal the limit in the configuration file?\n",
      "Yes, constraint working and abided by\n",
      "\n",
      "Does the Carbon sequestration limit exist?\n",
      "Yes\n",
      "does the carbon sequestration amount is equal to the BAU appropriate configuration value\n",
      "Yes\n",
      "\n",
      "Carbon constraint exists\n",
      "Yes, Carbon constraint abided by \n",
      "No transmission limit\n",
      "Does a hydrogen limit exist?\n",
      "Yes\n",
      "\n",
      "does the hydrogen limit plus the installed capacity equal the limit in the configuration file?\n",
      "Yes, constraint working and abided by\n",
      "\n",
      "Does the Carbon sequestration limit exist?\n",
      "Yes\n",
      "does the carbon sequestration amount is equal to the BAU appropriate configuration value\n",
      "Yes\n",
      "\n",
      "Carbon constraint exists\n",
      "Yes, Carbon constraint abided by \n",
      "No transmission limit\n",
      "Does a hydrogen limit exist?\n",
      "Yes\n",
      "\n",
      "does the hydrogen limit plus the installed capacity equal the limit in the configuration file?\n",
      "Yes, constraint working and abided by\n",
      "\n",
      "Does the Carbon sequestration limit exist?\n",
      "Yes\n",
      "does the carbon sequestration amount is equal to the BAU appropriate configuration value\n",
      "Yes\n",
      "\n"
     ]
    }
   ],
   "source": [
    "#checks\n",
    "for i, network in enumerate(hydrogen_minimums_no_flex_network_list):\n",
    "    years = [2020, 2030, 2040, 2050]\n",
    "    carbon_constraint_check(network)\n",
    "    transmission_limit_test(network, years[i])\n",
    "    hydrogen_electrolysis_limit_test(network, years[i])\n",
    "    carbon_sequestration_limit_test(network, years[i])\n",
    "    "
   ]
  },
  {
   "cell_type": "code",
   "execution_count": 516,
   "id": "b90686e1",
   "metadata": {},
   "outputs": [
    {
     "name": "stdout",
     "output_type": "stream",
     "text": [
      "Carbon constraint exists\n",
      "Yes, Carbon constraint abided by \n",
      "No transmission limit\n",
      "Does a hydrogen limit exist?\n",
      "Yes\n",
      "\n",
      "does the hydrogen limit plus the installed capacity equal the limit in the configuration file?\n",
      "Yes, constraint working and abided by\n",
      "\n",
      "Does the Carbon sequestration limit exist?\n",
      "Yes\n",
      "does the carbon sequestration amount is equal to the BAU appropriate configuration value\n",
      "Yes\n",
      "\n",
      "Carbon constraint exists\n",
      "Yes, Carbon constraint abided by \n",
      "No transmission limit\n",
      "Does a hydrogen limit exist?\n",
      "Yes\n",
      "\n",
      "does the hydrogen limit plus the installed capacity equal the limit in the configuration file?\n",
      "Yes, constraint working and abided by\n",
      "\n",
      "Does the Carbon sequestration limit exist?\n",
      "Yes\n",
      "does the carbon sequestration amount is equal to the BAU appropriate configuration value\n",
      "Yes\n",
      "\n",
      "Carbon constraint exists\n",
      "Yes, Carbon constraint abided by \n",
      "No transmission limit\n",
      "Does a hydrogen limit exist?\n",
      "Yes\n",
      "\n",
      "does the hydrogen limit plus the installed capacity equal the limit in the configuration file?\n",
      "Yes, constraint working and abided by\n",
      "\n",
      "Does the Carbon sequestration limit exist?\n",
      "Yes\n",
      "does the carbon sequestration amount is equal to the BAU appropriate configuration value\n",
      "Yes\n",
      "\n",
      "Carbon constraint exists\n",
      "Yes, Carbon constraint abided by \n",
      "No transmission limit\n",
      "Does a hydrogen limit exist?\n",
      "Yes\n",
      "\n",
      "does the hydrogen limit plus the installed capacity equal the limit in the configuration file?\n",
      "Yes, constraint working and abided by\n",
      "\n",
      "Does the Carbon sequestration limit exist?\n",
      "Yes\n",
      "does the carbon sequestration amount is equal to the BAU appropriate configuration value\n",
      "Yes\n",
      "\n"
     ]
    }
   ],
   "source": [
    "#checks\n",
    "for i, network in enumerate(hdyrogen_minimums_max_flex_network_list):\n",
    "    years = [2020, 2030, 2040, 2050]\n",
    "    carbon_constraint_check(network)\n",
    "    transmission_limit_test(network, years[i])\n",
    "    hydrogen_electrolysis_limit_test(network, years[i])\n",
    "    carbon_sequestration_limit_test(network, years[i])"
   ]
  },
  {
   "cell_type": "code",
   "execution_count": 517,
   "id": "bb916311",
   "metadata": {},
   "outputs": [
    {
     "data": {
      "text/html": [
       "<div>\n",
       "<style scoped>\n",
       "    .dataframe tbody tr th:only-of-type {\n",
       "        vertical-align: middle;\n",
       "    }\n",
       "\n",
       "    .dataframe tbody tr th {\n",
       "        vertical-align: top;\n",
       "    }\n",
       "\n",
       "    .dataframe thead th {\n",
       "        text-align: right;\n",
       "    }\n",
       "</style>\n",
       "<table border=\"1\" class=\"dataframe\">\n",
       "  <thead>\n",
       "    <tr style=\"text-align: right;\">\n",
       "      <th></th>\n",
       "      <th>EV no flex</th>\n",
       "      <th>EV max flex</th>\n",
       "    </tr>\n",
       "  </thead>\n",
       "  <tbody>\n",
       "    <tr>\n",
       "      <th>2030</th>\n",
       "      <td>0.0</td>\n",
       "      <td>3.942057e+06</td>\n",
       "    </tr>\n",
       "    <tr>\n",
       "      <th>2040</th>\n",
       "      <td>0.0</td>\n",
       "      <td>9.198133e+06</td>\n",
       "    </tr>\n",
       "    <tr>\n",
       "      <th>2050</th>\n",
       "      <td>0.0</td>\n",
       "      <td>1.314019e+07</td>\n",
       "    </tr>\n",
       "  </tbody>\n",
       "</table>\n",
       "</div>"
      ],
      "text/plain": [
       "      EV no flex   EV max flex\n",
       "2030         0.0  3.942057e+06\n",
       "2040         0.0  9.198133e+06\n",
       "2050         0.0  1.314019e+07"
      ]
     },
     "execution_count": 517,
     "metadata": {},
     "output_type": "execute_result"
    }
   ],
   "source": [
    "#EV battery Size \n",
    "#comparison of BEV availability \n",
    "EV_store_size = pd.DataFrame()\n",
    "EV_store_size.index = [ 2030, 2040, 2050]\n",
    "EV_store_size['EV no flex'] = [hydrogen_minimums_no_flex_network_list[1].stores[hydrogen_minimums_no_flex_network_list[1].stores.carrier == 'EV battery'].e_nom.sum(), hydrogen_minimums_no_flex_network_list[2].stores[hydrogen_minimums_no_flex_network_list[2].stores.carrier == 'EV battery'].e_nom.sum(), hydrogen_minimums_no_flex_network_list[3].stores[hydrogen_minimums_no_flex_network_list[3].stores.carrier == 'EV battery'].e_nom.sum()]\n",
    "EV_store_size['EV max flex'] = [hdyrogen_minimums_max_flex_network_list[1].stores[hdyrogen_minimums_max_flex_network_list[1].stores.carrier == 'EV battery'].e_nom.sum(), hdyrogen_minimums_max_flex_network_list[2].stores[hdyrogen_minimums_max_flex_network_list[2].stores.carrier == 'EV battery'].e_nom.sum(), hdyrogen_minimums_max_flex_network_list[3].stores[hdyrogen_minimums_max_flex_network_list[3].stores.carrier == 'EV battery'].e_nom.sum()]\n",
    "EV_store_size\n"
   ]
  },
  {
   "cell_type": "code",
   "execution_count": 518,
   "id": "1decc6bc",
   "metadata": {},
   "outputs": [
    {
     "data": {
      "text/html": [
       "<div>\n",
       "<style scoped>\n",
       "    .dataframe tbody tr th:only-of-type {\n",
       "        vertical-align: middle;\n",
       "    }\n",
       "\n",
       "    .dataframe tbody tr th {\n",
       "        vertical-align: top;\n",
       "    }\n",
       "\n",
       "    .dataframe thead th {\n",
       "        text-align: right;\n",
       "    }\n",
       "</style>\n",
       "<table border=\"1\" class=\"dataframe\">\n",
       "  <thead>\n",
       "    <tr style=\"text-align: right;\">\n",
       "      <th></th>\n",
       "      <th>BAU no flex</th>\n",
       "      <th>BAU max flex</th>\n",
       "    </tr>\n",
       "  </thead>\n",
       "  <tbody>\n",
       "    <tr>\n",
       "      <th>2020</th>\n",
       "      <td>0.0</td>\n",
       "      <td>1800000.0</td>\n",
       "    </tr>\n",
       "    <tr>\n",
       "      <th>2030</th>\n",
       "      <td>0.0</td>\n",
       "      <td>1800000.0</td>\n",
       "    </tr>\n",
       "    <tr>\n",
       "      <th>2040</th>\n",
       "      <td>0.0</td>\n",
       "      <td>1800000.0</td>\n",
       "    </tr>\n",
       "    <tr>\n",
       "      <th>2050</th>\n",
       "      <td>0.0</td>\n",
       "      <td>1800000.0</td>\n",
       "    </tr>\n",
       "  </tbody>\n",
       "</table>\n",
       "</div>"
      ],
      "text/plain": [
       "      BAU no flex  BAU max flex\n",
       "2020          0.0     1800000.0\n",
       "2030          0.0     1800000.0\n",
       "2040          0.0     1800000.0\n",
       "2050          0.0     1800000.0"
      ]
     },
     "execution_count": 518,
     "metadata": {},
     "output_type": "execute_result"
    }
   ],
   "source": [
    "#Additional Storage Cacpacity\n",
    "def add_heat_store_capacity(network):\n",
    "    return (network.stores[network.stores.index.str.contains('storage', case = False)].e_nom.sum())\n",
    "\n",
    "#additional_heating_water_storage\n",
    "additional_heating_water_storage = pd.DataFrame() #in MWH \n",
    "additional_heating_water_storage.index = [2020, 2030, 2040, 2050]\n",
    "additional_heating_water_storage['BAU no flex'] = [add_heat_store_capacity(s) for s in hydrogen_minimums_no_flex_network_list]\n",
    "additional_heating_water_storage['BAU max flex'] = [add_heat_store_capacity(s) for s in hdyrogen_minimums_max_flex_network_list]\n",
    "\n",
    "additional_heating_water_storage"
   ]
  },
  {
   "cell_type": "code",
   "execution_count": 528,
   "id": "bae50bcb",
   "metadata": {},
   "outputs": [
    {
     "name": "stdout",
     "output_type": "stream",
     "text": [
      "Store\n",
      "Generator\n",
      "StorageUnit\n",
      "Line\n",
      "Link\n"
     ]
    },
    {
     "data": {
      "text/plain": [
       "258067530283.2598"
      ]
     },
     "execution_count": 528,
     "metadata": {},
     "output_type": "execute_result"
    }
   ],
   "source": [
    "electric_only_costs(hydrogen_minimums_max_flex_2020)[2].sum()"
   ]
  },
  {
   "cell_type": "code",
   "execution_count": null,
   "id": "18a35337",
   "metadata": {},
   "outputs": [],
   "source": [
    "electric_supply_from_the_sector_models()"
   ]
  },
  {
   "cell_type": "code",
   "execution_count": 538,
   "id": "0d4d0637",
   "metadata": {},
   "outputs": [
    {
     "name": "stdout",
     "output_type": "stream",
     "text": [
      "Renewable sum is : 6423182589.899633 \n",
      "Low Carbon sum is 782668002.7545943 \n",
      "Conventional sum is : 111858603.7698727\n"
     ]
    }
   ],
   "source": [
    "##Calculating renewable/conventional dispatch \n",
    "\n",
    "network = hydrogen_minimums_max_flex_2050\n",
    "renewables =  ['offwind-ac', 'offwind-dc', 'offwind-float', 'onwind', 'ror', 'solar', 'solar rooftop', 'solar-hsat', 'hydro', 'geothermal']\n",
    "low_carbon = ['nuclear', 'H2 turbine', 'H2 Fuel Cell', 'urban central solid biomass CHP', 'urban central solid biomass CHP CC']\n",
    "## didn't include PHS in renewables, it ultimately takes more from than it supplies -- is useful at certain times \n",
    "## nuclear and geothermal not considered, as considered low carbon rather than renewable\n",
    "conventionals = ['CCGT', 'OCGT', 'coal', 'lignite', 'oil', 'urban central CHP', 'urban central CHP CC']\n",
    "renewable_sum = pd.Series([electric_supply_from_the_sector_models(network)[key] for key in renewables]).sum()\n",
    "renewable_sum\n",
    "low_carbon_sum = pd.Series([electric_supply_from_the_sector_models(network)[key] for key in low_carbon]).sum()\n",
    "low_carbon_sum\n",
    "conventional_sum = pd.Series([electric_supply_from_the_sector_models(network)[key] for key in conventionals]).sum()\n",
    "conventional_sum\n",
    "\n",
    "print(f'Renewable sum is : {renewable_sum} \\nLow Carbon sum is {low_carbon_sum} \\nConventional sum is : {conventional_sum}')"
   ]
  },
  {
   "cell_type": "code",
   "execution_count": 539,
   "id": "3f662af4",
   "metadata": {},
   "outputs": [
    {
     "data": {
      "text/html": [
       "<style type=\"text/css\">\n",
       "#T_f4a38_row0_col0, #T_f4a38_row1_col0 {\n",
       "  background-color: #800610;\n",
       "  color: #f1f1f1;\n",
       "}\n",
       "#T_f4a38_row0_col1, #T_f4a38_row1_col1, #T_f4a38_row2_col2, #T_f4a38_row3_col2 {\n",
       "  background-color: #67000d;\n",
       "  color: #f1f1f1;\n",
       "}\n",
       "#T_f4a38_row0_col2, #T_f4a38_row0_col3, #T_f4a38_row1_col3, #T_f4a38_row2_col1, #T_f4a38_row3_col1 {\n",
       "  background-color: #fff5f0;\n",
       "  color: #000000;\n",
       "}\n",
       "#T_f4a38_row1_col2 {\n",
       "  background-color: #fee5d8;\n",
       "  color: #000000;\n",
       "}\n",
       "#T_f4a38_row2_col0 {\n",
       "  background-color: #fee5d9;\n",
       "  color: #000000;\n",
       "}\n",
       "#T_f4a38_row2_col3 {\n",
       "  background-color: #fb7353;\n",
       "  color: #f1f1f1;\n",
       "}\n",
       "#T_f4a38_row3_col0 {\n",
       "  background-color: #fee1d3;\n",
       "  color: #000000;\n",
       "}\n",
       "#T_f4a38_row3_col3 {\n",
       "  background-color: #fcad90;\n",
       "  color: #000000;\n",
       "}\n",
       "</style>\n",
       "<table id=\"T_f4a38\">\n",
       "  <thead>\n",
       "    <tr>\n",
       "      <th class=\"blank level0\" >&nbsp;</th>\n",
       "      <th id=\"T_f4a38_level0_col0\" class=\"col_heading level0 col0\" >BAU - no flex : wind</th>\n",
       "      <th id=\"T_f4a38_level0_col1\" class=\"col_heading level0 col1\" >BAU - max flex : wind</th>\n",
       "      <th id=\"T_f4a38_level0_col2\" class=\"col_heading level0 col2\" >BAU - no flex : solar</th>\n",
       "      <th id=\"T_f4a38_level0_col3\" class=\"col_heading level0 col3\" >BAU - max flex : solar</th>\n",
       "    </tr>\n",
       "  </thead>\n",
       "  <tbody>\n",
       "    <tr>\n",
       "      <th id=\"T_f4a38_level0_row0\" class=\"row_heading level0 row0\" >2020</th>\n",
       "      <td id=\"T_f4a38_row0_col0\" class=\"data row0 col0\" >16.468377</td>\n",
       "      <td id=\"T_f4a38_row0_col1\" class=\"data row0 col1\" >17.402388</td>\n",
       "      <td id=\"T_f4a38_row0_col2\" class=\"data row0 col2\" >0.016874</td>\n",
       "      <td id=\"T_f4a38_row0_col3\" class=\"data row0 col3\" >0.011675</td>\n",
       "    </tr>\n",
       "    <tr>\n",
       "      <th id=\"T_f4a38_level0_row1\" class=\"row_heading level0 row1\" >2030</th>\n",
       "      <td id=\"T_f4a38_row1_col0\" class=\"data row1 col0\" >6.527384</td>\n",
       "      <td id=\"T_f4a38_row1_col1\" class=\"data row1 col1\" >6.873002</td>\n",
       "      <td id=\"T_f4a38_row1_col2\" class=\"data row1 col2\" >0.813143</td>\n",
       "      <td id=\"T_f4a38_row1_col3\" class=\"data row1 col3\" >0.151465</td>\n",
       "    </tr>\n",
       "    <tr>\n",
       "      <th id=\"T_f4a38_level0_row2\" class=\"row_heading level0 row2\" >2040</th>\n",
       "      <td id=\"T_f4a38_row2_col0\" class=\"data row2 col0\" >1.978218</td>\n",
       "      <td id=\"T_f4a38_row2_col1\" class=\"data row2 col1\" >1.294641</td>\n",
       "      <td id=\"T_f4a38_row2_col2\" class=\"data row2 col2\" >8.420248</td>\n",
       "      <td id=\"T_f4a38_row2_col3\" class=\"data row2 col3\" >4.643589</td>\n",
       "    </tr>\n",
       "    <tr>\n",
       "      <th id=\"T_f4a38_level0_row3\" class=\"row_heading level0 row3\" >2050</th>\n",
       "      <td id=\"T_f4a38_row3_col0\" class=\"data row3 col0\" >0.578581</td>\n",
       "      <td id=\"T_f4a38_row3_col1\" class=\"data row3 col1\" >0.223703</td>\n",
       "      <td id=\"T_f4a38_row3_col2\" class=\"data row3 col2\" >3.140670</td>\n",
       "      <td id=\"T_f4a38_row3_col3\" class=\"data row3 col3\" >1.082338</td>\n",
       "    </tr>\n",
       "  </tbody>\n",
       "</table>\n"
      ],
      "text/plain": [
       "<pandas.io.formats.style.Styler at 0x36d476a50>"
      ]
     },
     "execution_count": 539,
     "metadata": {},
     "output_type": "execute_result"
    }
   ],
   "source": [
    "### Calculating Curtailment Fraction \n",
    "\n",
    "curtailment_dataframe = pd.DataFrame()\n",
    "curtailment_dataframe.index = [2020, 2030, 2040, 2050]\n",
    "curtailment_dataframe['BAU - no flex : wind'] = [curtailment_dataframe_calculation(s)['Curtailment Fraction (with respect to available power)'].loc[['offwind-ac', 'offwind-dc', 'offwind-float', 'onwind']].mean() for s in hydrogen_minimums_no_flex_network_list ]\n",
    "curtailment_dataframe['BAU - max flex : wind'] = [curtailment_dataframe_calculation(s)['Curtailment Fraction (with respect to available power)'].loc[['offwind-ac', 'offwind-dc', 'offwind-float', 'onwind']].mean() for s in hdyrogen_minimums_max_flex_network_list ]\n",
    "\n",
    "curtailment_dataframe['BAU - no flex : solar'] = [curtailment_dataframe_calculation(s)['Curtailment Fraction (with respect to available power)'].loc[['solar', 'solar rooftop', 'solar-hsat']].mean() for s in hydrogen_minimums_no_flex_network_list ]\n",
    "curtailment_dataframe['BAU - max flex : solar'] = [curtailment_dataframe_calculation(s)['Curtailment Fraction (with respect to available power)'].loc[['solar', 'solar rooftop', 'solar-hsat']].mean() for s in hdyrogen_minimums_max_flex_network_list ]\n",
    "\n",
    "\n",
    "\n",
    "curtailment_dataframe.style.background_gradient(cmap = plt.cm.Reds, axis =1 )"
   ]
  },
  {
   "cell_type": "code",
   "execution_count": 540,
   "id": "b36efe5d",
   "metadata": {},
   "outputs": [
    {
     "data": {
      "text/html": [
       "<style type=\"text/css\">\n",
       "#T_6964d_row0_col0, #T_6964d_row1_col0, #T_6964d_row2_col0, #T_6964d_row3_col2 {\n",
       "  background-color: #67000d;\n",
       "  color: #f1f1f1;\n",
       "}\n",
       "#T_6964d_row0_col1 {\n",
       "  background-color: #71020e;\n",
       "  color: #f1f1f1;\n",
       "}\n",
       "#T_6964d_row0_col2 {\n",
       "  background-color: #fff4ef;\n",
       "  color: #000000;\n",
       "}\n",
       "#T_6964d_row0_col3, #T_6964d_row1_col3, #T_6964d_row2_col3, #T_6964d_row3_col3 {\n",
       "  background-color: #fff5f0;\n",
       "  color: #000000;\n",
       "}\n",
       "#T_6964d_row1_col1 {\n",
       "  background-color: #f85f43;\n",
       "  color: #f1f1f1;\n",
       "}\n",
       "#T_6964d_row1_col2 {\n",
       "  background-color: #be151a;\n",
       "  color: #f1f1f1;\n",
       "}\n",
       "#T_6964d_row2_col1 {\n",
       "  background-color: #fcb99f;\n",
       "  color: #000000;\n",
       "}\n",
       "#T_6964d_row2_col2 {\n",
       "  background-color: #940b13;\n",
       "  color: #f1f1f1;\n",
       "}\n",
       "#T_6964d_row3_col0 {\n",
       "  background-color: #a50f15;\n",
       "  color: #f1f1f1;\n",
       "}\n",
       "#T_6964d_row3_col1 {\n",
       "  background-color: #fcc1a8;\n",
       "  color: #000000;\n",
       "}\n",
       "</style>\n",
       "<table id=\"T_6964d\">\n",
       "  <thead>\n",
       "    <tr>\n",
       "      <th class=\"blank level0\" >&nbsp;</th>\n",
       "      <th id=\"T_6964d_level0_col0\" class=\"col_heading level0 col0\" >BAU - no flex : wind</th>\n",
       "      <th id=\"T_6964d_level0_col1\" class=\"col_heading level0 col1\" >BAU - max flex : wind</th>\n",
       "      <th id=\"T_6964d_level0_col2\" class=\"col_heading level0 col2\" >BAU - no flex : solar</th>\n",
       "      <th id=\"T_6964d_level0_col3\" class=\"col_heading level0 col3\" >BAU - max flex : solar</th>\n",
       "    </tr>\n",
       "  </thead>\n",
       "  <tbody>\n",
       "    <tr>\n",
       "      <th id=\"T_6964d_level0_row0\" class=\"row_heading level0 row0\" >2020</th>\n",
       "      <td id=\"T_6964d_row0_col0\" class=\"data row0 col0\" >2453373.309898</td>\n",
       "      <td id=\"T_6964d_row0_col1\" class=\"data row0 col1\" >2401895.385384</td>\n",
       "      <td id=\"T_6964d_row0_col2\" class=\"data row0 col2\" >55221.271073</td>\n",
       "      <td id=\"T_6964d_row0_col3\" class=\"data row0 col3\" >38244.192250</td>\n",
       "    </tr>\n",
       "    <tr>\n",
       "      <th id=\"T_6964d_level0_row1\" class=\"row_heading level0 row1\" >2030</th>\n",
       "      <td id=\"T_6964d_row1_col0\" class=\"data row1 col0\" >3887258.884728</td>\n",
       "      <td id=\"T_6964d_row1_col1\" class=\"data row1 col1\" >2298199.517685</td>\n",
       "      <td id=\"T_6964d_row1_col2\" class=\"data row1 col2\" >3182661.437388</td>\n",
       "      <td id=\"T_6964d_row1_col3\" class=\"data row1 col3\" >501730.697261</td>\n",
       "    </tr>\n",
       "    <tr>\n",
       "      <th id=\"T_6964d_level0_row2\" class=\"row_heading level0 row2\" >2040</th>\n",
       "      <td id=\"T_6964d_row2_col0\" class=\"data row2 col0\" >26159828.355177</td>\n",
       "      <td id=\"T_6964d_row2_col1\" class=\"data row2 col1\" >16585201.877657</td>\n",
       "      <td id=\"T_6964d_row2_col2\" class=\"data row2 col2\" >24967479.915418</td>\n",
       "      <td id=\"T_6964d_row2_col3\" class=\"data row2 col3\" >13314677.128234</td>\n",
       "    </tr>\n",
       "    <tr>\n",
       "      <th id=\"T_6964d_level0_row3\" class=\"row_heading level0 row3\" >2050</th>\n",
       "      <td id=\"T_6964d_row3_col0\" class=\"data row3 col0\" >6875903.918685</td>\n",
       "      <td id=\"T_6964d_row3_col1\" class=\"data row3 col1\" >3538075.419877</td>\n",
       "      <td id=\"T_6964d_row3_col2\" class=\"data row3 col2\" >7544242.348996</td>\n",
       "      <td id=\"T_6964d_row3_col3\" class=\"data row3 col3\" >2319159.930024</td>\n",
       "    </tr>\n",
       "  </tbody>\n",
       "</table>\n"
      ],
      "text/plain": [
       "<pandas.io.formats.style.Styler at 0x32f3e1ee0>"
      ]
     },
     "execution_count": 540,
     "metadata": {},
     "output_type": "execute_result"
    }
   ],
   "source": [
    "### Calculating Curtailment Fraction \n",
    "\n",
    "curtailment_dataframe = pd.DataFrame()\n",
    "curtailment_dataframe.index = [2020, 2030, 2040, 2050]\n",
    "curtailment_dataframe['BAU - no flex : wind'] = [curtailment_dataframe_calculation(s)['Curtailment in MWh'].loc[['offwind-ac', 'offwind-dc', 'offwind-float', 'onwind']].mean() for s in hydrogen_minimums_no_flex_network_list ]\n",
    "curtailment_dataframe['BAU - max flex : wind'] = [curtailment_dataframe_calculation(s)['Curtailment in MWh'].loc[['offwind-ac', 'offwind-dc', 'offwind-float', 'onwind']].mean() for s in hdyrogen_minimums_max_flex_network_list ]\n",
    "\n",
    "curtailment_dataframe['BAU - no flex : solar'] = [curtailment_dataframe_calculation(s)['Curtailment in MWh'].loc[['solar', 'solar rooftop', 'solar-hsat']].mean() for s in hydrogen_minimums_no_flex_network_list ]\n",
    "curtailment_dataframe['BAU - max flex : solar'] = [curtailment_dataframe_calculation(s)['Curtailment in MWh'].loc[['solar', 'solar rooftop', 'solar-hsat']].mean() for s in hdyrogen_minimums_max_flex_network_list ]\n",
    "\n",
    "curtailment_dataframe.style.background_gradient(cmap = plt.cm.Reds, axis =1 )"
   ]
  },
  {
   "cell_type": "markdown",
   "id": "06be2739",
   "metadata": {},
   "source": [
    "## CCUS Scenario"
   ]
  },
  {
   "cell_type": "code",
   "execution_count": 541,
   "id": "f01debcc",
   "metadata": {},
   "outputs": [
    {
     "name": "stderr",
     "output_type": "stream",
     "text": [
      "INFO:pypsa.io:Imported network base_s_39___2020.nc has buses, carriers, generators, global_constraints, lines, links, loads, storage_units, stores\n",
      "INFO:pypsa.io:Imported network base_s_39___2030.nc has buses, carriers, generators, global_constraints, lines, links, loads, storage_units, stores\n",
      "INFO:pypsa.io:Imported network base_s_39___2040.nc has buses, carriers, generators, global_constraints, lines, links, loads, storage_units, stores\n",
      "INFO:pypsa.io:Imported network base_s_39___2050.nc has buses, carriers, generators, global_constraints, lines, links, loads, storage_units, stores\n"
     ]
    }
   ],
   "source": [
    "CCUS_no_flex_2020 = pypsa.Network('/Users/katherine.shaw/Desktop/Third Run Results/Carbon_minimums_no_flex/networks/base_s_39___2020.nc')\n",
    "CCUS_no_flex_2030 = pypsa.Network('/Users/katherine.shaw/Desktop/Third Run Results/Carbon_minimums_no_flex/networks/base_s_39___2030.nc')\n",
    "CCUS_no_flex_2040 = pypsa.Network('/Users/katherine.shaw/Desktop/Third Run Results/Carbon_minimums_no_flex/networks/base_s_39___2040.nc')\n",
    "CCUS_no_flex_2050 = pypsa.Network('/Users/katherine.shaw/Desktop/Third Run Results/Carbon_minimums_no_flex/networks/base_s_39___2050.nc')\n",
    "                                                                    "
   ]
  },
  {
   "cell_type": "code",
   "execution_count": 542,
   "id": "1c2d63bc",
   "metadata": {},
   "outputs": [
    {
     "name": "stderr",
     "output_type": "stream",
     "text": [
      "INFO:pypsa.io:Imported network base_s_39___2020.nc has buses, carriers, generators, global_constraints, lines, links, loads, storage_units, stores\n",
      "INFO:pypsa.io:Imported network base_s_39___2030.nc has buses, carriers, generators, global_constraints, lines, links, loads, storage_units, stores\n",
      "INFO:pypsa.io:Imported network base_s_39___2040.nc has buses, carriers, generators, global_constraints, lines, links, loads, storage_units, stores\n",
      "INFO:pypsa.io:Imported network base_s_39___2050.nc has buses, carriers, generators, global_constraints, lines, links, loads, storage_units, stores\n"
     ]
    }
   ],
   "source": [
    "CCUS_max_flex_2020 = pypsa.Network('/Users/katherine.shaw/Desktop/Third Run Results/CCUS_min_max_flex/networks/base_s_39___2020.nc')\n",
    "CCUS_max_flex_2030 = pypsa.Network('/Users/katherine.shaw/Desktop/Third Run Results/CCUS_min_max_flex/networks/base_s_39___2030.nc')\n",
    "CCUS_max_flex_2040 = pypsa.Network('/Users/katherine.shaw/Desktop/Third Run Results/CCUS_min_max_flex/networks/base_s_39___2040.nc')\n",
    "CCUS_max_flex_2050 = pypsa.Network('/Users/katherine.shaw/Desktop/Third Run Results/CCUS_min_max_flex/networks/base_s_39___2050.nc')"
   ]
  },
  {
   "cell_type": "code",
   "execution_count": 563,
   "id": "57bd737f",
   "metadata": {},
   "outputs": [],
   "source": [
    "CCUS_no_flex_network_list = [CCUS_no_flex_2020, CCUS_no_flex_2030, CCUS_no_flex_2040, CCUS_no_flex_2050 ]\n",
    "CCUS_max_flex_network_list = [CCUS_max_flex_2020, CCUS_max_flex_2030, CCUS_max_flex_2040, CCUS_max_flex_2050 ]"
   ]
  },
  {
   "cell_type": "code",
   "execution_count": 554,
   "id": "d8ff615b",
   "metadata": {},
   "outputs": [
    {
     "name": "stdout",
     "output_type": "stream",
     "text": [
      "Store\n",
      "Generator\n",
      "StorageUnit\n",
      "Line\n",
      "Link\n"
     ]
    },
    {
     "data": {
      "text/plain": [
       "500060461699.18524"
      ]
     },
     "execution_count": 554,
     "metadata": {},
     "output_type": "execute_result"
    }
   ],
   "source": [
    "electric_only_costs(CCUS_max_flex_2050)[2].sum()"
   ]
  },
  {
   "cell_type": "code",
   "execution_count": 562,
   "id": "d50eb7c9",
   "metadata": {},
   "outputs": [
    {
     "name": "stdout",
     "output_type": "stream",
     "text": [
      "Renewable sum is : 8728168168.765526 \n",
      "Low Carbon sum is 280595355.8877692 \n",
      "Conventional sum is : 42720459.25499825\n"
     ]
    }
   ],
   "source": [
    "##Calculating renewable/conventional dispatch \n",
    "\n",
    "network = CCUS_max_flex_2050\n",
    "renewables =  ['offwind-ac', 'offwind-dc', 'offwind-float', 'onwind', 'ror', 'solar', 'solar rooftop', 'solar-hsat', 'hydro', 'geothermal']\n",
    "low_carbon = ['nuclear', 'H2 turbine', 'H2 Fuel Cell', 'urban central solid biomass CHP', 'urban central solid biomass CHP CC']\n",
    "## didn't include PHS in renewables, it ultimately takes more from than it supplies -- is useful at certain times \n",
    "## nuclear and geothermal not considered, as considered low carbon rather than renewable\n",
    "conventionals = ['CCGT', 'OCGT', 'coal', 'lignite', 'oil', 'urban central CHP', 'urban central CHP CC']\n",
    "renewable_sum = pd.Series([electric_supply_from_the_sector_models(network)[key] for key in renewables]).sum()\n",
    "renewable_sum\n",
    "low_carbon_sum = pd.Series([electric_supply_from_the_sector_models(network)[key] for key in low_carbon]).sum()\n",
    "low_carbon_sum\n",
    "conventional_sum = pd.Series([electric_supply_from_the_sector_models(network)[key] for key in conventionals]).sum()\n",
    "conventional_sum\n",
    "\n",
    "print(f'Renewable sum is : {renewable_sum} \\nLow Carbon sum is {low_carbon_sum} \\nConventional sum is : {conventional_sum}')"
   ]
  },
  {
   "cell_type": "code",
   "execution_count": null,
   "id": "dd2bfa55",
   "metadata": {},
   "outputs": [
    {
     "data": {
      "text/html": [
       "<style type=\"text/css\">\n",
       "#T_a74fc_row0_col0, #T_a74fc_row1_col0, #T_a74fc_row2_col2, #T_a74fc_row3_col2 {\n",
       "  background-color: #67000d;\n",
       "  color: #f1f1f1;\n",
       "}\n",
       "#T_a74fc_row0_col1 {\n",
       "  background-color: #71020e;\n",
       "  color: #f1f1f1;\n",
       "}\n",
       "#T_a74fc_row0_col2, #T_a74fc_row0_col3, #T_a74fc_row1_col3, #T_a74fc_row2_col1, #T_a74fc_row3_col1 {\n",
       "  background-color: #fff5f0;\n",
       "  color: #000000;\n",
       "}\n",
       "#T_a74fc_row1_col1 {\n",
       "  background-color: #7a0510;\n",
       "  color: #f1f1f1;\n",
       "}\n",
       "#T_a74fc_row1_col2 {\n",
       "  background-color: #fee0d2;\n",
       "  color: #000000;\n",
       "}\n",
       "#T_a74fc_row2_col0 {\n",
       "  background-color: #fff2ec;\n",
       "  color: #000000;\n",
       "}\n",
       "#T_a74fc_row2_col3 {\n",
       "  background-color: #e32f27;\n",
       "  color: #f1f1f1;\n",
       "}\n",
       "#T_a74fc_row3_col0 {\n",
       "  background-color: #fff0e8;\n",
       "  color: #000000;\n",
       "}\n",
       "#T_a74fc_row3_col3 {\n",
       "  background-color: #fc8b6b;\n",
       "  color: #f1f1f1;\n",
       "}\n",
       "</style>\n",
       "<table id=\"T_a74fc\">\n",
       "  <thead>\n",
       "    <tr>\n",
       "      <th class=\"blank level0\" >&nbsp;</th>\n",
       "      <th id=\"T_a74fc_level0_col0\" class=\"col_heading level0 col0\" >BAU - no flex : wind</th>\n",
       "      <th id=\"T_a74fc_level0_col1\" class=\"col_heading level0 col1\" >BAU - max flex : wind</th>\n",
       "      <th id=\"T_a74fc_level0_col2\" class=\"col_heading level0 col2\" >BAU - no flex : solar</th>\n",
       "      <th id=\"T_a74fc_level0_col3\" class=\"col_heading level0 col3\" >BAU - max flex : solar</th>\n",
       "    </tr>\n",
       "  </thead>\n",
       "  <tbody>\n",
       "    <tr>\n",
       "      <th id=\"T_a74fc_level0_row0\" class=\"row_heading level0 row0\" >2020</th>\n",
       "      <td id=\"T_a74fc_row0_col0\" class=\"data row0 col0\" >17.510038</td>\n",
       "      <td id=\"T_a74fc_row0_col1\" class=\"data row0 col1\" >17.105891</td>\n",
       "      <td id=\"T_a74fc_row0_col2\" class=\"data row0 col2\" >0.017103</td>\n",
       "      <td id=\"T_a74fc_row0_col3\" class=\"data row0 col3\" >0.011675</td>\n",
       "    </tr>\n",
       "    <tr>\n",
       "      <th id=\"T_a74fc_level0_row1\" class=\"row_heading level0 row1\" >2030</th>\n",
       "      <td id=\"T_a74fc_row1_col0\" class=\"data row1 col0\" >5.578610</td>\n",
       "      <td id=\"T_a74fc_row1_col1\" class=\"data row1 col1\" >5.354806</td>\n",
       "      <td id=\"T_a74fc_row1_col2\" class=\"data row1 col2\" >0.815077</td>\n",
       "      <td id=\"T_a74fc_row1_col3\" class=\"data row1 col3\" >0.126771</td>\n",
       "    </tr>\n",
       "    <tr>\n",
       "      <th id=\"T_a74fc_level0_row2\" class=\"row_heading level0 row2\" >2040</th>\n",
       "      <td id=\"T_a74fc_row2_col0\" class=\"data row2 col0\" >5.259733</td>\n",
       "      <td id=\"T_a74fc_row2_col1\" class=\"data row2 col1\" >4.984297</td>\n",
       "      <td id=\"T_a74fc_row2_col2\" class=\"data row2 col2\" >22.239419</td>\n",
       "      <td id=\"T_a74fc_row2_col3\" class=\"data row2 col3\" >16.486746</td>\n",
       "    </tr>\n",
       "    <tr>\n",
       "      <th id=\"T_a74fc_level0_row3\" class=\"row_heading level0 row3\" >2050</th>\n",
       "      <td id=\"T_a74fc_row3_col0\" class=\"data row3 col0\" >1.952865</td>\n",
       "      <td id=\"T_a74fc_row3_col1\" class=\"data row3 col1\" >1.451706</td>\n",
       "      <td id=\"T_a74fc_row3_col2\" class=\"data row3 col2\" >16.651947</td>\n",
       "      <td id=\"T_a74fc_row3_col3\" class=\"data row3 col3\" >7.451907</td>\n",
       "    </tr>\n",
       "  </tbody>\n",
       "</table>\n"
      ],
      "text/plain": [
       "<pandas.io.formats.style.Styler at 0x33fa555e0>"
      ]
     },
     "execution_count": 564,
     "metadata": {},
     "output_type": "execute_result"
    }
   ],
   "source": [
    "### Calculating Curtailment Fraction \n",
    "\n",
    "curtailment_dataframe = pd.DataFrame()\n",
    "curtailment_dataframe.index = [2020, 2030, 2040, 2050]\n",
    "curtailment_dataframe['CCUS - no flex : wind'] = [curtailment_dataframe_calculation(s)['Curtailment Fraction (with respect to available power)'].loc[['offwind-ac', 'offwind-dc', 'offwind-float', 'onwind']].mean() for s in CCUS_no_flex_network_list ]\n",
    "curtailment_dataframe['CCUS- max flex : wind'] = [curtailment_dataframe_calculation(s)['Curtailment Fraction (with respect to available power)'].loc[['offwind-ac', 'offwind-dc', 'offwind-float', 'onwind']].mean() for s in CCUS_max_flex_network_list ]\n",
    "\n",
    "curtailment_dataframe['CCUS- no flex : solar'] = [curtailment_dataframe_calculation(s)['Curtailment Fraction (with respect to available power)'].loc[['solar', 'solar rooftop', 'solar-hsat']].mean() for s in CCUS_no_flex_network_list ]\n",
    "curtailment_dataframe['CCUS - max flex : solar'] = [curtailment_dataframe_calculation(s)['Curtailment Fraction (with respect to available power)'].loc[['solar', 'solar rooftop', 'solar-hsat']].mean() for s in CCUS_max_flex_network_list ]\n",
    "\n",
    "\n",
    "\n",
    "curtailment_dataframe.style.background_gradient(cmap = plt.cm.Reds, axis =1 )"
   ]
  },
  {
   "cell_type": "code",
   "execution_count": 565,
   "id": "83c2a7c2",
   "metadata": {},
   "outputs": [
    {
     "data": {
      "text/html": [
       "<style type=\"text/css\">\n",
       "#T_09029_row0_col0, #T_09029_row1_col0, #T_09029_row2_col2, #T_09029_row3_col2 {\n",
       "  background-color: #67000d;\n",
       "  color: #f1f1f1;\n",
       "}\n",
       "#T_09029_row0_col1 {\n",
       "  background-color: #71020e;\n",
       "  color: #f1f1f1;\n",
       "}\n",
       "#T_09029_row0_col2 {\n",
       "  background-color: #fff4ef;\n",
       "  color: #000000;\n",
       "}\n",
       "#T_09029_row0_col3, #T_09029_row1_col3, #T_09029_row2_col3, #T_09029_row3_col3 {\n",
       "  background-color: #fff5f0;\n",
       "  color: #000000;\n",
       "}\n",
       "#T_09029_row1_col1 {\n",
       "  background-color: #fc7f5f;\n",
       "  color: #f1f1f1;\n",
       "}\n",
       "#T_09029_row1_col2 {\n",
       "  background-color: #d32020;\n",
       "  color: #f1f1f1;\n",
       "}\n",
       "#T_09029_row2_col0 {\n",
       "  background-color: #a81016;\n",
       "  color: #f1f1f1;\n",
       "}\n",
       "#T_09029_row2_col1 {\n",
       "  background-color: #f03d2d;\n",
       "  color: #f1f1f1;\n",
       "}\n",
       "#T_09029_row3_col0 {\n",
       "  background-color: #fcc4ad;\n",
       "  color: #000000;\n",
       "}\n",
       "#T_09029_row3_col1 {\n",
       "  background-color: #fff0e9;\n",
       "  color: #000000;\n",
       "}\n",
       "</style>\n",
       "<table id=\"T_09029\">\n",
       "  <thead>\n",
       "    <tr>\n",
       "      <th class=\"blank level0\" >&nbsp;</th>\n",
       "      <th id=\"T_09029_level0_col0\" class=\"col_heading level0 col0\" >CCUS - no flex : wind</th>\n",
       "      <th id=\"T_09029_level0_col1\" class=\"col_heading level0 col1\" >CCUS - max flex : wind</th>\n",
       "      <th id=\"T_09029_level0_col2\" class=\"col_heading level0 col2\" >CCUS - no flex : solar</th>\n",
       "      <th id=\"T_09029_level0_col3\" class=\"col_heading level0 col3\" >CCUS - max flex : solar</th>\n",
       "    </tr>\n",
       "  </thead>\n",
       "  <tbody>\n",
       "    <tr>\n",
       "      <th id=\"T_09029_level0_row0\" class=\"row_heading level0 row0\" >2020</th>\n",
       "      <td id=\"T_09029_row0_col0\" class=\"data row0 col0\" >2452539.808068</td>\n",
       "      <td id=\"T_09029_row0_col1\" class=\"data row0 col1\" >2403900.949759</td>\n",
       "      <td id=\"T_09029_row0_col2\" class=\"data row0 col2\" >56041.100320</td>\n",
       "      <td id=\"T_09029_row0_col3\" class=\"data row0 col3\" >38235.039403</td>\n",
       "    </tr>\n",
       "    <tr>\n",
       "      <th id=\"T_09029_level0_row1\" class=\"row_heading level0 row1\" >2030</th>\n",
       "      <td id=\"T_09029_row1_col0\" class=\"data row1 col0\" >4736250.322263</td>\n",
       "      <td id=\"T_09029_row1_col1\" class=\"data row1 col1\" >2296263.964354</td>\n",
       "      <td id=\"T_09029_row1_col2\" class=\"data row1 col2\" >3533745.129835</td>\n",
       "      <td id=\"T_09029_row1_col3\" class=\"data row1 col3\" >419715.753526</td>\n",
       "    </tr>\n",
       "    <tr>\n",
       "      <th id=\"T_09029_level0_row2\" class=\"row_heading level0 row2\" >2040</th>\n",
       "      <td id=\"T_09029_row2_col0\" class=\"data row2 col0\" >87210251.329777</td>\n",
       "      <td id=\"T_09029_row2_col1\" class=\"data row2 col1\" >79729253.186518</td>\n",
       "      <td id=\"T_09029_row2_col2\" class=\"data row2 col2\" >91207443.899013</td>\n",
       "      <td id=\"T_09029_row2_col3\" class=\"data row2 col3\" >61141028.800360</td>\n",
       "    </tr>\n",
       "    <tr>\n",
       "      <th id=\"T_09029_level0_row3\" class=\"row_heading level0 row3\" >2050</th>\n",
       "      <td id=\"T_09029_row3_col0\" class=\"data row3 col0\" >27901621.627160</td>\n",
       "      <td id=\"T_09029_row3_col1\" class=\"data row3 col1\" >22251117.899656</td>\n",
       "      <td id=\"T_09029_row3_col2\" class=\"data row3 col2\" >50910261.980748</td>\n",
       "      <td id=\"T_09029_row3_col3\" class=\"data row3 col3\" >21391261.374375</td>\n",
       "    </tr>\n",
       "  </tbody>\n",
       "</table>\n"
      ],
      "text/plain": [
       "<pandas.io.formats.style.Styler at 0x317d689b0>"
      ]
     },
     "execution_count": 565,
     "metadata": {},
     "output_type": "execute_result"
    }
   ],
   "source": [
    "### Calculating Curtailment Fraction \n",
    "\n",
    "curtailment_dataframe = pd.DataFrame()\n",
    "curtailment_dataframe.index = [2020, 2030, 2040, 2050]\n",
    "curtailment_dataframe['CCUS - no flex : wind'] = [curtailment_dataframe_calculation(s)['Curtailment in MWh'].loc[['offwind-ac', 'offwind-dc', 'offwind-float', 'onwind']].mean() for s in CCUS_no_flex_network_list ]\n",
    "curtailment_dataframe['CCUS - max flex : wind'] = [curtailment_dataframe_calculation(s)['Curtailment in MWh'].loc[['offwind-ac', 'offwind-dc', 'offwind-float', 'onwind']].mean() for s in CCUS_max_flex_network_list ]\n",
    "\n",
    "curtailment_dataframe['CCUS - no flex : solar'] = [curtailment_dataframe_calculation(s)['Curtailment in MWh'].loc[['solar', 'solar rooftop', 'solar-hsat']].mean() for s in CCUS_no_flex_network_list ]\n",
    "curtailment_dataframe['CCUS - max flex : solar'] = [curtailment_dataframe_calculation(s)['Curtailment in MWh'].loc[['solar', 'solar rooftop', 'solar-hsat']].mean() for s in CCUS_max_flex_network_list ]\n",
    "\n",
    "curtailment_dataframe.style.background_gradient(cmap = plt.cm.Reds, axis =1 )"
   ]
  },
  {
   "cell_type": "markdown",
   "id": "53916a2b",
   "metadata": {},
   "source": [
    "## To Change the cost to have high hydrogen"
   ]
  },
  {
   "cell_type": "code",
   "execution_count": null,
   "id": "c6a712ea",
   "metadata": {},
   "outputs": [],
   "source": [
    "#loading costs files \n",
    "costs_2020 = pd.read_csv('/Users/katherine.shaw/Desktop/pypsa-eur/resources/costs_2020.csv')\n",
    "costs_2030 = pd.read_csv('/Users/katherine.shaw/Desktop/pypsa-eur/resources/costs_2030.csv')\n",
    "costs_2040 = pd.read_csv('/Users/katherine.shaw/Desktop/pypsa-eur/resources/costs_2040.csv')\n",
    "costs_2050 = pd.read_csv('/Users/katherine.shaw/Desktop/pypsa-eur/resources/costs_2050.csv')\n",
    "\n",
    "#Electrolysis \n",
    "cost_file = costs_2020.copy()\n",
    "electrolysis_index = cost_file[cost_file.technology == 'electrolysis'][cost_file.parameter == 'investment']['value'].index\n",
    "old_value = cost_file.loc[electrolysis_index, 'value'].item() #= 10000.0 #need to use location based indexing\n",
    "new_value = old_value * 15 \n",
    "new_value\n",
    "cost_file.loc[electrolysis_index, 'value'] = new_value\n",
    "\n",
    "#Electrlysis Small \n",
    "electrolysis_index = cost_file[cost_file.technology == 'electrolysis small'][cost_file.parameter == 'investment']['value'].index\n",
    "old_value = cost_file.loc[electrolysis_index, 'value'].item() #= 10000.0 #need to use location based indexing\n",
    "new_value = old_value * 15 \n",
    "new_value\n",
    "cost_file.loc[electrolysis_index, 'value'] = new_value\n",
    "cost_file.loc[electrolysis_index, 'value']\n",
    "\n",
    "#SMR \n",
    "electrolysis_index = cost_file[cost_file.technology == 'SMR'][cost_file.parameter == 'investment']['value'].index\n",
    "old_value = cost_file.loc[electrolysis_index, 'value'].item() #= 10000.0 #need to use location based indexing\n",
    "new_value = old_value * 15 \n",
    "cost_file.loc[electrolysis_index, 'value'] = new_value\n",
    "cost_file.loc[electrolysis_index, 'value']\n",
    "\n",
    "#the second steam methane reforming \n",
    "electrolysis_index = cost_file[cost_file.technology == 'Steam methane reforming'][cost_file.parameter == 'investment']['value'].index\n",
    "old_value = cost_file.loc[electrolysis_index, 'value'].item() #= 10000.0 #need to use location based indexing\n",
    "new_value = old_value * 15 \n",
    "cost_file.loc[electrolysis_index, 'value'] = new_value\n",
    "cost_file.loc[electrolysis_index, 'value']\n",
    "\n",
    "#SMRCC\n",
    "electrolysis_index = cost_file[cost_file.technology == 'SMR CC'][cost_file.parameter == 'investment']['value'].index\n",
    "old_value = cost_file.loc[electrolysis_index, 'value'].item() #= 10000.0 #need to use location based indexing\n",
    "new_value = old_value * 15 \n",
    "cost_file.loc[electrolysis_index, 'value'] = new_value\n",
    "cost_file.loc[electrolysis_index, 'value']\n",
    "\n",
    "\n",
    "#H2 Pipelines\n",
    "electrolysis_index = cost_file[cost_file.technology == 'H2 pipeline'][cost_file.parameter == 'investment']['value'].index\n",
    "old_value = cost_file.loc[electrolysis_index, 'value'].item() #= 10000.0 #need to use location based indexing\n",
    "new_value = old_value * 15 \n",
    "cost_file.loc[electrolysis_index, 'value'] = new_value\n",
    "cost_file.loc[electrolysis_index, 'value']\n",
    "\n",
    "\n",
    "#H2 Pipelines retrofitted \n",
    "#didn't find\n",
    "\n",
    "#H2 fuel cell\n",
    "#not necesary to minimize, I'm trying to find what is the least amoung of hydrogen \n",
    "\n",
    "\n"
   ]
  },
  {
   "cell_type": "code",
   "execution_count": null,
   "id": "cd268cad",
   "metadata": {},
   "outputs": [],
   "source": [
    "def electric_system_cost(network):\n",
    "    electric_components:\n",
    "    return cost "
   ]
  }
 ],
 "metadata": {
  "kernelspec": {
   "display_name": "pypsa-eur",
   "language": "python",
   "name": "python3"
  },
  "language_info": {
   "codemirror_mode": {
    "name": "ipython",
    "version": 3
   },
   "file_extension": ".py",
   "mimetype": "text/x-python",
   "name": "python",
   "nbconvert_exporter": "python",
   "pygments_lexer": "ipython3",
   "version": "3.12.10"
  }
 },
 "nbformat": 4,
 "nbformat_minor": 5
}
